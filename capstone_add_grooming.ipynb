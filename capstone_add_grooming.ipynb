{
 "cells": [
  {
   "cell_type": "code",
   "execution_count": 1,
   "metadata": {
    "collapsed": true
   },
   "outputs": [],
   "source": [
    "import numpy as np\n",
    "import pandas as pd\n",
    "import matplotlib.pyplot as plt\n",
    "%matplotlib inline\n",
    "from sklearn.linear_model import LogisticRegression\n",
    "from sklearn.model_selection import train_test_split\n",
    "from sklearn.tree import DecisionTreeClassifier\n",
    "from sklearn.neighbors import KNeighborsClassifier\n",
    "from sklearn.ensemble import RandomForestClassifier, AdaBoostClassifier, GradientBoostingClassifier\n",
    "from sklearn.linear_model import SGDClassifier"
   ]
  },
  {
   "cell_type": "code",
   "execution_count": 2,
   "metadata": {},
   "outputs": [],
   "source": [
    "run comb_tables.py"
   ]
  },
  {
   "cell_type": "code",
   "execution_count": 3,
   "metadata": {},
   "outputs": [
    {
     "name": "stderr",
     "output_type": "stream",
     "text": [
      "/home/karen/anaconda3/lib/python3.6/site-packages/ipykernel_launcher.py:2: SettingWithCopyWarning: \n",
      "A value is trying to be set on a copy of a slice from a DataFrame\n",
      "\n",
      "See the caveats in the documentation: http://pandas.pydata.org/pandas-docs/stable/indexing.html#indexing-view-versus-copy\n",
      "  \n",
      "/home/karen/anaconda3/lib/python3.6/site-packages/ipykernel_launcher.py:3: SettingWithCopyWarning: \n",
      "A value is trying to be set on a copy of a slice from a DataFrame\n",
      "\n",
      "See the caveats in the documentation: http://pandas.pydata.org/pandas-docs/stable/indexing.html#indexing-view-versus-copy\n",
      "  This is separate from the ipykernel package so we can avoid doing imports until\n",
      "/home/karen/anaconda3/lib/python3.6/site-packages/ipykernel_launcher.py:4: SettingWithCopyWarning: \n",
      "A value is trying to be set on a copy of a slice from a DataFrame\n",
      "\n",
      "See the caveats in the documentation: http://pandas.pydata.org/pandas-docs/stable/indexing.html#indexing-view-versus-copy\n",
      "  after removing the cwd from sys.path.\n"
     ]
    }
   ],
   "source": [
    "whole_table['ability_level'][whole_table['ability_level'] == 'Advanced Intermediate'] = 'Advanced'\n",
    "whole_table['ability_level'][whole_table['ability_level'] == 'Adv. Intermediate'] = 'Advanced'\n",
    "whole_table['ability_level'][whole_table['ability_level'] == 'Hike To'] = 'Expert'\n",
    "whole_table['ability_level'][whole_table['ability_level'] == 'Exp Bowl'] = 'Expert'"
   ]
  },
  {
   "cell_type": "code",
   "execution_count": 4,
   "metadata": {},
   "outputs": [],
   "source": [
    "loveland = whole_table[whole_table['resort'] == 'Loveland']\n",
    "AB = whole_table[whole_table['resort'] == 'Arapahoe Basin']\n",
    "copper = whole_table[whole_table['resort'] == 'Copper'] \n",
    "eldora = whole_table[whole_table['resort'] == 'Eldora']\n",
    "AM = whole_table[whole_table['resort'] == 'Alpine Meadows']\n",
    "vail = whole_table[whole_table['resort'] == 'Vail']\n",
    "monarch = whole_table[whole_table['resort'] == 'Monarch'] \n",
    "CB = whole_table[whole_table['resort'] == 'Crested Butte']\n",
    "taos = whole_table[whole_table['resort'] == 'Taos']\n",
    "DP = whole_table[whole_table['resort'] == 'Diamond Peak']\n",
    "WP = whole_table[whole_table['resort'] == 'Winter Park']\n",
    "\n",
    "resorts = [loveland,AB,copper,eldora,AM,vail,monarch,CB,taos,DP,WP]"
   ]
  },
  {
   "cell_type": "code",
   "execution_count": 40,
   "metadata": {},
   "outputs": [
    {
     "name": "stderr",
     "output_type": "stream",
     "text": [
      "/home/karen/anaconda3/lib/python3.6/site-packages/ipykernel_launcher.py:4: SettingWithCopyWarning: \n",
      "A value is trying to be set on a copy of a slice from a DataFrame.\n",
      "Try using .loc[row_indexer,col_indexer] = value instead\n",
      "\n",
      "See the caveats in the documentation: http://pandas.pydata.org/pandas-docs/stable/indexing.html#indexing-view-versus-copy\n",
      "  after removing the cwd from sys.path.\n",
      "/home/karen/anaconda3/lib/python3.6/site-packages/ipykernel_launcher.py:10: SettingWithCopyWarning: \n",
      "A value is trying to be set on a copy of a slice from a DataFrame.\n",
      "Try using .loc[row_indexer,col_indexer] = value instead\n",
      "\n",
      "See the caveats in the documentation: http://pandas.pydata.org/pandas-docs/stable/indexing.html#indexing-view-versus-copy\n",
      "  # Remove the CWD from sys.path while we load stuff.\n"
     ]
    }
   ],
   "source": [
    "trail_names_to_fix = [copper,AM,vail,monarch,CB,taos,DP]\n",
    "\n",
    "def fix_trail_names(df):\n",
    "    df['trail_name'] = df['trail_name'].apply(lambda x: ' '.join(x.split()[1:]))\n",
    "    return df\n",
    "\n",
    "for trail in trail_names_to_fix:\n",
    "    fix_trail_names(trail)\n",
    "\n",
    "copper['trail_name'] = copper['trail_name'].apply(lambda x: ' '.join([i for i in x.split() if i[0].isnumeric() == False]))"
   ]
  },
  {
   "cell_type": "code",
   "execution_count": 64,
   "metadata": {
    "collapsed": true
   },
   "outputs": [],
   "source": [
    "groomed_LL = ['Take Off', 'Cat Walk', 'Mambo', 'Home Run', 'Spillway', 'Tempest', 'Tango Road', 'Turtle Creek', \"Richard's Run\",\n",
    "           'Fire Bowl', 'North Turtle Creek', 'Drifter', 'Switchback (Lower)', 'Switchback (Upper)', 'Boomerang',\n",
    "           'Zig-Zag', 'Twist (Lower)', 'Twist (Upper)', 'Creek Trail', 'Lower Creek Trail', 'Perfect Bowl', 'Scrub',\n",
    "           'Apollo (Upper)', 'Telestar', 'Deuces Wild', 'Forest Meadow', 'Roulette', 'Keno', 'Royal Flush', 'Straight Flush',\n",
    "           'Take Off', 'All Smiles', 'Zip Trail', 'Zippity Split', \"Chet's Run\", 'Awesome', 'Rookie Road','Magic Carpet Slope']\n",
    "\n",
    "groomed_AB = ['Wrangler Lower', 'Wrangler Middle', 'Wrangler Upper', 'Chisholm', 'Chisholm Trail', 'Sundance',\n",
    "              'Molly Hogan Upper', 'High Noon', 'Lenawee Face', 'Humbug', 'Powerline', 'West Wall', 'Grizzly Road',\n",
    "              'Lenawee Parks', \"Dercum's Gulch\", 'Norway Face', 'Cornice Run I', 'Cornice Run II', 'West Gully', 'Knolls',\n",
    "              'Falcon', 'Larkspur', 'Independence', 'Columbine', 'Shining Light', 'Molly Hogan 1', 'Molly Hogan 2',\n",
    "              \"Molly's Magic Carpet\", 'Carpet II']\n",
    "\n",
    "groomed_c = ['Lower Easy Road Traverse', 'Upper Easy Road Traverse', 'Upper Leap Frog', 'Bittersweet',\n",
    "             'Bouncer', 'Fair Play', 'Foul Play', 'Main Vein', 'Rhapsody', 'Coppertone', 'Easy Road Too', 'Lower High Point',\n",
    "             'Middle High Point', 'Upper High Point', 'Woodwinds', 'Woodwinds Traverse', 'Otto Bahn', 'Rattler', 'Ptarmigan',\n",
    "             'Green Acres', 'Lower Roundabout', 'Upper Roundabout', 'Middle Roundabout', 'Clear  Cut', 'Lower Sluice', 'Union Park',\n",
    "             'Triple Zero', 'Upper Lillie G', \"Andy's Encore\", 'Collage', 'Oh No', 'Skid Road', 'Upper Skid Road', \"Rosi's Run\",\n",
    "             'I-Way', 'Minor Matter', 'Lower Soliloquy', 'Upper Soliloquy', 'American Flyer', 'The Moz', 'Windsong', 'Lower Carefree',\n",
    "             'Upper Carefree', \"Lower Easy Feelin'\", \"Upper Easy Feelin'\", 'Hidden Vein', 'Vein Glory', 'Lower Loverly', 'Scooter',\n",
    "             'Gem', 'Easy Rider', 'Rugrat', 'The Glide', 'Slingshot', 'Clear Cut', 'Copperopolis']\n",
    "\n",
    "groomed_e = ['']\n",
    "\n",
    "\n",
    "groomed_AM = ['East Creek', 'Weasel Run', 'Lakeview to Weasel', \"Nick’s Run\", 'Leisure Lane', 'Outer Limits', 'Shooting Star',\n",
    "              'Twilight Zone', 'Meadow Run', 'Charity', 'Dance Floor', 'Rock Garden', \"Sandy’s Corner\", \"Werner’s Schuss\", \n",
    "              \"Bobby’s Run\", 'Winter Road', 'Summer Road', 'Maid Marian', \"Ray’s Rut\", \"Reily’s Run\", 'Sherwood Run', \n",
    "              'Return Road', 'Subway Run', 'Alpine Bowl', \"Loop Road\", 'Sun Spot', 'Wolverine', 'D-8', 'Teaching Terrain',\n",
    "              \"Yellow Trail\", 'Ladies Slalom', \"Scott Ridge Run\", \"Mountain View\", 'Terry’s Return']\n",
    "\n",
    "groomed_v = ['Boomer', 'Flapjack', 'Gopher Hill', 'Northstar', \"Ruder's Route\", 'Sourdough', 'Tin Pants', 'Tin Pants Catwalk',\n",
    "             'Whippersnapper', 'Whiskey Jack', 'Whiskey Jack Catwalk', 'Avanti Lower', 'Avanti Upper', 'Bear Tree', 'Expresso',\n",
    "             'Hunky Dory', 'Mid-Vail Express', 'Overeasy', 'Ramshorn', 'Swingsville', 'The Meadows', 'Swingsville Ridge', 'Born Free',\n",
    "             'Columbine', \"Dealer's Choice\", 'Lost Boy', 'Lodgepole', 'Ouzo', 'Pickeroon', 'Pickeroon Lower', 'Practice Pkwy',\n",
    "             'Simba Lower', 'Simba Upper', 'The Preserve', 'Yonder', 'Chopstix', 'Poppyfields West', 'Big Rock Park', 'Could 9',\n",
    "             'The Star', 'Coyote Crossing', 'Showboat']\n",
    "\n",
    "groomed_m = ['G lade', 'Little Joe', 'Lower Tango', 'Rookie', 'Roundabout', 'Sidewinder', 'Sky Walker I', 'Sleepy Hollow',\n",
    "             'Sky Walker II', 'Snowflake', 'Tenderfoot', 'G reat D ivide', 'Freeway', 'Little Mo', 'Romp', 'Snow Burn',\n",
    "             '']\n",
    "\n",
    "groomed_CB = ['Keystone Lower', 'Roller Coaster', 'Peanut', 'Houston', 'Warming House Hill', 'Kubler', \"Big Al’s\", 'Smith Hill Lower',\n",
    "              'Smith Hill Upper', 'Twister Lower', 'Mineral Point', 'Poverty Gulch', 'North Star', 'Silver Queen Road', 'Keystone Upper',\n",
    "              'Upper Park', 'Augusta', 'High Tide', \"Rustler’s Gulch\", 'Cascade', 'North Pass', 'Gunsight Pass', \"Panion’s Run\",\n",
    "              'Buckley', \"Splain's Gulch\", 'Homeowners', 'Deer Pass', 'Prospector', 'Lower Gallowich', 'Gallowich Upper', 'Black Eagle',\n",
    "              'Daisy', 'Treasury Lower', 'Treasury Upper', 'Conundrum', \"Bubba’s Shortcut Upper\", \"Bubba’s Shortcut Lower\", 'Bushwacker',\n",
    "              'Gus Way', 'Ruby Chief Lower', 'Ruby Chief Upper', 'Paradise Bowl', 'Forest Queen', 'Yellow Brick Road', 'Teaching Terrain',\n",
    "              'International']\n",
    "\n",
    "groomed_t = ['Bambi Glade', 'Rueggli', 'High Five', 'High Five Pitch', 'Strawberry Hill', 'White Feather', 'White Feather (Middle Pitch)',\n",
    "             'Firlefanz', 'Lower Stauffenberg', 'Mucho Gusto', 'Porcupine', 'Powderhorn Bowl', 'Powderhorn Upper', 'Powderhorn Lower',\n",
    "             'Powderhorn Gully', 'Upper Powderhorn', 'Bonanza', \"Jess's (Lower)\", \"Jess's (Upper)\", 'Bambi', 'West Basin', 'Easy Trip',\n",
    "             'Honeysuckle', 'Japanese flag', 'Lower Patton', 'Lower Totemoff', 'Winkelreid', 'Baby Bear', 'Lone Star', \"Maxie's\",\n",
    "             'Shalako (Upper)', 'Shalako (Lower)', 'Upper Patton', 'Upper Totemoff']\n",
    "\n",
    "groomed_DP = ['Crystal Ridge', 'The Great Flume', 'Spillway', 'Sunnyside', \"Luggi's\", 'Freeway', 'Penguin', 'Ridge Run',\n",
    "              'Chute', 'Upper Show-off', 'Lower Show-off', \"Dusty's Delight\", 'Popular', 'Lodgepole', 'School Yard']\n",
    "\n",
    "groomed_WP = ['Allen Phipps', 'Big Valley', \"Bill Wilson's Way\", 'Bobcat', 'Easy Way', 'Gunbarrel', 'Upper High Lonesome', 'Lower High Lonesome', \n",
    "              'Hobo Alley', 'Jack Kendrick', 'Upper Lonesome Whistle', 'Low Lonesome Whistle', 'Upper Parkway', 'Turnpike-Parkway Bypass', \n",
    "              'Village Way - Parkway Bypass', 'Village Way - Upper Parkway', 'March Hare', 'March Hare East', 'Marmot Flats', 'Mock Turtle', \n",
    "              'Olympia Spur', 'Porcupine', 'Shoo Fly', 'Sorensen Park', 'Tie Siding', 'Turnpike', 'Vista Dome', 'Wagon Trail', 'Whistlestop', \n",
    "              'Lower White Rabbit', 'Bluebell', 'Buckaroo', \"Butch's Breezeway\", 'Corona Way', 'Cranmer', 'Upper Cranmer', 'Lower Cranmer', \n",
    "              'Forget-Me-Not', 'Upper Jabberwocky', 'Jabberwocky', 'Lower Jabberwocky', 'Larry Sale', 'Mary Jane Trail', 'Mary Jane Face', \n",
    "              'Paintbrush', 'Roundhouse Lower', 'Roundhouse', 'Stagecoach', 'Sundance', 'Tweedle Dee', 'White Rabbit', 'Upper White Rabbit', \n",
    "              'Upper Cheshire Cat', 'Lower Cheshire Cat', 'Lower Hughes', 'Upper Hughes', 'Hughes to Sale', 'Litter Pierre', 'Sleeper',\n",
    "              'Village Way - Practice Hill', 'Village Way - Mountain Road', 'Village Way - Cranmer Cutoff', 'Whistle Stop',\n",
    "              'Village Way - Primrose', 'Village Way - Green Acres']\n",
    "\n",
    "grooms = [groomed_LL,groomed_AB,groomed_c,groomed_e,groomed_AM,groomed_v,groomed_m,groomed_CB,groomed_t,groomed_DP,groomed_WP]"
   ]
  },
  {
   "cell_type": "code",
   "execution_count": 65,
   "metadata": {},
   "outputs": [
    {
     "name": "stderr",
     "output_type": "stream",
     "text": [
      "/home/karen/anaconda3/lib/python3.6/site-packages/ipykernel_launcher.py:2: SettingWithCopyWarning: \n",
      "A value is trying to be set on a copy of a slice from a DataFrame.\n",
      "Try using .loc[row_indexer,col_indexer] = value instead\n",
      "\n",
      "See the caveats in the documentation: http://pandas.pydata.org/pandas-docs/stable/indexing.html#indexing-view-versus-copy\n",
      "  \n",
      "/home/karen/anaconda3/lib/python3.6/site-packages/ipykernel_launcher.py:3: SettingWithCopyWarning: \n",
      "A value is trying to be set on a copy of a slice from a DataFrame\n",
      "\n",
      "See the caveats in the documentation: http://pandas.pydata.org/pandas-docs/stable/indexing.html#indexing-view-versus-copy\n",
      "  This is separate from the ipykernel package so we can avoid doing imports until\n",
      "/home/karen/anaconda3/lib/python3.6/site-packages/pandas/core/generic.py:5233: SettingWithCopyWarning: \n",
      "A value is trying to be set on a copy of a slice from a DataFrame\n",
      "\n",
      "See the caveats in the documentation: http://pandas.pydata.org/pandas-docs/stable/indexing.html#indexing-view-versus-copy\n",
      "  self._update_inplace(new_data)\n",
      "/home/karen/anaconda3/lib/python3.6/site-packages/ipykernel_launcher.py:7: SettingWithCopyWarning: \n",
      "A value is trying to be set on a copy of a slice from a DataFrame\n",
      "\n",
      "See the caveats in the documentation: http://pandas.pydata.org/pandas-docs/stable/indexing.html#indexing-view-versus-copy\n",
      "  import sys\n"
     ]
    }
   ],
   "source": [
    "def add_groomed_col(df,groomed_lst):\n",
    "    df['groomed'] = 0\n",
    "    df['groomed'][df['trail_name'].isin(groomed_lst)] = 1\n",
    "    return df\n",
    "\n",
    "for resort, groom in zip(resorts,grooms):\n",
    "    add_groomed_col(resort,groom)"
   ]
  },
  {
   "cell_type": "code",
   "execution_count": 8,
   "metadata": {},
   "outputs": [],
   "source": [
    "loveland[(loveland['ability_level'] == 'Novice') & (loveland['groomed'] == 1)];"
   ]
  },
  {
   "cell_type": "code",
   "execution_count": 9,
   "metadata": {
    "collapsed": true
   },
   "outputs": [],
   "source": [
    "AB[(AB['ability_level'] == 'Expert') & (AB['groomed'] == 0)];"
   ]
  },
  {
   "cell_type": "code",
   "execution_count": 10,
   "metadata": {
    "collapsed": true
   },
   "outputs": [],
   "source": [
    "copper[(copper['ability_level'] == 'Expert') & (copper['groomed'] == 0)];"
   ]
  },
  {
   "cell_type": "code",
   "execution_count": 11,
   "metadata": {},
   "outputs": [],
   "source": [
    "AM['trail_name'][(AM['ability_level'] == 'Expert') & (AM['groomed'] == 0)];"
   ]
  },
  {
   "cell_type": "code",
   "execution_count": 12,
   "metadata": {},
   "outputs": [],
   "source": [
    "vail['trail_name'][(vail['ability_level'] == 'Novice') & (vail['groomed'] == 0)];"
   ]
  },
  {
   "cell_type": "code",
   "execution_count": 13,
   "metadata": {},
   "outputs": [],
   "source": [
    "monarch['trail_name'][(monarch['ability_level'] == 'Expert') & (monarch['groomed'] == 0)];"
   ]
  },
  {
   "cell_type": "markdown",
   "metadata": {},
   "source": [
    "***** Fix Monarch trail names"
   ]
  },
  {
   "cell_type": "code",
   "execution_count": 14,
   "metadata": {},
   "outputs": [],
   "source": [
    "CB['trail_name'][(CB['ability_level'] == 'Novice') & (CB['groomed'] == 0)];"
   ]
  },
  {
   "cell_type": "code",
   "execution_count": 15,
   "metadata": {},
   "outputs": [],
   "source": [
    "WP[(WP['ability_level'] == 'Intermediate') & (WP['groomed'] == 0)];"
   ]
  },
  {
   "cell_type": "code",
   "execution_count": 35,
   "metadata": {},
   "outputs": [],
   "source": [
    "taos[(taos['ability_level'] == 'Expert') & (taos['groomed'] == 0)];"
   ]
  },
  {
   "cell_type": "code",
   "execution_count": 74,
   "metadata": {},
   "outputs": [],
   "source": [
    "DP[(DP['ability_level'] == 'Advanced') & (DP['groomed'] == 0)];"
   ]
  },
  {
   "cell_type": "code",
   "execution_count": 72,
   "metadata": {},
   "outputs": [
    {
     "data": {
      "text/html": [
       "<div>\n",
       "<style>\n",
       "    .dataframe thead tr:only-child th {\n",
       "        text-align: right;\n",
       "    }\n",
       "\n",
       "    .dataframe thead th {\n",
       "        text-align: left;\n",
       "    }\n",
       "\n",
       "    .dataframe tbody tr th {\n",
       "        vertical-align: top;\n",
       "    }\n",
       "</style>\n",
       "<table border=\"1\" class=\"dataframe\">\n",
       "  <thead>\n",
       "    <tr style=\"text-align: right;\">\n",
       "      <th></th>\n",
       "      <th>trail_name</th>\n",
       "      <th>top_elev_(ft)</th>\n",
       "      <th>bottom_elev_(ft)</th>\n",
       "      <th>vert_rise_(ft)</th>\n",
       "      <th>slope_length_(ft)</th>\n",
       "      <th>avg_width_(ft)</th>\n",
       "      <th>slope_area_(acres)</th>\n",
       "      <th>avg_grade_(%)</th>\n",
       "      <th>max_grade_(%)</th>\n",
       "      <th>ability_level</th>\n",
       "      <th>resort</th>\n",
       "      <th>location</th>\n",
       "      <th>groomed</th>\n",
       "    </tr>\n",
       "  </thead>\n",
       "  <tbody>\n",
       "    <tr>\n",
       "      <th>23</th>\n",
       "      <td>Battleborn</td>\n",
       "      <td>7945.0</td>\n",
       "      <td>7215.0</td>\n",
       "      <td>730.0</td>\n",
       "      <td>1824.0</td>\n",
       "      <td>170</td>\n",
       "      <td>7.1</td>\n",
       "      <td>44.0</td>\n",
       "      <td>53.0</td>\n",
       "      <td>Advanced</td>\n",
       "      <td>Diamond Peak</td>\n",
       "      <td>NV</td>\n",
       "      <td>0</td>\n",
       "    </tr>\n",
       "  </tbody>\n",
       "</table>\n",
       "</div>"
      ],
      "text/plain": [
       "    trail_name  top_elev_(ft)  bottom_elev_(ft)  vert_rise_(ft)  \\\n",
       "23  Battleborn         7945.0            7215.0           730.0   \n",
       "\n",
       "    slope_length_(ft) avg_width_(ft)  slope_area_(acres)  avg_grade_(%)  \\\n",
       "23             1824.0            170                 7.1           44.0   \n",
       "\n",
       "    max_grade_(%) ability_level        resort location  groomed  \n",
       "23           53.0      Advanced  Diamond Peak       NV        0  "
      ]
     },
     "execution_count": 72,
     "metadata": {},
     "output_type": "execute_result"
    }
   ],
   "source": [
    "DP[DP['trail_name'].str.contains(\"Batt\")]"
   ]
  },
  {
   "cell_type": "code",
   "execution_count": 75,
   "metadata": {},
   "outputs": [
    {
     "data": {
      "text/plain": [
       "(49, 13)"
      ]
     },
     "execution_count": 75,
     "metadata": {},
     "output_type": "execute_result"
    }
   ],
   "source": [
    "eldora.shape"
   ]
  },
  {
   "cell_type": "code",
   "execution_count": null,
   "metadata": {
    "collapsed": true
   },
   "outputs": [],
   "source": []
  }
 ],
 "metadata": {
  "kernelspec": {
   "display_name": "Python 3",
   "language": "python",
   "name": "python3"
  },
  "language_info": {
   "codemirror_mode": {
    "name": "ipython",
    "version": 3
   },
   "file_extension": ".py",
   "mimetype": "text/x-python",
   "name": "python",
   "nbconvert_exporter": "python",
   "pygments_lexer": "ipython3",
   "version": "3.6.2"
  }
 },
 "nbformat": 4,
 "nbformat_minor": 2
}
