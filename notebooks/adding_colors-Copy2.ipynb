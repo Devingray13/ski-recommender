{
 "cells": [
  {
   "cell_type": "markdown",
   "metadata": {},
   "source": [
    "This was originally used for adding the color names as a column in the matrix. This code is now present in comb_tables. It is here for reference, not to be run again."
   ]
  },
  {
   "cell_type": "code",
   "execution_count": 2,
   "metadata": {
    "collapsed": true
   },
   "outputs": [],
   "source": [
    "import pickle\n",
    "import pandas as pd\n",
    "import numpy as np\n",
    "import warnings\n",
    "warnings.filterwarnings('ignore')"
   ]
  },
  {
   "cell_type": "markdown",
   "metadata": {},
   "source": [
    "# DO NOT RUN COMB_TABLES AGAIN"
   ]
  },
  {
   "cell_type": "code",
   "execution_count": 134,
   "metadata": {
    "collapsed": true
   },
   "outputs": [],
   "source": [
    "run comb_tables.py"
   ]
  },
  {
   "cell_type": "code",
   "execution_count": 3,
   "metadata": {},
   "outputs": [],
   "source": [
    "'''from webscrape_trails.py'''\n",
    "pkl_file = open('../data/resort_dict.pkl', 'rb')\n",
    "dct = pickle.load(pkl_file)\n",
    "pkl_file.close()"
   ]
  },
  {
   "cell_type": "code",
   "execution_count": 4,
   "metadata": {
    "collapsed": true
   },
   "outputs": [],
   "source": [
    "resorts = ['Loveland',\n",
    " 'Arapahoe Basin',\n",
    " 'Copper',\n",
    " 'Eldora',\n",
    " 'Alpine Meadows',\n",
    " 'Vail',\n",
    " 'Monarch',\n",
    " 'Crested Butte',\n",
    " 'Taos',\n",
    " 'Diamond Peak',\n",
    " 'Winter Park',\n",
    " 'Beaver Creek']\n",
    "levels = ['green','blue','black','bb']\n",
    "resort_dfs = [loveland,AB,copper,eldora,AM,vail,monarch,CB,taos,DP,WP,BC]\n",
    "resort_dict = dict(zip(resorts,resort_dfs))"
   ]
  },
  {
   "cell_type": "code",
   "execution_count": 5,
   "metadata": {
    "collapsed": true
   },
   "outputs": [],
   "source": [
    "def missing_trails(color_trails,resort):\n",
    "    '''\n",
    "    Inputs:\n",
    "    color_trails = trails_by_color[resort][level] (list)\n",
    "    resort from resort_dict (str)\n",
    "    Outputs:\n",
    "    list of trails by color from webscraping that weren't in the dataframe\n",
    "    '''\n",
    "    trail_lst = []\n",
    "    for trail in color_trails:\n",
    "        if trail not in list(resort_dict[resort]['trail_name']):\n",
    "             trail_lst.append(trail)\n",
    "    return trail_lst"
   ]
  },
  {
   "cell_type": "code",
   "execution_count": 6,
   "metadata": {
    "collapsed": true
   },
   "outputs": [],
   "source": [
    "def get_trails_list(resort,level):\n",
    "    '''\n",
    "    Inputs: \n",
    "    resort from resorts (str)\n",
    "    level from levels (str)\n",
    "    Outputs:\n",
    "    list of trail names in a useable string format (list)\n",
    "    '''\n",
    "    if dct[resort][level] is None:\n",
    "        return []\n",
    "    else:\n",
    "        return [word.encode('ascii','ignore').strip().decode('utf-8') for word in dct[resort][level]['Name']]\n",
    "    \n",
    "trails_by_color = {}\n",
    "for resort in resort_dict:\n",
    "    trails_by_color[resort] = {level: get_trails_list(resort,level) for level in levels}"
   ]
  },
  {
   "cell_type": "code",
   "execution_count": 8,
   "metadata": {
    "collapsed": true
   },
   "outputs": [],
   "source": [
    "def make_colors(resort):\n",
    "    '''\n",
    "    Inputs:\n",
    "    resort_df from resort_dfs (DataFrame)\n",
    "    resort from resorts (str)\n",
    "    Outputs:\n",
    "    resort_df w/ colors column added (DataFrame)\n",
    "    '''\n",
    "    resort_dict[resort]['colors'] = 'color'\n",
    "    levels = ['green','blue','black','bb']\n",
    "    for level in levels:\n",
    "        resort_dict[resort]['colors'][resort_dict[resort]['trail_name'].isin(get_trails_list(resort,level))] = level\n",
    "    return resort_dict[resort]\n",
    "\n",
    "for resort in resort_dict:\n",
    "    make_colors(resort)"
   ]
  },
  {
   "cell_type": "code",
   "execution_count": 9,
   "metadata": {
    "collapsed": true
   },
   "outputs": [],
   "source": [
    "'''\n",
    "Dictionary of dictionaries {resort: {level: [trails]}}\n",
    "For trails that are in the resort_df but have slightly different names from the webscraping\n",
    "'''\n",
    "trails_to_add = {}"
   ]
  },
  {
   "cell_type": "code",
   "execution_count": 10,
   "metadata": {
    "collapsed": true
   },
   "outputs": [],
   "source": [
    "trails_to_add['Alpine Meadows'] = {'green': ['Meadow Run', 'Subway Run', 'Teaching Terrain'],\n",
    "                                   'blue': ['Bobby’s Run', 'Maid Marian', 'Nick’s Run', 'Ray’s Rut', 'Reily’s Run',\n",
    "                                            'Sandy’s Corner', 'Scotty’s Beam', 'Werner’s Schuss', \"Terry’s Return\"],\n",
    "                                   'black': ['Peter’s Peril', 'Hidden Knoll’s', 'Promise Land'],\n",
    "                                   'bb': []}"
   ]
  },
  {
   "cell_type": "code",
   "execution_count": 11,
   "metadata": {
    "collapsed": true
   },
   "outputs": [],
   "source": [
    "trails_to_add['Loveland'] = {'green': ['Cat Walk', 'Deuces Wild', 'Home Run', 'Zig-Zag','Magic Carpet Slope'],\n",
    "                             'blue': ['Apollo (Lower)','Apollo (Upper)', 'Blackjack (Lower)', 'Blackjack (Upper)', 'North Chutes', 'Switchback (Lower)',\n",
    "            'Switchback (Upper)', 'Twist (Lower)', 'Twist (Upper)', \"Upper Richard's\", 'Tempest', \"Chet's Run\"],\n",
    "                             'black': ['Cats Meow', 'Fail Safe Trees I', 'Fail Safe Trees II', 'Sunburst Chutes',\n",
    "                                       \"Hook 'Em Horns\"],\n",
    "                             'bb': ['#4 Headwall', 'Upper #4 Headwall', 'Patrol Bowl (Lower)', 'Patrol Bowl (Upper)']}"
   ]
  },
  {
   "cell_type": "code",
   "execution_count": 12,
   "metadata": {
    "collapsed": true
   },
   "outputs": [],
   "source": [
    "trails_to_add['Arapahoe Basin'] = {'green': ['Wrangler Lower', 'Wrangler Middle', 'Wrangler Upper', 'Molly Hogan 1', 'Molly Hogan 2', \"Molly's Magic Carpet\", 'Molly Hogan Upper', 'Carpet II'],\n",
    "                                   'blue': ['Cornice Run I', 'Cornice Run II', 'T.B. Glade'],\n",
    "                                   'black': ['Powder Keg Lower', 'Powder Keg Upper'],\n",
    "                                    'bb': ['13 Cornices Upper', '13 Cornices Lower', 'Roller Coaster', 'West Alley']}"
   ]
  },
  {
   "cell_type": "code",
   "execution_count": 13,
   "metadata": {
    "collapsed": true
   },
   "outputs": [],
   "source": [
    "trails_to_add['Copper'] = {'green': ['Lower Carefree', 'Upper Carefree', \"Lower Easy Feelin'\", \"Upper Easy Feelin'\", \n",
    "                                    'Lower High Point', 'Middle High Point', 'Upper High Point', 'Upper Leap Frog',\n",
    "                                    'Lower Leap Frog', 'Lower Loverly', 'Middle Loverly', 'Upper Loverly', 'Lower Roundabout',\n",
    "                                    'Middle Roundabout', 'Upper Roundabout', 'See and Ski', 'Lower Soliloquy', 'Upper Soliloquy',\n",
    "                                    'West Tenmile', 'Green Acres', 'Gem', 'Rugrat', 'Easy Rider', 'The Glide', 'Slingshot',\n",
    "                                     'Lower Easy Road Traverse', 'Upper Easy Road Traverse'],\n",
    "                          'blue': ['Copperfields', 'Upper Skid Road'],\n",
    "                          'black': [\"CDL's\", 'Allcante', \"Ute Overlook\", 'Lower Lillie G', 'Upper Lillie G', 'Retreat'],\n",
    "                          'bb': []}"
   ]
  },
  {
   "cell_type": "code",
   "execution_count": 14,
   "metadata": {
    "collapsed": true
   },
   "outputs": [],
   "source": [
    "trails_to_add['Eldora'] = {'green': ['Upper Bunny Fair', 'Fox Tail', 'Little Hawk TRV', 'Tenderfoot I', 'Tenderfoot II'],\n",
    "                           'blue': ['Crewcut', 'Corona TRV', \"Four O' Clock Trail\", 'Middle Jolly Jug',\n",
    "                                    'Lower Jolly Jug', 'Upper Bunny Fair', 'Quickway', 'Sundance', 'Sunkid Slope'],\n",
    "                           'black': ['Challenge Liftline', 'Corona Road', 'Klondike', 'Upper Diamond Back'],\n",
    "                           'bb': ['Upper Jolly Jug', 'Liftline']}"
   ]
  },
  {
   "cell_type": "code",
   "execution_count": 96,
   "metadata": {
    "collapsed": true
   },
   "outputs": [],
   "source": [
    "trails_to_add['Vail'] = {'green': [\"Cubs Way\", 'Eagles Nest Ridge', 'Flapjack', 'Lionsway Cutoff', 'Lower Lionsway',\n",
    "                                     'Upper Lionsway', 'Minni Ha Ha', 'Practice Pkwy', 'Timberline Catwalk.', 'Transmontane',\n",
    "                                     'Windish Way', 'Grand Junction Catwalk', 'Teaching Area', 'Tin Pants Catwalk', \n",
    "                                   'Whiskey Jack Catwalk'],\n",
    "                           'blue': ['Avanti Lower', 'Avanti Upper', 'China Bowl Egress', 'Choker Cutoff', 'Kellys Toll Road',\n",
    "                                    'Riva Ridge Lower', 'Mid-Vail Express', 'Ranger Racoon', \"Ruder's Route\", 'Simba Lower',\n",
    "                                    'Simba Upper', 'Simba Racer', 'Sleepy Time', 'Berries', 'Pickeroon', 'The Preserve',\n",
    "                                    'Ledges Lower', 'Ledges Upper', 'Resolultion Upper', 'Expresso', 'Cheetah', 'Bwana Upper', \n",
    "                                    'Pride Lower', 'Pride Upper', 'Grand Review', 'Resolution Lower', 'Snag Park Lower', \n",
    "                                    'Snag Park Upper'],\n",
    "                           'black': ['Dueces Wild', 'Wild Card', 'Genghis Kahn', 'Inner MongoliaBowl', 'Legdes Lower',\n",
    "                                     'Ledges Upper', 'Lookma', 'South Lookma', 'Lovers Leap', 'Safari', 'Montane Glade',\n",
    "                                     'North Rim', 'South Rim', 'OS', 'Old 9 Lift Line', 'Outer Mongolia Bowl',\n",
    "                                     'Shangri-La Glades', 'Shangri-la Glades E', 'Steep and Deep',\n",
    "                                     'Riva Ridge Upper', \"Widge's Ridge\", \"Windows Trees\", 'Berries-Cookshack', 'Powerline Trees', \n",
    "                                     \"Minnie's MileLower\", 'Genghis Khan', 'Outer MongoliaBowl', 'Tea Cup Glades'],\n",
    "                           'bb': ['Front Side Chutes', 'Mud Slide Chutes', 'Prima Lower', 'Prima Upper', 'Pump House Chutes',\n",
    "                                  '']}"
   ]
  },
  {
   "cell_type": "code",
   "execution_count": 16,
   "metadata": {
    "collapsed": true
   },
   "outputs": [],
   "source": [
    "trails_to_add['Monarch'] = {'green': ['K C Cutoff', 'Sky Walker I', 'Sky Walker II', 'D rifter', 'G lade', 'Safari'],\n",
    "                           'blue': ['Bee Line', \"D oc’s Run\", 'G reat D ivide', 'Q uick D raw', 'Snow Burn', 'Lower Hall’s Alley'],\n",
    "                           'black': [\"B’s Bash\", 'D ire Straits', \"G eno’s Meadow\", \"G unbarrel\", 'K anonen', 'O utback',\n",
    "                                     'Upper X mas Tree', 'Upper Hall’s Alley', 'Frazzle'],\n",
    "                           'bb': ['Mirkwood Basin', 'Mirkwood Basin Egress', ]}"
   ]
  },
  {
   "cell_type": "code",
   "execution_count": 17,
   "metadata": {
    "collapsed": true
   },
   "outputs": [],
   "source": [
    "trails_to_add['Crested Butte'] = {'green': ['Big Al’s', 'Bubba’s Shortcut Upper', 'Bubba’s Shortcut Lower', 'Keystone Lower',\n",
    "                                            'Twister Lower', 'Peachtree Connector', 'Smith Hill Lower', 'Teaching Terrain',\n",
    "                                            'To Base Area', \"Rustler’s Gulch\", 'Augusta', 'High Tide', 'Topsy', \"Splain's Gulch\"],\n",
    "                           'blue': ['Gus Way', 'Homeowners', 'Treasury Lower', 'Gallowich', 'Panion’s Run', 'Ruby Chief Lower',\n",
    "                                    'Gallowich Upper', 'Keystone Upper', 'Treasury Upper', 'Tulsa', 'Smith Hill Upper', \n",
    "                                    'Ruby Chief Upper', 'Bear', 'Meander', 'Paradise Access', 'Little Lizzie'],\n",
    "                           'black': ['Silvanite', 'Twister Upper', 'Twister Connector', 'Keystone Ridge', 'Mach 1', 'Peoria', \n",
    "                                     'Horseshoe'],\n",
    "                           'bb': ['Headwall']}"
   ]
  },
  {
   "cell_type": "code",
   "execution_count": 18,
   "metadata": {
    "collapsed": true
   },
   "outputs": [],
   "source": [
    "trails_to_add['Taos'] = {'green': ['Japanese flag', \"Jess's (Lower)\", \"Jess's (Upper)\", \"Winkelreid\", 'Bambi Glade', \n",
    "                                   'Strawberry Hill', 'High Five Pitch', 'Rueggli', 'Zipper 1', 'Zipper 2', 'Zipper 3'],\n",
    "                           'blue': [\"Maxie's\", 'Powderhorn Lower', 'Powderhorn Upper', 'Shalako (Lower)', 'Shalako (Upper)',\n",
    "                                   'Topa Papa'],\n",
    "                           'black': ['Raspberry Hill'],\n",
    "                           'bb': ['Lorelei Trees']}"
   ]
  },
  {
   "cell_type": "code",
   "execution_count": 19,
   "metadata": {
    "collapsed": true
   },
   "outputs": [],
   "source": [
    "trails_to_add['Diamond Peak'] = {'green': [],\n",
    "                           'blue': [],\n",
    "                           'black': ['FIS', 'O God', 'GS'],\n",
    "                           'bb': []}"
   ]
  },
  {
   "cell_type": "code",
   "execution_count": 20,
   "metadata": {
    "collapsed": true
   },
   "outputs": [],
   "source": [
    "trails_to_add['Winter Park'] = {'green': ['Allen Phipps', \"Bill Wilson's Way\", 'Upper High Lonesome', 'Lower High Lonesome',\n",
    "                                          'Hook Up', 'Moose Wallow', 'March Hare', 'Wagon Trail', 'Whistle Stop', 'Sorensen Park'],\n",
    "                           'blue': ['Belmar Bowl', 'Upper Cranmer', 'Lower Cranmer', 'Dilly Dally Alley', 'Forget-Me-Not', \n",
    "                                    'Upper Jabberwocky', 'Low Lonesome Whistle', 'Mary Jane Trail', \"Parry's Peak\", 'Primrose Glades',\n",
    "                                    'Upper Rendezvous', 'Lower Rendezvous', 'Roundhouse Lower', 'Shoot Out', 'Columbine Upper',\n",
    "                                    'Upper White Rabbit', 'Bellmar Bowl', 'Chuckwagon', 'Lower Cheshire Cat', 'March Hare East'],\n",
    "                           'black': ['Aces and Eights', \"Bradley's Bash\", 'Engeldive Cutoff', 'Upper Hughes', 'Iron Horse Trail Upper',\n",
    "                                     'Iron Horse Trail Middle Upper', 'Iron Horse Trail Middle Lower', 'Iron Horse Trail Lower',\n",
    "                                     'Johnston Junction', 'Litter Pierre', 'Pioneer Express Trail (Lower)', \"Mulligan's Mile\", \n",
    "                                     \"Over N' Underwood\", \"Retta's Run\", 'Riflesight Notch', 'Sharp Nose', 'Sleepy Hollow',\n",
    "                                     'Sleeper Glades', 'Super Gauge Trail (Rock Garden)', 'Mary Jane Face', 'Pioneer Express Trail (Upper)', \n",
    "                                     'Norwegian', 'Columbine Lower', 'Upper Cheshire Cat', 'Roll Over'],\n",
    "                           'bb': []}"
   ]
  },
  {
   "cell_type": "code",
   "execution_count": 69,
   "metadata": {
    "collapsed": true
   },
   "outputs": [],
   "source": [
    "trails_to_add['Beaver Creek'] = {'green': ['Beginner Terrain', 'BC Mtn Expressway', 'Easy Come _Easy Go', 'Elkhorn', 'Haymeadow',\n",
    "                                           'Holden', 'Leav the Beav', 'Meadows', 'Rubarb', 'Ridge Point', 'Highlands Skiway', \n",
    "                                           'Primrose'],\n",
    "                           'blue': ['Creekside', 'Stacker_lower', 'McCoy', 'Paintbrush', 'West Fall Road', 'Camprobber Road', \n",
    "                                    'Cabin Fever', 'Wapti'],\n",
    "                           'black': ['Boarders Loop', 'Goshawk', 'Harrier', 'Centennial', 'Wapiti', 'S. Star'],\n",
    "                           'bb': ['Stone Creek Chutes']}"
   ]
  },
  {
   "cell_type": "code",
   "execution_count": 22,
   "metadata": {
    "collapsed": true,
    "scrolled": true
   },
   "outputs": [],
   "source": [
    "BC[['trail_name','ability_level']][(BC['colors'] == 'color')];# & (BC['trail_name'].str.contains(\"H\"))]"
   ]
  },
  {
   "cell_type": "code",
   "execution_count": 23,
   "metadata": {
    "scrolled": true
   },
   "outputs": [
    {
     "data": {
      "text/plain": [
       "20     Barrel Stave\n",
       "64          S. Star\n",
       "70    Stacker_lower\n",
       "Name: trail_name, dtype: object"
      ]
     },
     "execution_count": 23,
     "metadata": {},
     "output_type": "execute_result"
    }
   ],
   "source": [
    "BC['trail_name'][BC['trail_name'].str.contains('Sta')]"
   ]
  },
  {
   "cell_type": "code",
   "execution_count": 35,
   "metadata": {
    "collapsed": true,
    "scrolled": true
   },
   "outputs": [],
   "source": [
    "missing_trails(trails_by_color['Winter Park']['black'],'Winter Park');"
   ]
  },
  {
   "cell_type": "code",
   "execution_count": 98,
   "metadata": {
    "collapsed": true
   },
   "outputs": [],
   "source": [
    "def add_trails_to_add(resort):\n",
    "    '''\n",
    "    Inputs:\n",
    "    resort from resorts (str)\n",
    "    Outputs:\n",
    "    resort_df w/ class column updated w/ trail names that didn't make the list (DataFrame)\n",
    "    '''\n",
    "    levels = ['green','blue','black','bb']\n",
    "    for level in levels:\n",
    "        resort_dict[resort]['colors'][resort_dict[resort]['trail_name'].isin(trails_to_add[resort][level])] = level\n",
    "    return resort_dict[resort]\n",
    "\n",
    "for resort in resort_dict:\n",
    "    add_trails_to_add(resort)"
   ]
  },
  {
   "cell_type": "code",
   "execution_count": 114,
   "metadata": {
    "collapsed": true
   },
   "outputs": [],
   "source": [
    "trails_to_remove_LL = ['T-bar Road', 'Sani Flush', 'Awesome II', 'Rip Curl', '']\n",
    "trails_to_remove_AB = ['High Noon Terrain Park', 'Treeline Terrain Park', 'Shooting Gallery', 'Poma Line']\n",
    "trails_to_remove_c = [\"Bruce's Way\", 'Bee Road', 'Road Home', 'Cross Cut']\n",
    "trails_to_remove_e = []\n",
    "trails_to_remove_WP = ['Meadows', 'Nirvana', 'Village Way - Primrose']\n",
    "trails_to_remove_m = ['K2', 'Tumbelina Lift Line']\n",
    "trails_to_remove_CB = ['Gallowitch Bend', 'Silver Queen Connector', 'Aspen Park', \"Shep's Chute\"]\n",
    "trails_to_remove_t = ['White Feather (Middle Pitch)', 'Raspberry (Pitch 1)', 'Raspberry (Pitch 2)', 'Raspberry (Pitch 3)',\n",
    "                    'Raspberry Hill Traverse', 'Top of Lifts 2 and 6', 'Lorelei Egress', 'Hunziker Egress', 'Lift 6 Liftline',\n",
    "                    'Avy Road', 'Maidenform']\n",
    "trails_to_remove_DP = []\n",
    "trails_to_remove_BC = ['Chair 2', 'Half- Barrell Half Pipe', 'Half Hitch', 'Nastar Ski Racing', 'Park101_Flattops', \n",
    "                       'Utility Corridor', 'Pitchfork', 'Pines Skiway', \"Anderson's Alley\", 'Homefire', 'Tall Timber',\n",
    "                       'Ridge Rider']\n",
    "trails_to_remove_v = ['Avanti-Cookshack', 'Chair 2 Lift Line', 'Pickeroon Lower', 'Pickeroon-Cookshack', 'Ricochet',\n",
    "                    'Mountain Top Lift Line', 'Ramshorn Glade', 'Swingsville Ridge', 'Apres Trees East', 'Apres Trees West',\n",
    "                    'Ho Chi Min Trail', 'Ptarmigan Cornice', \"Sama's\", 'Turkey Yard', 'Aspen Alley', 'Chair 6 Lift Line', 'Follow Me Road',\n",
    "                    'Mule Skinner', 'Pony Express', 'Faro Glade', 'Old Midway Catwalk', \"Minnie's Cutoff\", \"Minnie's Mile Upper\",\n",
    "                    \"Minnie's Mile Upper Face\", 'Hairbag Alley Lower', 'International', 'Mid-Vail Milling Area', 'Villages Catwalk',\n",
    "                    'Vista Bahn Line Upper', 'Way Over Yonder', 'Gondola Lift Line', 'Simba Face', 'Cascade Way', 'China Wall', 'to Two Elk',\n",
    "                    'West Wall', 'Upper MongoliaBowl', 'Bwama-Simba Collector', 'Cubs Way Upper', 'Pride Upper Face', 'Black Forest Milling Area',\n",
    "                    'Nastar', 'Pay-to-Race', 'East Tea Cup', 'Petes Lift Line', 'Berries Catwalk', 'Ch 10 Access', 'Lift Line', \"Roger's Glade\", \n",
    "                      \"Smokey's\", 'Timberline Face', 'Minnies Mile Upper Face']\n",
    "trails_to_remove_AM = []\n",
    "\n",
    "trails_to_remove = [trails_to_remove_LL,trails_to_remove_AB,trails_to_remove_c,trails_to_remove_e,trails_to_remove_AM,trails_to_remove_v,trails_to_remove_m,trails_to_remove_CB,trails_to_remove_t,trails_to_remove_DP,trails_to_remove_WP,trails_to_remove_BC]"
   ]
  },
  {
   "cell_type": "code",
   "execution_count": 115,
   "metadata": {},
   "outputs": [
    {
     "data": {
      "text/plain": [
       "97"
      ]
     },
     "execution_count": 115,
     "metadata": {},
     "output_type": "execute_result"
    }
   ],
   "source": [
    "count = 0\n",
    "for item in trails_to_remove:\n",
    "    count+=len(item)\n",
    "count"
   ]
  },
  {
   "cell_type": "code",
   "execution_count": 116,
   "metadata": {
    "collapsed": true
   },
   "outputs": [],
   "source": [
    "'''Remove Trails'''\n",
    "def remove_trails(resort, trail_lst):\n",
    "    '''\n",
    "    Inputs:\n",
    "    resort from resort_dict (str)\n",
    "    trail_lst from trails_to_remove (list)\n",
    "    Outputs:\n",
    "    resort_df with trails removed (DataFrame)\n",
    "    '''\n",
    "    resort_df_new = resort_dict[resort][~resort_dict[resort]['trail_name'].isin(trail_lst)]\n",
    "    return resort_df_new\n",
    "\n",
    "for resort, trail_lst in zip(resort_dict,trails_to_remove):\n",
    "    resort_dict[resort] = remove_trails(resort,trail_lst)"
   ]
  },
  {
   "cell_type": "code",
   "execution_count": 117,
   "metadata": {
    "collapsed": true
   },
   "outputs": [],
   "source": [
    "final_df = pd.concat([resort for resort in resort_dict.values()])"
   ]
  },
  {
   "cell_type": "code",
   "execution_count": 118,
   "metadata": {
    "collapsed": true
   },
   "outputs": [],
   "source": [
    "ability_levels = {'Beginner': 1, 'Novice': 2, 'Low Intermediate': 3, 'Intermediate': 4, 'Advanced': 5, 'Expert': 6, 'Glade': 5}\n",
    "colors = {'green': 1, 'blue': 2, 'black': 3, 'bb': 4, 'color': 0}"
   ]
  },
  {
   "cell_type": "code",
   "execution_count": 119,
   "metadata": {
    "collapsed": true
   },
   "outputs": [],
   "source": [
    "final_df['ability_nums'] = final_df['ability_level'].map(ability_levels)\n",
    "final_df['color_nums'] = final_df['colors'].map(colors)"
   ]
  },
  {
   "cell_type": "code",
   "execution_count": 120,
   "metadata": {},
   "outputs": [
    {
     "data": {
      "text/plain": [
       "Series([], Name: trail_name, dtype: object)"
      ]
     },
     "execution_count": 120,
     "metadata": {},
     "output_type": "execute_result"
    }
   ],
   "source": [
    "final_df['trail_name'][final_df['colors'] == 'color']"
   ]
  },
  {
   "cell_type": "code",
   "execution_count": 123,
   "metadata": {
    "scrolled": true
   },
   "outputs": [
    {
     "data": {
      "text/html": [
       "<div>\n",
       "<style>\n",
       "    .dataframe thead tr:only-child th {\n",
       "        text-align: right;\n",
       "    }\n",
       "\n",
       "    .dataframe thead th {\n",
       "        text-align: left;\n",
       "    }\n",
       "\n",
       "    .dataframe tbody tr th {\n",
       "        vertical-align: top;\n",
       "    }\n",
       "</style>\n",
       "<table border=\"1\" class=\"dataframe\">\n",
       "  <thead>\n",
       "    <tr style=\"text-align: right;\">\n",
       "      <th></th>\n",
       "      <th>trail_name</th>\n",
       "      <th>resort</th>\n",
       "      <th>ability_level</th>\n",
       "      <th>groomed</th>\n",
       "    </tr>\n",
       "  </thead>\n",
       "  <tbody>\n",
       "  </tbody>\n",
       "</table>\n",
       "</div>"
      ],
      "text/plain": [
       "Empty DataFrame\n",
       "Columns: [trail_name, resort, ability_level, groomed]\n",
       "Index: []"
      ]
     },
     "execution_count": 123,
     "metadata": {},
     "output_type": "execute_result"
    }
   ],
   "source": [
    "final_df[['trail_name','resort','ability_level', 'groomed']][(final_df['colors'] == 'color') & (final_df['resort'] == 'Alpine Meadows')]"
   ]
  },
  {
   "cell_type": "code",
   "execution_count": 128,
   "metadata": {},
   "outputs": [
    {
     "data": {
      "text/html": [
       "<div>\n",
       "<style>\n",
       "    .dataframe thead tr:only-child th {\n",
       "        text-align: right;\n",
       "    }\n",
       "\n",
       "    .dataframe thead th {\n",
       "        text-align: left;\n",
       "    }\n",
       "\n",
       "    .dataframe tbody tr th {\n",
       "        vertical-align: top;\n",
       "    }\n",
       "</style>\n",
       "<table border=\"1\" class=\"dataframe\">\n",
       "  <thead>\n",
       "    <tr style=\"text-align: right;\">\n",
       "      <th></th>\n",
       "      <th>trail_name</th>\n",
       "      <th>top_elev_(ft)</th>\n",
       "      <th>bottom_elev_(ft)</th>\n",
       "      <th>vert_rise_(ft)</th>\n",
       "      <th>slope_length_(ft)</th>\n",
       "      <th>avg_width_(ft)</th>\n",
       "      <th>slope_area_(acres)</th>\n",
       "      <th>avg_grade_(%)</th>\n",
       "      <th>max_grade_(%)</th>\n",
       "      <th>ability_level</th>\n",
       "      <th>resort</th>\n",
       "      <th>location</th>\n",
       "      <th>groomed</th>\n",
       "      <th>colors</th>\n",
       "      <th>ability_nums</th>\n",
       "      <th>color_nums</th>\n",
       "    </tr>\n",
       "  </thead>\n",
       "  <tbody>\n",
       "    <tr>\n",
       "      <th>72</th>\n",
       "      <td>Teaching Terrain</td>\n",
       "      <td>6930.0</td>\n",
       "      <td>6912.0</td>\n",
       "      <td>18.0</td>\n",
       "      <td>202.0</td>\n",
       "      <td>133</td>\n",
       "      <td>0.6</td>\n",
       "      <td>9.0</td>\n",
       "      <td>10.0</td>\n",
       "      <td>Beginner</td>\n",
       "      <td>Alpine Meadows</td>\n",
       "      <td>CA</td>\n",
       "      <td>1</td>\n",
       "      <td>green</td>\n",
       "      <td>1</td>\n",
       "      <td>1</td>\n",
       "    </tr>\n",
       "    <tr>\n",
       "      <th>73</th>\n",
       "      <td>Teaching Terrain</td>\n",
       "      <td>6897.0</td>\n",
       "      <td>6892.0</td>\n",
       "      <td>5.0</td>\n",
       "      <td>85.0</td>\n",
       "      <td>132</td>\n",
       "      <td>0.3</td>\n",
       "      <td>6.0</td>\n",
       "      <td>8.0</td>\n",
       "      <td>Beginner</td>\n",
       "      <td>Alpine Meadows</td>\n",
       "      <td>CA</td>\n",
       "      <td>1</td>\n",
       "      <td>green</td>\n",
       "      <td>1</td>\n",
       "      <td>1</td>\n",
       "    </tr>\n",
       "    <tr>\n",
       "      <th>147</th>\n",
       "      <td>Teaching Area</td>\n",
       "      <td>10335.0</td>\n",
       "      <td>10223.0</td>\n",
       "      <td>112.2</td>\n",
       "      <td>934.8</td>\n",
       "      <td>652</td>\n",
       "      <td>14.0</td>\n",
       "      <td>12.0</td>\n",
       "      <td>17.0</td>\n",
       "      <td>Novice</td>\n",
       "      <td>Vail</td>\n",
       "      <td>CO</td>\n",
       "      <td>0</td>\n",
       "      <td>green</td>\n",
       "      <td>2</td>\n",
       "      <td>1</td>\n",
       "    </tr>\n",
       "    <tr>\n",
       "      <th>81</th>\n",
       "      <td>Teaching Terrain</td>\n",
       "      <td>9407.0</td>\n",
       "      <td>9398.0</td>\n",
       "      <td>9.0</td>\n",
       "      <td>124.0</td>\n",
       "      <td>960</td>\n",
       "      <td>2.7</td>\n",
       "      <td>8.0</td>\n",
       "      <td>10.0</td>\n",
       "      <td>Beginner</td>\n",
       "      <td>Crested Butte</td>\n",
       "      <td>CO</td>\n",
       "      <td>1</td>\n",
       "      <td>green</td>\n",
       "      <td>1</td>\n",
       "      <td>1</td>\n",
       "    </tr>\n",
       "    <tr>\n",
       "      <th>82</th>\n",
       "      <td>Teaching Terrain</td>\n",
       "      <td>9360.0</td>\n",
       "      <td>9355.0</td>\n",
       "      <td>5.0</td>\n",
       "      <td>103.0</td>\n",
       "      <td>562</td>\n",
       "      <td>1.3</td>\n",
       "      <td>5.0</td>\n",
       "      <td>11.0</td>\n",
       "      <td>Beginner</td>\n",
       "      <td>Crested Butte</td>\n",
       "      <td>CO</td>\n",
       "      <td>1</td>\n",
       "      <td>green</td>\n",
       "      <td>1</td>\n",
       "      <td>1</td>\n",
       "    </tr>\n",
       "  </tbody>\n",
       "</table>\n",
       "</div>"
      ],
      "text/plain": [
       "           trail_name  top_elev_(ft)  bottom_elev_(ft)  vert_rise_(ft)  \\\n",
       "72   Teaching Terrain         6930.0            6912.0            18.0   \n",
       "73   Teaching Terrain         6897.0            6892.0             5.0   \n",
       "147     Teaching Area        10335.0           10223.0           112.2   \n",
       "81   Teaching Terrain         9407.0            9398.0             9.0   \n",
       "82   Teaching Terrain         9360.0            9355.0             5.0   \n",
       "\n",
       "     slope_length_(ft) avg_width_(ft)  slope_area_(acres)  avg_grade_(%)  \\\n",
       "72               202.0            133                 0.6            9.0   \n",
       "73                85.0            132                 0.3            6.0   \n",
       "147              934.8            652                14.0           12.0   \n",
       "81               124.0            960                 2.7            8.0   \n",
       "82               103.0            562                 1.3            5.0   \n",
       "\n",
       "     max_grade_(%) ability_level          resort location  groomed colors  \\\n",
       "72            10.0      Beginner  Alpine Meadows       CA        1  green   \n",
       "73             8.0      Beginner  Alpine Meadows       CA        1  green   \n",
       "147           17.0        Novice            Vail       CO        0  green   \n",
       "81            10.0      Beginner   Crested Butte       CO        1  green   \n",
       "82            11.0      Beginner   Crested Butte       CO        1  green   \n",
       "\n",
       "     ability_nums  color_nums  \n",
       "72              1           1  \n",
       "73              1           1  \n",
       "147             2           1  \n",
       "81              1           1  \n",
       "82              1           1  "
      ]
     },
     "execution_count": 128,
     "metadata": {},
     "output_type": "execute_result"
    }
   ],
   "source": [
    "final_df[final_df['trail_name'].str.contains('Teach')]"
   ]
  },
  {
   "cell_type": "code",
   "execution_count": 125,
   "metadata": {},
   "outputs": [
    {
     "data": {
      "text/plain": [
       "(1125, 16)"
      ]
     },
     "execution_count": 125,
     "metadata": {},
     "output_type": "execute_result"
    }
   ],
   "source": [
    "final_df.shape"
   ]
  },
  {
   "cell_type": "code",
   "execution_count": null,
   "metadata": {
    "collapsed": true
   },
   "outputs": [],
   "source": []
  }
 ],
 "metadata": {
  "kernelspec": {
   "display_name": "Python 3",
   "language": "python",
   "name": "python3"
  },
  "language_info": {
   "codemirror_mode": {
    "name": "ipython",
    "version": 3
   },
   "file_extension": ".py",
   "mimetype": "text/x-python",
   "name": "python",
   "nbconvert_exporter": "python",
   "pygments_lexer": "ipython3",
   "version": "3.6.2"
  }
 },
 "nbformat": 4,
 "nbformat_minor": 2
}
