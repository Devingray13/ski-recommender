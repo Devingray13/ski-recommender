{
 "cells": [
  {
   "cell_type": "markdown",
   "metadata": {},
   "source": [
    "This code was used in experimenting with this as a supervised learning problem rather than unsupervised learning. I wanted to see if after training on a few mountains, the ability level of Winter Park cuold be predicted. Comb_tables has changed since this notebook, so it will not run anymore."
   ]
  },
  {
   "cell_type": "code",
   "execution_count": 1,
   "metadata": {
    "collapsed": true
   },
   "outputs": [],
   "source": [
    "import numpy as np\n",
    "import pandas as pd\n",
    "import matplotlib.pyplot as plt\n",
    "from statsmodels.stats.outliers_influence import variance_inflation_factor\n",
    "%matplotlib inline"
   ]
  },
  {
   "cell_type": "markdown",
   "metadata": {},
   "source": [
    "# DO NOT RUN COMB_TABLES AGAIN"
   ]
  },
  {
   "cell_type": "code",
   "execution_count": 2,
   "metadata": {
    "collapsed": true
   },
   "outputs": [],
   "source": [
    "run comb_tables.py"
   ]
  },
  {
   "cell_type": "code",
   "execution_count": 3,
   "metadata": {},
   "outputs": [
    {
     "name": "stderr",
     "output_type": "stream",
     "text": [
      "/home/karen/anaconda3/lib/python3.6/site-packages/ipykernel_launcher.py:2: SettingWithCopyWarning: \n",
      "A value is trying to be set on a copy of a slice from a DataFrame\n",
      "\n",
      "See the caveats in the documentation: http://pandas.pydata.org/pandas-docs/stable/indexing.html#indexing-view-versus-copy\n",
      "  \n",
      "/home/karen/anaconda3/lib/python3.6/site-packages/ipykernel_launcher.py:3: SettingWithCopyWarning: \n",
      "A value is trying to be set on a copy of a slice from a DataFrame\n",
      "\n",
      "See the caveats in the documentation: http://pandas.pydata.org/pandas-docs/stable/indexing.html#indexing-view-versus-copy\n",
      "  This is separate from the ipykernel package so we can avoid doing imports until\n",
      "/home/karen/anaconda3/lib/python3.6/site-packages/ipykernel_launcher.py:4: SettingWithCopyWarning: \n",
      "A value is trying to be set on a copy of a slice from a DataFrame\n",
      "\n",
      "See the caveats in the documentation: http://pandas.pydata.org/pandas-docs/stable/indexing.html#indexing-view-versus-copy\n",
      "  after removing the cwd from sys.path.\n"
     ]
    }
   ],
   "source": [
    "whole_table['ability_level'][whole_table['ability_level'] == 'Advanced Intermediate'] = 'Advanced'\n",
    "whole_table['ability_level'][whole_table['ability_level'] == 'Adv. Intermediate'] = 'Advanced'\n",
    "whole_table['ability_level'][whole_table['ability_level'] == 'Hike To'] = 'Expert'\n",
    "whole_table['ability_level'][whole_table['ability_level'] == 'Exp Bowl'] = 'Expert'"
   ]
  },
  {
   "cell_type": "markdown",
   "metadata": {},
   "source": [
    "Making a list of the useable X columns"
   ]
  },
  {
   "cell_type": "code",
   "execution_count": 4,
   "metadata": {
    "collapsed": true
   },
   "outputs": [],
   "source": [
    "X_lst = [column for column in list(whole_table.columns) if whole_table[column].dtype == 'float64']"
   ]
  },
  {
   "cell_type": "code",
   "execution_count": 5,
   "metadata": {},
   "outputs": [
    {
     "data": {
      "text/plain": [
       "array(['Expert', 'Intermediate', 'Advanced', 'Low Intermediate', 'Novice',\n",
       "       'Beginner', 'Glade'], dtype=object)"
      ]
     },
     "execution_count": 5,
     "metadata": {},
     "output_type": "execute_result"
    }
   ],
   "source": [
    "whole_table['ability_level'].unique()"
   ]
  },
  {
   "cell_type": "code",
   "execution_count": 6,
   "metadata": {
    "collapsed": true
   },
   "outputs": [],
   "source": [
    "WP = whole_table[whole_table['resort'] == 'Winter Park']"
   ]
  },
  {
   "cell_type": "code",
   "execution_count": 7,
   "metadata": {},
   "outputs": [
    {
     "name": "stderr",
     "output_type": "stream",
     "text": [
      "/home/karen/anaconda3/lib/python3.6/site-packages/ipykernel_launcher.py:1: SettingWithCopyWarning: \n",
      "A value is trying to be set on a copy of a slice from a DataFrame.\n",
      "Try using .loc[row_indexer,col_indexer] = value instead\n",
      "\n",
      "See the caveats in the documentation: http://pandas.pydata.org/pandas-docs/stable/indexing.html#indexing-view-versus-copy\n",
      "  \"\"\"Entry point for launching an IPython kernel.\n"
     ]
    }
   ],
   "source": [
    "WP['avg_width_(ft)'] = round((WP['slope_area_(acres)']/WP['slope_length_(ft)'])*43560,2)"
   ]
  },
  {
   "cell_type": "code",
   "execution_count": 8,
   "metadata": {},
   "outputs": [
    {
     "data": {
      "text/html": [
       "<div>\n",
       "<style>\n",
       "    .dataframe thead tr:only-child th {\n",
       "        text-align: right;\n",
       "    }\n",
       "\n",
       "    .dataframe thead th {\n",
       "        text-align: left;\n",
       "    }\n",
       "\n",
       "    .dataframe tbody tr th {\n",
       "        vertical-align: top;\n",
       "    }\n",
       "</style>\n",
       "<table border=\"1\" class=\"dataframe\">\n",
       "  <thead>\n",
       "    <tr style=\"text-align: right;\">\n",
       "      <th></th>\n",
       "      <th>trail_name</th>\n",
       "      <th>top_elev_(ft)</th>\n",
       "      <th>bottom_elev_(ft)</th>\n",
       "      <th>vert_rise_(ft)</th>\n",
       "      <th>slope_length_(ft)</th>\n",
       "      <th>avg_width_(ft)</th>\n",
       "      <th>slope_area_(acres)</th>\n",
       "      <th>avg_grade_(%)</th>\n",
       "      <th>max_grade_(%)</th>\n",
       "      <th>ability_level</th>\n",
       "      <th>resort</th>\n",
       "      <th>location</th>\n",
       "    </tr>\n",
       "  </thead>\n",
       "  <tbody>\n",
       "    <tr>\n",
       "      <th>1</th>\n",
       "      <td>Sorensen Park</td>\n",
       "      <td>9150.0</td>\n",
       "      <td>9090.0</td>\n",
       "      <td>60.0</td>\n",
       "      <td>1067.43</td>\n",
       "      <td>166.09</td>\n",
       "      <td>4.07</td>\n",
       "      <td>6.0</td>\n",
       "      <td>8.0</td>\n",
       "      <td>Beginner</td>\n",
       "      <td>Winter Park</td>\n",
       "      <td>CO</td>\n",
       "    </tr>\n",
       "    <tr>\n",
       "      <th>2</th>\n",
       "      <td>Turnpike</td>\n",
       "      <td>9460.0</td>\n",
       "      <td>9090.0</td>\n",
       "      <td>370.0</td>\n",
       "      <td>4366.51</td>\n",
       "      <td>51.38</td>\n",
       "      <td>5.15</td>\n",
       "      <td>9.0</td>\n",
       "      <td>15.0</td>\n",
       "      <td>Novice</td>\n",
       "      <td>Winter Park</td>\n",
       "      <td>CO</td>\n",
       "    </tr>\n",
       "    <tr>\n",
       "      <th>4</th>\n",
       "      <td>Upper Parkway</td>\n",
       "      <td>9710.0</td>\n",
       "      <td>9615.0</td>\n",
       "      <td>95.0</td>\n",
       "      <td>515.18</td>\n",
       "      <td>233.37</td>\n",
       "      <td>2.76</td>\n",
       "      <td>19.0</td>\n",
       "      <td>20.0</td>\n",
       "      <td>Novice</td>\n",
       "      <td>Winter Park</td>\n",
       "      <td>CO</td>\n",
       "    </tr>\n",
       "    <tr>\n",
       "      <th>5</th>\n",
       "      <td>Porcupine</td>\n",
       "      <td>9565.0</td>\n",
       "      <td>9390.0</td>\n",
       "      <td>175.0</td>\n",
       "      <td>1680.76</td>\n",
       "      <td>219.52</td>\n",
       "      <td>8.47</td>\n",
       "      <td>10.0</td>\n",
       "      <td>14.0</td>\n",
       "      <td>Novice</td>\n",
       "      <td>Winter Park</td>\n",
       "      <td>CO</td>\n",
       "    </tr>\n",
       "    <tr>\n",
       "      <th>6</th>\n",
       "      <td>Bobcat</td>\n",
       "      <td>9490.0</td>\n",
       "      <td>9400.0</td>\n",
       "      <td>90.0</td>\n",
       "      <td>822.96</td>\n",
       "      <td>80.98</td>\n",
       "      <td>1.53</td>\n",
       "      <td>11.0</td>\n",
       "      <td>9.0</td>\n",
       "      <td>Novice</td>\n",
       "      <td>Winter Park</td>\n",
       "      <td>CO</td>\n",
       "    </tr>\n",
       "  </tbody>\n",
       "</table>\n",
       "</div>"
      ],
      "text/plain": [
       "      trail_name  top_elev_(ft)  bottom_elev_(ft)  vert_rise_(ft)  \\\n",
       "1  Sorensen Park         9150.0            9090.0            60.0   \n",
       "2       Turnpike         9460.0            9090.0           370.0   \n",
       "4  Upper Parkway         9710.0            9615.0            95.0   \n",
       "5      Porcupine         9565.0            9390.0           175.0   \n",
       "6         Bobcat         9490.0            9400.0            90.0   \n",
       "\n",
       "   slope_length_(ft)  avg_width_(ft)  slope_area_(acres)  avg_grade_(%)  \\\n",
       "1            1067.43          166.09                4.07            6.0   \n",
       "2            4366.51           51.38                5.15            9.0   \n",
       "4             515.18          233.37                2.76           19.0   \n",
       "5            1680.76          219.52                8.47           10.0   \n",
       "6             822.96           80.98                1.53           11.0   \n",
       "\n",
       "   max_grade_(%) ability_level       resort location  \n",
       "1            8.0      Beginner  Winter Park       CO  \n",
       "2           15.0        Novice  Winter Park       CO  \n",
       "4           20.0        Novice  Winter Park       CO  \n",
       "5           14.0        Novice  Winter Park       CO  \n",
       "6            9.0        Novice  Winter Park       CO  "
      ]
     },
     "execution_count": 8,
     "metadata": {},
     "output_type": "execute_result"
    }
   ],
   "source": [
    "WP.head()"
   ]
  },
  {
   "cell_type": "code",
   "execution_count": 9,
   "metadata": {
    "collapsed": true
   },
   "outputs": [],
   "source": [
    "no_WP = whole_table[whole_table['resort'] != 'Winter Park']"
   ]
  },
  {
   "cell_type": "markdown",
   "metadata": {},
   "source": [
    "Taking out the Glades, since they're only in Vail, and I'm not sure what \"level\" they are"
   ]
  },
  {
   "cell_type": "code",
   "execution_count": 10,
   "metadata": {
    "collapsed": true
   },
   "outputs": [],
   "source": [
    "no_WP_no_glades = no_WP[no_WP['ability_level'] != 'Glade']"
   ]
  },
  {
   "cell_type": "code",
   "execution_count": 11,
   "metadata": {},
   "outputs": [
    {
     "data": {
      "text/plain": [
       "(902, 12)"
      ]
     },
     "execution_count": 11,
     "metadata": {},
     "output_type": "execute_result"
    }
   ],
   "source": [
    "no_WP_no_glades.shape"
   ]
  },
  {
   "cell_type": "code",
   "execution_count": 12,
   "metadata": {
    "collapsed": true
   },
   "outputs": [],
   "source": [
    "y = no_WP_no_glades['ability_level'].values"
   ]
  },
  {
   "cell_type": "code",
   "execution_count": 13,
   "metadata": {
    "collapsed": true
   },
   "outputs": [],
   "source": [
    "y_WP = WP['ability_level'].values"
   ]
  },
  {
   "cell_type": "code",
   "execution_count": 14,
   "metadata": {
    "collapsed": true
   },
   "outputs": [],
   "source": [
    "X_df = no_WP_no_glades[X_lst]"
   ]
  },
  {
   "cell_type": "code",
   "execution_count": 15,
   "metadata": {
    "collapsed": true
   },
   "outputs": [],
   "source": [
    "X = X_df.values"
   ]
  },
  {
   "cell_type": "code",
   "execution_count": 16,
   "metadata": {
    "collapsed": true
   },
   "outputs": [],
   "source": [
    "X_WP_df = WP[X_lst]"
   ]
  },
  {
   "cell_type": "code",
   "execution_count": 17,
   "metadata": {
    "collapsed": true
   },
   "outputs": [],
   "source": [
    "X_WP = X_WP_df.values"
   ]
  },
  {
   "cell_type": "code",
   "execution_count": 18,
   "metadata": {},
   "outputs": [
    {
     "data": {
      "text/plain": [
       "(902, 7)"
      ]
     },
     "execution_count": 18,
     "metadata": {},
     "output_type": "execute_result"
    }
   ],
   "source": [
    "X.shape"
   ]
  },
  {
   "cell_type": "markdown",
   "metadata": {},
   "source": [
    "Checking the multicollinearity - top_elev and bottom_elev seem to be an issue"
   ]
  },
  {
   "cell_type": "code",
   "execution_count": 19,
   "metadata": {},
   "outputs": [
    {
     "name": "stdout",
     "output_type": "stream",
     "text": [
      "230983.310033\n",
      "211795.340515\n",
      "685.106585747\n",
      "8.04823551605\n",
      "2.07729427927\n",
      "25.0777058556\n",
      "30.4859199687\n"
     ]
    }
   ],
   "source": [
    "for i in range(X.shape[1]):\n",
    "    print(variance_inflation_factor(X,i))"
   ]
  },
  {
   "cell_type": "markdown",
   "metadata": {},
   "source": [
    "Dropping the columns that seem to be most correlated (and unimportant...)"
   ]
  },
  {
   "cell_type": "code",
   "execution_count": 20,
   "metadata": {},
   "outputs": [
    {
     "data": {
      "text/html": [
       "<div>\n",
       "<style>\n",
       "    .dataframe thead tr:only-child th {\n",
       "        text-align: right;\n",
       "    }\n",
       "\n",
       "    .dataframe thead th {\n",
       "        text-align: left;\n",
       "    }\n",
       "\n",
       "    .dataframe tbody tr th {\n",
       "        vertical-align: top;\n",
       "    }\n",
       "</style>\n",
       "<table border=\"1\" class=\"dataframe\">\n",
       "  <thead>\n",
       "    <tr style=\"text-align: right;\">\n",
       "      <th></th>\n",
       "      <th>slope_length_(ft)</th>\n",
       "      <th>slope_area_(acres)</th>\n",
       "      <th>avg_grade_(%)</th>\n",
       "      <th>max_grade_(%)</th>\n",
       "    </tr>\n",
       "  </thead>\n",
       "  <tbody>\n",
       "    <tr>\n",
       "      <th>0</th>\n",
       "      <td>2404.0</td>\n",
       "      <td>17.6</td>\n",
       "      <td>50.0</td>\n",
       "      <td>69.0</td>\n",
       "    </tr>\n",
       "    <tr>\n",
       "      <th>1</th>\n",
       "      <td>839.0</td>\n",
       "      <td>3.7</td>\n",
       "      <td>55.0</td>\n",
       "      <td>66.0</td>\n",
       "    </tr>\n",
       "    <tr>\n",
       "      <th>2</th>\n",
       "      <td>1141.0</td>\n",
       "      <td>6.7</td>\n",
       "      <td>42.0</td>\n",
       "      <td>76.0</td>\n",
       "    </tr>\n",
       "    <tr>\n",
       "      <th>3</th>\n",
       "      <td>1183.0</td>\n",
       "      <td>3.7</td>\n",
       "      <td>35.0</td>\n",
       "      <td>61.0</td>\n",
       "    </tr>\n",
       "    <tr>\n",
       "      <th>4</th>\n",
       "      <td>702.0</td>\n",
       "      <td>3.2</td>\n",
       "      <td>33.0</td>\n",
       "      <td>41.0</td>\n",
       "    </tr>\n",
       "  </tbody>\n",
       "</table>\n",
       "</div>"
      ],
      "text/plain": [
       "   slope_length_(ft)  slope_area_(acres)  avg_grade_(%)  max_grade_(%)\n",
       "0             2404.0                17.6           50.0           69.0\n",
       "1              839.0                 3.7           55.0           66.0\n",
       "2             1141.0                 6.7           42.0           76.0\n",
       "3             1183.0                 3.7           35.0           61.0\n",
       "4              702.0                 3.2           33.0           41.0"
      ]
     },
     "execution_count": 20,
     "metadata": {},
     "output_type": "execute_result"
    }
   ],
   "source": [
    "X_dropped = X_df.drop(['top_elev_(ft)','bottom_elev_(ft)','vert_rise_(ft)'],axis=1)\n",
    "X_WP_dropped = X_WP_df.drop(['top_elev_(ft)','bottom_elev_(ft)','vert_rise_(ft)'],axis=1)\n",
    "X_dropped.head()"
   ]
  },
  {
   "cell_type": "code",
   "execution_count": 21,
   "metadata": {
    "collapsed": true
   },
   "outputs": [],
   "source": [
    "X_dropped_mat = X_dropped.values\n",
    "X_WP_dropped_mat = X_WP_dropped.values"
   ]
  },
  {
   "cell_type": "code",
   "execution_count": 22,
   "metadata": {},
   "outputs": [
    {
     "name": "stdout",
     "output_type": "stream",
     "text": [
      "2.15616742796\n",
      "1.72004087226\n",
      "23.3254539864\n",
      "27.1306624933\n"
     ]
    }
   ],
   "source": [
    "for i in range(X_dropped_mat.shape[1]):\n",
    "    print(variance_inflation_factor(X_dropped_mat,i))"
   ]
  },
  {
   "cell_type": "code",
   "execution_count": 23,
   "metadata": {
    "collapsed": true
   },
   "outputs": [],
   "source": [
    "from sklearn.linear_model import LogisticRegression\n",
    "from sklearn.model_selection import train_test_split"
   ]
  },
  {
   "cell_type": "markdown",
   "metadata": {},
   "source": [
    "Splitting the data and testing on y being the ability level - not a very good accuracy..."
   ]
  },
  {
   "cell_type": "code",
   "execution_count": 24,
   "metadata": {
    "collapsed": true
   },
   "outputs": [],
   "source": [
    "X_train, X_test, y_train, y_test = train_test_split(X_dropped_mat,y,test_size=.33,random_state=42)"
   ]
  },
  {
   "cell_type": "code",
   "execution_count": 25,
   "metadata": {
    "collapsed": true
   },
   "outputs": [],
   "source": [
    "logmod = LogisticRegression()"
   ]
  },
  {
   "cell_type": "code",
   "execution_count": 26,
   "metadata": {},
   "outputs": [
    {
     "data": {
      "text/plain": [
       "LogisticRegression(C=1.0, class_weight=None, dual=False, fit_intercept=True,\n",
       "          intercept_scaling=1, max_iter=100, multi_class='ovr', n_jobs=1,\n",
       "          penalty='l2', random_state=None, solver='liblinear', tol=0.0001,\n",
       "          verbose=0, warm_start=False)"
      ]
     },
     "execution_count": 26,
     "metadata": {},
     "output_type": "execute_result"
    }
   ],
   "source": [
    "logmod.fit(X_train,y_train)"
   ]
  },
  {
   "cell_type": "code",
   "execution_count": 27,
   "metadata": {},
   "outputs": [
    {
     "data": {
      "text/plain": [
       "0.54697986577181212"
      ]
     },
     "execution_count": 27,
     "metadata": {},
     "output_type": "execute_result"
    }
   ],
   "source": [
    "logmod.score(X_test,y_test)"
   ]
  },
  {
   "cell_type": "code",
   "execution_count": 28,
   "metadata": {
    "collapsed": true
   },
   "outputs": [],
   "source": [
    "y_pred = logmod.predict(X_test)"
   ]
  },
  {
   "cell_type": "markdown",
   "metadata": {},
   "source": [
    "Setting y as 'target' and using no_glades - much better accuracy..."
   ]
  },
  {
   "cell_type": "code",
   "execution_count": 29,
   "metadata": {
    "collapsed": true
   },
   "outputs": [],
   "source": [
    "from sklearn.tree import DecisionTreeClassifier\n",
    "from sklearn.neighbors import KNeighborsClassifier\n",
    "from sklearn.ensemble import RandomForestClassifier, AdaBoostClassifier, GradientBoostingClassifier\n",
    "from sklearn.linear_model import SGDClassifier"
   ]
  },
  {
   "cell_type": "code",
   "execution_count": 30,
   "metadata": {},
   "outputs": [
    {
     "data": {
      "text/plain": [
       "0.71140939597315433"
      ]
     },
     "execution_count": 30,
     "metadata": {},
     "output_type": "execute_result"
    }
   ],
   "source": [
    "dtc = DecisionTreeClassifier()\n",
    "dtc.fit (X_train,y_train)\n",
    "dtc.score(X_test,y_test)"
   ]
  },
  {
   "cell_type": "code",
   "execution_count": 31,
   "metadata": {},
   "outputs": [
    {
     "data": {
      "text/plain": [
       "0.3825503355704698"
      ]
     },
     "execution_count": 31,
     "metadata": {},
     "output_type": "execute_result"
    }
   ],
   "source": [
    "knn = KNeighborsClassifier()\n",
    "knn.fit(X_train,y_train)\n",
    "knn.score(X_test,y_test)"
   ]
  },
  {
   "cell_type": "code",
   "execution_count": 32,
   "metadata": {},
   "outputs": [
    {
     "data": {
      "text/plain": [
       "0.78523489932885904"
      ]
     },
     "execution_count": 32,
     "metadata": {},
     "output_type": "execute_result"
    }
   ],
   "source": [
    "rfc = RandomForestClassifier()\n",
    "rfc.fit(X_train,y_train)\n",
    "rfc.score(X_test,y_test)"
   ]
  },
  {
   "cell_type": "code",
   "execution_count": 33,
   "metadata": {},
   "outputs": [
    {
     "name": "stderr",
     "output_type": "stream",
     "text": [
      "/home/karen/anaconda3/lib/python3.6/site-packages/sklearn/linear_model/stochastic_gradient.py:84: FutureWarning: max_iter and tol parameters have been added in <class 'sklearn.linear_model.stochastic_gradient.SGDClassifier'> in 0.19. If both are left unset, they default to max_iter=5 and tol=None. If tol is not None, max_iter defaults to max_iter=1000. From 0.21, default max_iter will be 1000, and default tol will be 1e-3.\n",
      "  \"and default tol will be 1e-3.\" % type(self), FutureWarning)\n"
     ]
    },
    {
     "data": {
      "text/plain": [
       "0.18456375838926176"
      ]
     },
     "execution_count": 33,
     "metadata": {},
     "output_type": "execute_result"
    }
   ],
   "source": [
    "sgd = SGDClassifier()\n",
    "sgd.fit(X_train,y_train)\n",
    "sgd.score(X_test,y_test)"
   ]
  },
  {
   "cell_type": "code",
   "execution_count": 34,
   "metadata": {},
   "outputs": [
    {
     "data": {
      "text/plain": [
       "0.48322147651006714"
      ]
     },
     "execution_count": 34,
     "metadata": {},
     "output_type": "execute_result"
    }
   ],
   "source": [
    "ada = AdaBoostClassifier()\n",
    "ada.fit(X_train,y_train)\n",
    "ada.score(X_test,y_test)"
   ]
  },
  {
   "cell_type": "code",
   "execution_count": 35,
   "metadata": {},
   "outputs": [
    {
     "data": {
      "text/plain": [
       "0.78859060402684567"
      ]
     },
     "execution_count": 35,
     "metadata": {},
     "output_type": "execute_result"
    }
   ],
   "source": [
    "gbc = GradientBoostingClassifier()\n",
    "gbc.fit(X_train,y_train)\n",
    "gbc.score(X_test,y_test)"
   ]
  },
  {
   "cell_type": "code",
   "execution_count": 36,
   "metadata": {
    "collapsed": true
   },
   "outputs": [],
   "source": [
    "y_pred = gbc.predict(X_test)"
   ]
  },
  {
   "cell_type": "code",
   "execution_count": 37,
   "metadata": {},
   "outputs": [
    {
     "name": "stdout",
     "output_type": "stream",
     "text": [
      "Intermediate Low Intermediate\n",
      "Beginner Novice\n",
      "Low Intermediate Intermediate\n",
      "Intermediate Low Intermediate\n",
      "Low Intermediate Intermediate\n",
      "Advanced Expert\n",
      "Beginner Intermediate\n",
      "Intermediate Novice\n",
      "Intermediate Advanced\n",
      "Low Intermediate Intermediate\n",
      "Low Intermediate Intermediate\n",
      "Novice Low Intermediate\n",
      "Intermediate Advanced\n",
      "Novice Beginner\n",
      "Advanced Intermediate\n",
      "Intermediate Advanced\n",
      "Novice Beginner\n",
      "Novice Low Intermediate\n",
      "Low Intermediate Intermediate\n",
      "Advanced Expert\n",
      "Low Intermediate Intermediate\n",
      "Intermediate Low Intermediate\n",
      "Low Intermediate Intermediate\n",
      "Expert Intermediate\n",
      "Advanced Expert\n",
      "Low Intermediate Novice\n",
      "Low Intermediate Advanced\n",
      "Low Intermediate Intermediate\n",
      "Novice Low Intermediate\n",
      "Novice Low Intermediate\n",
      "Low Intermediate Intermediate\n",
      "Intermediate Low Intermediate\n",
      "Novice Intermediate\n",
      "Low Intermediate Intermediate\n",
      "Intermediate Advanced\n",
      "Novice Low Intermediate\n",
      "Intermediate Advanced\n",
      "Advanced Intermediate\n",
      "Intermediate Low Intermediate\n",
      "Novice Low Intermediate\n",
      "Beginner Intermediate\n",
      "Novice Low Intermediate\n",
      "Novice Low Intermediate\n",
      "Novice Low Intermediate\n",
      "Expert Advanced\n",
      "Low Intermediate Intermediate\n",
      "Novice Low Intermediate\n",
      "Low Intermediate Intermediate\n",
      "Beginner Novice\n",
      "Low Intermediate Novice\n",
      "Novice Low Intermediate\n",
      "Intermediate Advanced\n",
      "Low Intermediate Intermediate\n",
      "Novice Low Intermediate\n",
      "Novice Low Intermediate\n",
      "Low Intermediate Novice\n",
      "Beginner Novice\n",
      "Novice Advanced\n",
      "Advanced Intermediate\n",
      "Advanced Intermediate\n",
      "Low Intermediate Advanced\n",
      "Intermediate Low Intermediate\n",
      "Intermediate Advanced\n"
     ]
    }
   ],
   "source": [
    "for i,j in zip(y_pred,y_test):\n",
    "    if i != j:\n",
    "        print(i,j)"
   ]
  },
  {
   "cell_type": "code",
   "execution_count": 38,
   "metadata": {
    "collapsed": true
   },
   "outputs": [],
   "source": [
    "y_pred_WP = gbc.predict(X_WP_dropped)"
   ]
  },
  {
   "cell_type": "code",
   "execution_count": 40,
   "metadata": {},
   "outputs": [
    {
     "data": {
      "text/plain": [
       "0.53333333333333333"
      ]
     },
     "execution_count": 40,
     "metadata": {},
     "output_type": "execute_result"
    }
   ],
   "source": [
    "gbc.score(X_WP_dropped_mat,y_WP)"
   ]
  },
  {
   "cell_type": "code",
   "execution_count": 49,
   "metadata": {},
   "outputs": [
    {
     "data": {
      "text/plain": [
       "array([  4,   5,   8,   9,  10,  18,  20,  21,  25,  26,  27,  28,  29,\n",
       "        31,  32,  38,  41,  42,  43,  44,  45,  47,  50,  51,  54,  55,\n",
       "        56,  60,  64,  69,  70,  71,  72,  74,  77,  78,  81,  82,  84,\n",
       "        85,  86,  88,  89,  93,  94,  98,  99, 107, 108, 109, 110, 112,\n",
       "       116, 117, 118, 119, 120, 121, 124, 126, 127, 128, 130, 131, 132,\n",
       "       133, 134, 135, 136, 137, 138, 140, 141, 142, 143, 144, 145])"
      ]
     },
     "execution_count": 49,
     "metadata": {},
     "output_type": "execute_result"
    }
   ],
   "source": [
    "np.where(y_pred_WP != y_WP)[0]"
   ]
  },
  {
   "cell_type": "code",
   "execution_count": 50,
   "metadata": {},
   "outputs": [
    {
     "data": {
      "text/plain": [
       "array(['Beginner - Novice - 4', 'Intermediate - Novice - 5',\n",
       "       'Intermediate - Beginner - 8',\n",
       "       'Intermediate - Low Intermediate - 9', 'Advanced - Expert - 10',\n",
       "       'Expert - Advanced - 18', 'Advanced - Expert - 20',\n",
       "       'Advanced - Expert - 21', 'Intermediate - Low Intermediate - 25',\n",
       "       'Intermediate - Low Intermediate - 26',\n",
       "       'Low Intermediate - Novice - 27',\n",
       "       'Intermediate - Low Intermediate - 28',\n",
       "       'Novice - Low Intermediate - 29',\n",
       "       'Intermediate - Low Intermediate - 31', 'Expert - Novice - 32',\n",
       "       'Novice - Low Intermediate - 38', 'Low Intermediate - Novice - 41',\n",
       "       'Intermediate - Low Intermediate - 42',\n",
       "       'Intermediate - Low Intermediate - 43', 'Beginner - Novice - 44',\n",
       "       'Beginner - Novice - 45', 'Low Intermediate - Novice - 47',\n",
       "       'Advanced - Expert - 50', 'Novice - Expert - 51',\n",
       "       'Beginner - Novice - 54', 'Beginner - Novice - 55',\n",
       "       'Beginner - Novice - 56', 'Novice - Low Intermediate - 60',\n",
       "       'Expert - Intermediate - 64', 'Advanced - Expert - 69',\n",
       "       'Advanced - Expert - 70', 'Advanced - Expert - 71',\n",
       "       'Advanced - Expert - 72', 'Advanced - Expert - 74',\n",
       "       'Intermediate - Advanced - 77', 'Advanced - Expert - 78',\n",
       "       'Intermediate - Advanced - 81', 'Low Intermediate - Advanced - 82',\n",
       "       'Intermediate - Expert - 84', 'Novice - Beginner - 85',\n",
       "       'Beginner - Intermediate - 86', 'Intermediate - Advanced - 88',\n",
       "       'Intermediate - Advanced - 89', 'Advanced - Expert - 93',\n",
       "       'Advanced - Expert - 94', 'Advanced - Expert - 98',\n",
       "       'Advanced - Expert - 99', 'Intermediate - Advanced - 107',\n",
       "       'Intermediate - Low Intermediate - 108',\n",
       "       'Intermediate - Low Intermediate - 109',\n",
       "       'Novice - Low Intermediate - 110',\n",
       "       'Novice - Low Intermediate - 112', 'Novice - Intermediate - 116',\n",
       "       'Novice - Low Intermediate - 117', 'Intermediate - Advanced - 118',\n",
       "       'Novice - Low Intermediate - 119',\n",
       "       'Beginner - Low Intermediate - 120',\n",
       "       'Beginner - Low Intermediate - 121',\n",
       "       'Intermediate - Low Intermediate - 124',\n",
       "       'Intermediate - Low Intermediate - 126',\n",
       "       'Intermediate - Low Intermediate - 127',\n",
       "       'Novice - Low Intermediate - 128', 'Intermediate - Expert - 130',\n",
       "       'Advanced - Expert - 131', 'Beginner - Low Intermediate - 132',\n",
       "       'Novice - Low Intermediate - 133',\n",
       "       'Low Intermediate - Intermediate - 134', 'Advanced - Expert - 135',\n",
       "       'Low Intermediate - Advanced - 136', 'Advanced - Expert - 137',\n",
       "       'Low Intermediate - Intermediate - 138',\n",
       "       'Low Intermediate - Intermediate - 140',\n",
       "       'Low Intermediate - Intermediate - 141',\n",
       "       'Novice - Intermediate - 142', 'Low Intermediate - Advanced - 143',\n",
       "       'Intermediate - Advanced - 144',\n",
       "       'Low Intermediate - Intermediate - 145'], dtype=object)"
      ]
     },
     "execution_count": 50,
     "metadata": {},
     "output_type": "execute_result"
    }
   ],
   "source": [
    "y_pred_WP[y_pred_WP != y_WP] + ' - ' + y_WP[y_pred_WP != y_WP] + ' - ' + np.where(y_pred_WP != y_WP)[0].astype(str)"
   ]
  }
 ],
 "metadata": {
  "kernelspec": {
   "display_name": "Python 3",
   "language": "python",
   "name": "python3"
  },
  "language_info": {
   "codemirror_mode": {
    "name": "ipython",
    "version": 3
   },
   "file_extension": ".py",
   "mimetype": "text/x-python",
   "name": "python",
   "nbconvert_exporter": "python",
   "pygments_lexer": "ipython3",
   "version": "3.6.2"
  }
 },
 "nbformat": 4,
 "nbformat_minor": 2
}
