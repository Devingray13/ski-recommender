{
 "cells": [
  {
   "cell_type": "code",
   "execution_count": 188,
   "metadata": {
    "collapsed": true
   },
   "outputs": [],
   "source": [
    "import pickle\n",
    "import pandas as pd\n",
    "import numpy as np\n",
    "from sklearn.metrics.pairwise import cosine_similarity\n",
    "from sklearn.preprocessing import StandardScaler\n",
    "import warnings\n",
    "warnings.filterwarnings('ignore')"
   ]
  },
  {
   "cell_type": "code",
   "execution_count": 189,
   "metadata": {
    "collapsed": true
   },
   "outputs": [],
   "source": [
    "pkl_file = open('df.pkl', 'rb')\n",
    "df = pickle.load(pkl_file)\n",
    "pkl_file.close() "
   ]
  },
  {
   "cell_type": "code",
   "execution_count": 193,
   "metadata": {
    "collapsed": true
   },
   "outputs": [],
   "source": [
    "features = ['top_elev_(ft)', \n",
    "            'bottom_elev_(ft)', \n",
    "            'vert_rise_(ft)', \n",
    "            'slope_length_(ft)', \n",
    "            'avg_width_(ft)', \n",
    "            'slope_area_(acres)', \n",
    "            'avg_grade_(%)', \n",
    "            'max_grade_(%)', \n",
    "            'groomed']\n",
    "\n",
    "X = df[features].values"
   ]
  },
  {
   "cell_type": "code",
   "execution_count": 194,
   "metadata": {
    "scrolled": true
   },
   "outputs": [
    {
     "data": {
      "text/plain": [
       "array([[11924.0, 10858.0, 1066.0, ..., 50.0, 69.0, 0],\n",
       "       [11405.0, 11005.0, 400.0, ..., 55.0, 66.0, 0],\n",
       "       [11840.0, 11405.0, 435.0, ..., 42.0, 76.0, 0],\n",
       "       ..., \n",
       "       [8110.0, 8100.0, 10.0, ..., 8.0, 11.0, 1],\n",
       "       [8113.0, 8100.0, 13.0, ..., 12.0, 12.0, 1],\n",
       "       [8147.0, 8100.0, 47.0, ..., 15.0, 12.0, 1]], dtype=object)"
      ]
     },
     "execution_count": 194,
     "metadata": {},
     "output_type": "execute_result"
    }
   ],
   "source": [
    "X"
   ]
  },
  {
   "cell_type": "code",
   "execution_count": 195,
   "metadata": {
    "collapsed": true
   },
   "outputs": [],
   "source": [
    "def cos_sim_recommendations_resort(trail_name, resort_name, X, n=5, resort=None):\n",
    "    index = df.index[(df['trail_name'] == trail_name) & (df['resort'] == resort_name)][0]\n",
    "    trail = X[index].reshape(1,-1)\n",
    "    cs = cosine_similarity(trail, X)\n",
    "    rec_index = np.argsort(cs)[0][::-1][1:]\n",
    "    ordered_df = df.loc[rec_index]\n",
    "    if resort:\n",
    "        ordered_df = ordered_df[ordered_df['resort'] == resort]\n",
    "    rec_df = ordered_df.head(n)\n",
    "    orig_row = df.loc[[index]].rename(lambda x: 'original')\n",
    "    total = pd.concat((orig_row,rec_df))\n",
    "    return total"
   ]
  },
  {
   "cell_type": "code",
   "execution_count": 209,
   "metadata": {},
   "outputs": [],
   "source": [
    "ss = StandardScaler()\n",
    "X_trans = ss.fit_transform(X)"
   ]
  },
  {
   "cell_type": "code",
   "execution_count": 210,
   "metadata": {},
   "outputs": [
    {
     "data": {
      "text/plain": [
       "array([[ 1.12885212,  0.67904826,  1.5011197 , ...,  1.7960483 ,\n",
       "         1.3829293 , -0.81952402],\n",
       "       [ 0.72015105,  0.79497328, -0.24838454, ...,  2.18280168,\n",
       "         1.22823665, -0.81952402],\n",
       "       [ 1.06270397,  1.1104155 , -0.15644362, ...,  1.1772429 ,\n",
       "         1.74387879, -0.81952402],\n",
       "       ..., \n",
       "       [-1.87458885, -1.49592585, -1.27286899, ..., -1.45268006,\n",
       "        -1.6077951 ,  1.22022049],\n",
       "       [-1.87222642, -1.49592585, -1.26498834, ..., -1.14327736,\n",
       "        -1.55623089,  1.22022049],\n",
       "       [-1.84545217, -1.49592585, -1.17567432, ..., -0.91122533,\n",
       "        -1.55623089,  1.22022049]])"
      ]
     },
     "execution_count": 210,
     "metadata": {},
     "output_type": "execute_result"
    }
   ],
   "source": [
    "X_trans"
   ]
  },
  {
   "cell_type": "code",
   "execution_count": 232,
   "metadata": {
    "scrolled": true
   },
   "outputs": [
    {
     "data": {
      "text/html": [
       "<div>\n",
       "<style>\n",
       "    .dataframe thead tr:only-child th {\n",
       "        text-align: right;\n",
       "    }\n",
       "\n",
       "    .dataframe thead th {\n",
       "        text-align: left;\n",
       "    }\n",
       "\n",
       "    .dataframe tbody tr th {\n",
       "        vertical-align: top;\n",
       "    }\n",
       "</style>\n",
       "<table border=\"1\" class=\"dataframe\">\n",
       "  <thead>\n",
       "    <tr style=\"text-align: right;\">\n",
       "      <th></th>\n",
       "      <th>trail_name</th>\n",
       "      <th>top_elev_(ft)</th>\n",
       "      <th>bottom_elev_(ft)</th>\n",
       "      <th>vert_rise_(ft)</th>\n",
       "      <th>slope_length_(ft)</th>\n",
       "      <th>avg_width_(ft)</th>\n",
       "      <th>slope_area_(acres)</th>\n",
       "      <th>avg_grade_(%)</th>\n",
       "      <th>max_grade_(%)</th>\n",
       "      <th>ability_level</th>\n",
       "      <th>resort</th>\n",
       "      <th>location</th>\n",
       "      <th>groomed</th>\n",
       "      <th>colors</th>\n",
       "      <th>ability_nums</th>\n",
       "      <th>color_nums</th>\n",
       "    </tr>\n",
       "  </thead>\n",
       "  <tbody>\n",
       "    <tr>\n",
       "      <th>original</th>\n",
       "      <td>Sorensen Park</td>\n",
       "      <td>9150.0</td>\n",
       "      <td>9090.0</td>\n",
       "      <td>60.0</td>\n",
       "      <td>1067.43</td>\n",
       "      <td>114</td>\n",
       "      <td>4.07</td>\n",
       "      <td>6.0</td>\n",
       "      <td>8.0</td>\n",
       "      <td>Beginner</td>\n",
       "      <td>Winter Park</td>\n",
       "      <td>CO</td>\n",
       "      <td>1</td>\n",
       "      <td>green</td>\n",
       "      <td>1</td>\n",
       "      <td>1</td>\n",
       "    </tr>\n",
       "    <tr>\n",
       "      <th>932</th>\n",
       "      <td>Shoo Fly</td>\n",
       "      <td>9580.0</td>\n",
       "      <td>9450.0</td>\n",
       "      <td>130.0</td>\n",
       "      <td>1258.66</td>\n",
       "      <td>112</td>\n",
       "      <td>5.88</td>\n",
       "      <td>10.0</td>\n",
       "      <td>14.0</td>\n",
       "      <td>Beginner</td>\n",
       "      <td>Winter Park</td>\n",
       "      <td>CO</td>\n",
       "      <td>1</td>\n",
       "      <td>green</td>\n",
       "      <td>1</td>\n",
       "      <td>1</td>\n",
       "    </tr>\n",
       "    <tr>\n",
       "      <th>852</th>\n",
       "      <td>Bobcat</td>\n",
       "      <td>9490.0</td>\n",
       "      <td>9400.0</td>\n",
       "      <td>90.0</td>\n",
       "      <td>822.96</td>\n",
       "      <td>137</td>\n",
       "      <td>1.53</td>\n",
       "      <td>11.0</td>\n",
       "      <td>9.0</td>\n",
       "      <td>Novice</td>\n",
       "      <td>Winter Park</td>\n",
       "      <td>CO</td>\n",
       "      <td>1</td>\n",
       "      <td>green</td>\n",
       "      <td>2</td>\n",
       "      <td>1</td>\n",
       "    </tr>\n",
       "    <tr>\n",
       "      <th>854</th>\n",
       "      <td>Marmot Flats</td>\n",
       "      <td>9560.0</td>\n",
       "      <td>9405.0</td>\n",
       "      <td>155.0</td>\n",
       "      <td>1613.69</td>\n",
       "      <td>190</td>\n",
       "      <td>7.87</td>\n",
       "      <td>10.0</td>\n",
       "      <td>8.0</td>\n",
       "      <td>Beginner</td>\n",
       "      <td>Winter Park</td>\n",
       "      <td>CO</td>\n",
       "      <td>1</td>\n",
       "      <td>green</td>\n",
       "      <td>1</td>\n",
       "      <td>1</td>\n",
       "    </tr>\n",
       "    <tr>\n",
       "      <th>933</th>\n",
       "      <td>Tie Siding</td>\n",
       "      <td>9570.0</td>\n",
       "      <td>9475.0</td>\n",
       "      <td>95.0</td>\n",
       "      <td>888.42</td>\n",
       "      <td>49</td>\n",
       "      <td>1.75</td>\n",
       "      <td>11.0</td>\n",
       "      <td>8.0</td>\n",
       "      <td>Intermediate</td>\n",
       "      <td>Winter Park</td>\n",
       "      <td>CO</td>\n",
       "      <td>1</td>\n",
       "      <td>green</td>\n",
       "      <td>4</td>\n",
       "      <td>1</td>\n",
       "    </tr>\n",
       "    <tr>\n",
       "      <th>893</th>\n",
       "      <td>Mock Turtle</td>\n",
       "      <td>9965.0</td>\n",
       "      <td>9725.0</td>\n",
       "      <td>240.0</td>\n",
       "      <td>1915.39</td>\n",
       "      <td>110</td>\n",
       "      <td>5.02</td>\n",
       "      <td>13.0</td>\n",
       "      <td>16.0</td>\n",
       "      <td>Novice</td>\n",
       "      <td>Winter Park</td>\n",
       "      <td>CO</td>\n",
       "      <td>1</td>\n",
       "      <td>green</td>\n",
       "      <td>2</td>\n",
       "      <td>1</td>\n",
       "    </tr>\n",
       "  </tbody>\n",
       "</table>\n",
       "</div>"
      ],
      "text/plain": [
       "             trail_name  top_elev_(ft)  bottom_elev_(ft)  vert_rise_(ft)  \\\n",
       "original  Sorensen Park         9150.0            9090.0            60.0   \n",
       "932            Shoo Fly         9580.0            9450.0           130.0   \n",
       "852              Bobcat         9490.0            9400.0            90.0   \n",
       "854        Marmot Flats         9560.0            9405.0           155.0   \n",
       "933          Tie Siding         9570.0            9475.0            95.0   \n",
       "893         Mock Turtle         9965.0            9725.0           240.0   \n",
       "\n",
       "          slope_length_(ft) avg_width_(ft)  slope_area_(acres)  avg_grade_(%)  \\\n",
       "original            1067.43            114                4.07            6.0   \n",
       "932                 1258.66            112                5.88           10.0   \n",
       "852                  822.96            137                1.53           11.0   \n",
       "854                 1613.69            190                7.87           10.0   \n",
       "933                  888.42             49                1.75           11.0   \n",
       "893                 1915.39            110                5.02           13.0   \n",
       "\n",
       "          max_grade_(%) ability_level       resort location  groomed colors  \\\n",
       "original            8.0      Beginner  Winter Park       CO        1  green   \n",
       "932                14.0      Beginner  Winter Park       CO        1  green   \n",
       "852                 9.0        Novice  Winter Park       CO        1  green   \n",
       "854                 8.0      Beginner  Winter Park       CO        1  green   \n",
       "933                 8.0  Intermediate  Winter Park       CO        1  green   \n",
       "893                16.0        Novice  Winter Park       CO        1  green   \n",
       "\n",
       "          ability_nums  color_nums  \n",
       "original             1           1  \n",
       "932                  1           1  \n",
       "852                  2           1  \n",
       "854                  1           1  \n",
       "933                  4           1  \n",
       "893                  2           1  "
      ]
     },
     "execution_count": 232,
     "metadata": {},
     "output_type": "execute_result"
    }
   ],
   "source": [
    "cos_sim_recommendations_resort('Sorensen Park','Winter Park',X_trans,n=5,resort='Winter Park')"
   ]
  },
  {
   "cell_type": "code",
   "execution_count": 212,
   "metadata": {},
   "outputs": [],
   "source": [
    "sub_df = df[df['resort'] == 'Winter Park']"
   ]
  },
  {
   "cell_type": "code",
   "execution_count": 233,
   "metadata": {},
   "outputs": [],
   "source": [
    "list(sub_df['trail_name']);"
   ]
  },
  {
   "cell_type": "code",
   "execution_count": null,
   "metadata": {
    "collapsed": true
   },
   "outputs": [],
   "source": []
  }
 ],
 "metadata": {
  "kernelspec": {
   "display_name": "Python 3",
   "language": "python",
   "name": "python3"
  },
  "language_info": {
   "codemirror_mode": {
    "name": "ipython",
    "version": 3
   },
   "file_extension": ".py",
   "mimetype": "text/x-python",
   "name": "python",
   "nbconvert_exporter": "python",
   "pygments_lexer": "ipython3",
   "version": "3.6.2"
  }
 },
 "nbformat": 4,
 "nbformat_minor": 2
}
