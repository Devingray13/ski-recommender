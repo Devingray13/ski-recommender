{
 "cells": [
  {
   "cell_type": "code",
   "execution_count": 48,
   "metadata": {
    "collapsed": true
   },
   "outputs": [],
   "source": [
    "import pickle\n",
    "import pandas as pd\n",
    "import numpy as np\n",
    "from sklearn.metrics.pairwise import cosine_similarity\n",
    "from sklearn.preprocessing import StandardScaler\n",
    "import warnings\n",
    "warnings.filterwarnings('ignore')"
   ]
  },
  {
   "cell_type": "code",
   "execution_count": 49,
   "metadata": {
    "collapsed": true
   },
   "outputs": [],
   "source": [
    "pkl_file = open('df.pkl', 'rb')\n",
    "df = pickle.load(pkl_file)\n",
    "pkl_file.close() "
   ]
  },
  {
   "cell_type": "code",
   "execution_count": 50,
   "metadata": {
    "collapsed": true
   },
   "outputs": [],
   "source": [
    "features = [\n",
    "#             'top_elev_(ft)', \n",
    "#             'bottom_elev_(ft)', \n",
    "            'vert_rise_(ft)', \n",
    "            'slope_length_(ft)', \n",
    "            'avg_width_(ft)', \n",
    "            'slope_area_(acres)', \n",
    "            'avg_grade_(%)', \n",
    "            'max_grade_(%)', \n",
    "            'groomed']\n",
    "\n",
    "X = df[features].values"
   ]
  },
  {
   "cell_type": "code",
   "execution_count": 51,
   "metadata": {
    "scrolled": true
   },
   "outputs": [
    {
     "data": {
      "text/plain": [
       "array([[  1.06600000e+03,   2.40400000e+03,   3.19000000e+02, ...,\n",
       "          5.00000000e+01,   6.90000000e+01,   0.00000000e+00],\n",
       "       [  4.00000000e+02,   8.39000000e+02,   1.95000000e+02, ...,\n",
       "          5.50000000e+01,   6.60000000e+01,   0.00000000e+00],\n",
       "       [  4.35000000e+02,   1.14100000e+03,   2.55000000e+02, ...,\n",
       "          4.20000000e+01,   7.60000000e+01,   0.00000000e+00],\n",
       "       ..., \n",
       "       [  1.00000000e+01,   1.20000000e+02,   9.00000000e+01, ...,\n",
       "          8.00000000e+00,   1.10000000e+01,   1.00000000e+00],\n",
       "       [  1.30000000e+01,   1.10000000e+02,   1.20000000e+02, ...,\n",
       "          1.20000000e+01,   1.20000000e+01,   1.00000000e+00],\n",
       "       [  4.70000000e+01,   3.20000000e+02,   1.60000000e+02, ...,\n",
       "          1.50000000e+01,   1.20000000e+01,   1.00000000e+00]])"
      ]
     },
     "execution_count": 51,
     "metadata": {},
     "output_type": "execute_result"
    }
   ],
   "source": [
    "X"
   ]
  },
  {
   "cell_type": "code",
   "execution_count": 108,
   "metadata": {},
   "outputs": [],
   "source": [
    "def mtn_recommendations(trail_name, resort_name, X, n=5):\n",
    "    index = df.index[(df['trail_name'] == trail_name) & (df['resort'] == resort_name)][0]\n",
    "    trail = X[index].reshape(1,-1)\n",
    "    cs = cosine_similarity(trail, X)[0]\n",
    "    df['cosine_sim'] = cs\n",
    "    s = df.groupby('resort').mean()['cosine_sim'].sort_values()[::-1]\n",
    "    orig_row = df.loc[[index]].rename(lambda x: 'original')\n",
    "    return list(s.index[:n])"
   ]
  },
  {
   "cell_type": "code",
   "execution_count": 106,
   "metadata": {
    "collapsed": true
   },
   "outputs": [],
   "source": [
    "ss = StandardScaler()\n",
    "X = ss.fit_transform(X)"
   ]
  },
  {
   "cell_type": "code",
   "execution_count": 110,
   "metadata": {
    "scrolled": true
   },
   "outputs": [
    {
     "data": {
      "text/plain": [
       "'Eldora'"
      ]
     },
     "execution_count": 110,
     "metadata": {},
     "output_type": "execute_result"
    }
   ],
   "source": [
    "recs = mtn_recommendations('School Yard','Diamond Peak',X,n=12)\n",
    "recs[0]"
   ]
  },
  {
   "cell_type": "code",
   "execution_count": 60,
   "metadata": {},
   "outputs": [
    {
     "data": {
      "text/plain": [
       "array([-0.96046175, -0.69093177, -0.76849779, ...,  0.98417016,\n",
       "        0.97265153,  0.96422859])"
      ]
     },
     "execution_count": 60,
     "metadata": {},
     "output_type": "execute_result"
    }
   ],
   "source": [
    "cs = cosine_similarity(X[848].reshape(1,-1), X)[0]\n",
    "cs"
   ]
  },
  {
   "cell_type": "code",
   "execution_count": 61,
   "metadata": {
    "collapsed": true
   },
   "outputs": [],
   "source": [
    "df['cosine_sim'] = cs"
   ]
  },
  {
   "cell_type": "code",
   "execution_count": 73,
   "metadata": {},
   "outputs": [
    {
     "data": {
      "text/plain": [
       "resort\n",
       "Eldora            0.525733\n",
       "Crested Butte     0.383316\n",
       "Loveland          0.125752\n",
       "Taos              0.092368\n",
       "Diamond Peak      0.084631\n",
       "Monarch           0.070777\n",
       "Beaver Creek      0.069556\n",
       "Winter Park       0.050981\n",
       "Copper            0.035696\n",
       "Alpine Meadows   -0.070917\n",
       "Vail             -0.154051\n",
       "Arapahoe Basin   -0.222739\n",
       "Name: cosine_sim, dtype: float64"
      ]
     },
     "execution_count": 73,
     "metadata": {},
     "output_type": "execute_result"
    }
   ],
   "source": [
    "df.groupby('resort').mean()['cosine_sim'].sort_values()[::-1]"
   ]
  },
  {
   "cell_type": "code",
   "execution_count": 74,
   "metadata": {},
   "outputs": [
    {
     "data": {
      "text/plain": [
       "'Eldora'"
      ]
     },
     "execution_count": 74,
     "metadata": {},
     "output_type": "execute_result"
    }
   ],
   "source": [
    "_.index[0]"
   ]
  },
  {
   "cell_type": "code",
   "execution_count": null,
   "metadata": {
    "collapsed": true
   },
   "outputs": [],
   "source": []
  }
 ],
 "metadata": {
  "kernelspec": {
   "display_name": "Python 3",
   "language": "python",
   "name": "python3"
  },
  "language_info": {
   "codemirror_mode": {
    "name": "ipython",
    "version": 3
   },
   "file_extension": ".py",
   "mimetype": "text/x-python",
   "name": "python",
   "nbconvert_exporter": "python",
   "pygments_lexer": "ipython3",
   "version": "3.6.2"
  }
 },
 "nbformat": 4,
 "nbformat_minor": 2
}
