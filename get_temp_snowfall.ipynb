{
 "cells": [
  {
   "cell_type": "code",
   "execution_count": 1,
   "metadata": {
    "collapsed": true
   },
   "outputs": [],
   "source": [
    "import requests\n",
    "from bs4 import BeautifulSoup\n",
    "import pandas as pd\n",
    "from selenium import webdriver\n",
    "import time\n",
    "import pickle"
   ]
  },
  {
   "cell_type": "code",
   "execution_count": 4,
   "metadata": {
    "collapsed": true
   },
   "outputs": [],
   "source": [
    "browser = webdriver.PhantomJS()"
   ]
  },
  {
   "cell_type": "code",
   "execution_count": 48,
   "metadata": {},
   "outputs": [],
   "source": [
    "resort_urls = {'Loveland': 'colorado/loveland',\n",
    "               'Arapahoe Basin': 'colorado/arapahoe-basin-ski-area',\n",
    "               'Copper': 'colorado/copper-mountain-resort',\n",
    "               'Eldora': 'colorado/eldora-mountain-resort',\n",
    "               'Alpine Meadows': 'california/squaw-valley-usa',\n",
    "               'Vail': 'colorado/vail',\n",
    "               'Monarch': 'colorado/monarch-mountain',\n",
    "               'Crested Butte': 'colorado/crested-butte-mountain-resort',\n",
    "               'Taos': 'new-mexico/taos-ski-valley',\n",
    "               'Diamond Peak': 'nevada/diamond-peak',\n",
    "               'Winter Park': 'colorado/winter-park-resort',\n",
    "               'Beaver Creek': 'colorado/beaver-creek'}"
   ]
  },
  {
   "cell_type": "code",
   "execution_count": 87,
   "metadata": {
    "collapsed": true
   },
   "outputs": [],
   "source": [
    "URL = 'http://www.onthesnow.com/'+resort_urls['Beaver Creek']+'/ski-resort.html'\n",
    "browser.get(URL)\n",
    "# time.sleep(3)"
   ]
  },
  {
   "cell_type": "code",
   "execution_count": 88,
   "metadata": {},
   "outputs": [],
   "source": [
    "soup = BeautifulSoup(browser.page_source,'html.parser')\n",
    "temp_rows = soup.select('p.bluetxt.temp') \n",
    "snowfall_rows = soup.select('p.bluetxt.sfa')\n",
    "sdepth_rows = soup.select('p.bluetxt.sd') "
   ]
  },
  {
   "cell_type": "code",
   "execution_count": 89,
   "metadata": {},
   "outputs": [],
   "source": [
    "temp = int(''.join([x for x in [cell.text for cell in temp_rows][0] if x.isnumeric()]))\n",
    "snowfall = int(''.join([x for x in [cell.text for cell in snowfall_rows][0] if x.isnumeric()]))\n",
    "depth = int(''.join([x if x.isnumeric() else '0' for x in [cell.text for cell in sdepth_rows][0]]))"
   ]
  },
  {
   "cell_type": "code",
   "execution_count": 90,
   "metadata": {},
   "outputs": [
    {
     "data": {
      "text/plain": [
       "(53, 0, 0)"
      ]
     },
     "execution_count": 90,
     "metadata": {},
     "output_type": "execute_result"
    }
   ],
   "source": [
    "temp, snowfall, depth"
   ]
  },
  {
   "cell_type": "code",
   "execution_count": 91,
   "metadata": {
    "collapsed": true
   },
   "outputs": [],
   "source": [
    "def get_stats(resort):\n",
    "    URL = 'http://www.onthesnow.com/'+resort_urls[resort]+'/ski-resort.html'\n",
    "    browser.get(URL)\n",
    "    soup = BeautifulSoup(browser.page_source,'html.parser')\n",
    "    temp_rows = soup.select('p.bluetxt.temp') \n",
    "    snowfall_rows = soup.select('p.bluetxt.sfa')\n",
    "    sdepth_rows = soup.select('p.bluetxt.sd') \n",
    "    temp = int(''.join([x for x in [cell.text for cell in temp_rows][0] if x.isnumeric()]))\n",
    "    snowfall = int(''.join([x for x in [cell.text for cell in snowfall_rows][0] if x.isnumeric()]))\n",
    "    depth = int(''.join([x if x.isnumeric() else '0' for x in [cell.text for cell in sdepth_rows][0]]))\n",
    "    return temp, snowfall, depth"
   ]
  },
  {
   "cell_type": "code",
   "execution_count": 92,
   "metadata": {},
   "outputs": [
    {
     "data": {
      "text/plain": [
       "(53, 0, 0)"
      ]
     },
     "execution_count": 92,
     "metadata": {},
     "output_type": "execute_result"
    }
   ],
   "source": [
    "get_stats('Winter Park')"
   ]
  },
  {
   "cell_type": "code",
   "execution_count": 93,
   "metadata": {},
   "outputs": [
    {
     "name": "stdout",
     "output_type": "stream",
     "text": [
      "(47, 0, 0)\n",
      "(47, 0, 0)\n",
      "(49, 0, 0)\n",
      "(57, 0, 0)\n",
      "(37, 0, 0)\n",
      "(52, 0, 0)\n",
      "(48, 0, 0)\n",
      "(44, 0, 0)\n",
      "(53, 0, 0)\n",
      "(36, 0, 0)\n",
      "(53, 0, 0)\n",
      "(53, 0, 0)\n"
     ]
    }
   ],
   "source": [
    "for resort in resort_urls:\n",
    "    print(get_stats(resort))"
   ]
  },
  {
   "cell_type": "code",
   "execution_count": 140,
   "metadata": {
    "collapsed": true
   },
   "outputs": [],
   "source": [
    "stuff = soup.select('table.ovv_info tbody tr td')"
   ]
  },
  {
   "cell_type": "code",
   "execution_count": 141,
   "metadata": {},
   "outputs": [
    {
     "data": {
      "text/plain": [
       "['\\nClosed\\nSeason Start/End: 11/22 - 4/15\\n',\n",
       " '8100ft - 11439ft',\n",
       " '\\n19%|\\n                42%|\\n                22%|\\n                17%\\n',\n",
       " '25',\n",
       " '\\n                N/A\\n            ']"
      ]
     },
     "execution_count": 141,
     "metadata": {},
     "output_type": "execute_result"
    }
   ],
   "source": [
    "rows = [cell.text for cell in stuff]\n",
    "rows"
   ]
  },
  {
   "cell_type": "code",
   "execution_count": 143,
   "metadata": {},
   "outputs": [],
   "source": [
    "_, elevs, colors, lifts, price = rows"
   ]
  },
  {
   "cell_type": "code",
   "execution_count": 144,
   "metadata": {},
   "outputs": [
    {
     "data": {
      "text/plain": [
       "(8100, 11439)"
      ]
     },
     "execution_count": 144,
     "metadata": {},
     "output_type": "execute_result"
    }
   ],
   "source": [
    "bottom = int(''.join([x for x in elevs.split()[0] if x.isnumeric()]))\n",
    "top = int(''.join([x for x in elevs.split()[2] if x.isnumeric()]))\n",
    "bottom, top"
   ]
  },
  {
   "cell_type": "code",
   "execution_count": 121,
   "metadata": {},
   "outputs": [
    {
     "data": {
      "text/plain": [
       "(19, 42, 22, 17)"
      ]
     },
     "execution_count": 121,
     "metadata": {},
     "output_type": "execute_result"
    }
   ],
   "source": [
    "greens = int(''.join([x for x in colors.split()[0] if x.isnumeric()]))\n",
    "blues = int(''.join([x for x in colors.split()[1] if x.isnumeric()]))\n",
    "blacks = int(''.join([x for x in colors.split()[2] if x.isnumeric()]))\n",
    "bbs = int(''.join([x for x in colors.split()[3] if x.isnumeric()]))\n",
    "greens, blues, blacks, bbs"
   ]
  },
  {
   "cell_type": "code",
   "execution_count": 127,
   "metadata": {},
   "outputs": [
    {
     "data": {
      "text/plain": [
       "25"
      ]
     },
     "execution_count": 127,
     "metadata": {},
     "output_type": "execute_result"
    }
   ],
   "source": [
    "lifts = int(lifts)\n",
    "lifts"
   ]
  },
  {
   "cell_type": "code",
   "execution_count": 139,
   "metadata": {},
   "outputs": [
    {
     "data": {
      "text/plain": [
       "0"
      ]
     },
     "execution_count": 139,
     "metadata": {},
     "output_type": "execute_result"
    }
   ],
   "source": [
    "price = int(''.join([x if x.isnumeric() else '0' for x in price.split()[0]]))\n",
    "price"
   ]
  },
  {
   "cell_type": "code",
   "execution_count": 145,
   "metadata": {
    "collapsed": true
   },
   "outputs": [],
   "source": [
    "def get_elevs_colors_lifts_price(resort):\n",
    "    URL = 'http://www.onthesnow.com/'+resort_urls[resort]+'/ski-resort.html'\n",
    "    browser.get(URL)\n",
    "    soup = BeautifulSoup(browser.page_source,'html.parser')\n",
    "    stuff = soup.select('table.ovv_info tbody tr td')\n",
    "    rows = [cell.text for cell in stuff]\n",
    "    _, elevs, colors, lifts, price = rows\n",
    "    bottom = int(''.join([x for x in elevs.split()[0] if x.isnumeric()]))\n",
    "    top = int(''.join([x for x in elevs.split()[2] if x.isnumeric()]))\n",
    "    greens = int(''.join([x for x in colors.split()[0] if x.isnumeric()]))\n",
    "    blues = int(''.join([x for x in colors.split()[1] if x.isnumeric()]))\n",
    "    blacks = int(''.join([x for x in colors.split()[2] if x.isnumeric()]))\n",
    "    bbs = int(''.join([x for x in colors.split()[3] if x.isnumeric()]))\n",
    "    lifts = int(lifts)\n",
    "    price = int(''.join([x if x.isnumeric() else '0' for x in price.split()[0]]))\n",
    "    return bottom, top, greens, blues, blacks, bbs, lifts, price"
   ]
  },
  {
   "cell_type": "code",
   "execution_count": null,
   "metadata": {
    "collapsed": true
   },
   "outputs": [],
   "source": [
    "elevs_colors_lifts_price = {}\n",
    "for resort in resort_urls:\n",
    "    elevs"
   ]
  }
 ],
 "metadata": {
  "kernelspec": {
   "display_name": "Python 3",
   "language": "python",
   "name": "python3"
  },
  "language_info": {
   "codemirror_mode": {
    "name": "ipython",
    "version": 3
   },
   "file_extension": ".py",
   "mimetype": "text/x-python",
   "name": "python",
   "nbconvert_exporter": "python",
   "pygments_lexer": "ipython3",
   "version": "3.6.2"
  }
 },
 "nbformat": 4,
 "nbformat_minor": 2
}
