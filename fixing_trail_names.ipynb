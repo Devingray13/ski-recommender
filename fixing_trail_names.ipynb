{
 "cells": [
  {
   "cell_type": "code",
   "execution_count": 1,
   "metadata": {
    "collapsed": true
   },
   "outputs": [],
   "source": [
    "import pickle\n",
    "import pandas as pd\n",
    "import numpy as np\n",
    "from sklearn.metrics.pairwise import cosine_similarity\n",
    "from sklearn.preprocessing import StandardScaler\n",
    "import warnings\n",
    "warnings.filterwarnings('ignore')"
   ]
  },
  {
   "cell_type": "code",
   "execution_count": 2,
   "metadata": {
    "collapsed": true
   },
   "outputs": [],
   "source": [
    "pkl_file = open('df.pkl', 'rb')\n",
    "df = pickle.load(pkl_file)\n",
    "pkl_file.close() "
   ]
  },
  {
   "cell_type": "code",
   "execution_count": 25,
   "metadata": {},
   "outputs": [
    {
     "name": "stdout",
     "output_type": "stream",
     "text": [
      "17 Sky Walker II\n",
      "19 QuickDraw\n",
      "20 KCCutoff\n",
      "20 KCCutoff\n",
      "41 Doc’sRun\n",
      "45 DireStraits\n",
      "47 GreatDivide\n",
      "53 Geno’sMeadow\n"
     ]
    }
   ],
   "source": [
    "a = list(df['trail_name'][df['resort'] == 'Monarch'])\n",
    "b = [x.split() for x in a]\n",
    "c = [''.join(x) if len(x[0]) == 1 else ' '.join(x) for x in b]\n",
    "c\n",
    "for idx,name in enumerate(c):\n",
    "    for i in range(len(name)-1):\n",
    "        if name[i].islower() and name[i+1].isupper():\n",
    "            print(idx,name)\n",
    "            print\n",
    "        if name[i].isupper() and name[i+1].isupper():\n",
    "            print(idx,name)"
   ]
  },
  {
   "cell_type": "code",
   "execution_count": 26,
   "metadata": {},
   "outputs": [],
   "source": [
    "c[19] = 'Quick Draw'\n",
    "c[20] = 'KC Cutoff'\n",
    "c[41] = \"Doc's Run\"\n",
    "c[42] = 'Dire Straits'\n",
    "c[47] = 'Great Divide'\n",
    "c[53] = \"Geno's Meadow\""
   ]
  },
  {
   "cell_type": "code",
   "execution_count": 27,
   "metadata": {},
   "outputs": [
    {
     "data": {
      "text/plain": [
       "['Gunbarrel',\n",
       " 'Tele Alley',\n",
       " 'North Forty',\n",
       " 'Liberty',\n",
       " 'Drifter',\n",
       " 'Sidewinder',\n",
       " 'Toddler',\n",
       " 'Short Circuit',\n",
       " 'Roundabout',\n",
       " 'Curecanti',\n",
       " 'Romp',\n",
       " 'Tango',\n",
       " 'Lower Tango',\n",
       " 'Examiner',\n",
       " 'Ajax',\n",
       " 'Cleanzer',\n",
       " 'Kanonen',\n",
       " 'Sky Walker II',\n",
       " 'Sky Walker I',\n",
       " 'Quick Draw',\n",
       " 'KC Cutoff',\n",
       " 'Sleepy Hollow',\n",
       " 'Lobo',\n",
       " 'Upper No Name',\n",
       " 'Upper X mas Tree',\n",
       " 'Lower No Name',\n",
       " 'Freeway',\n",
       " 'Snowflake',\n",
       " 'Little Joe',\n",
       " 'Bee Line',\n",
       " 'Rookie',\n",
       " 'Glade',\n",
       " 'Tenderfoot',\n",
       " 'Short N Sweet',\n",
       " 'Turbo',\n",
       " 'Mirage',\n",
       " 'Sheer Rocko',\n",
       " 'High Anxiety',\n",
       " 'Safari',\n",
       " 'Little Mo',\n",
       " 'Lower Hall’s Alley',\n",
       " \"Doc's Run\",\n",
       " 'Dire Straits',\n",
       " 'Frazzle',\n",
       " 'Zipper',\n",
       " 'DireStraits',\n",
       " 'Ticaboo',\n",
       " 'Great Divide',\n",
       " 'Picante',\n",
       " 'Snow Burn',\n",
       " 'Outback',\n",
       " 'Shagnasty',\n",
       " 'Upper Hall’s Alley',\n",
       " \"Geno's Meadow\",\n",
       " 'Mirkwood Basin',\n",
       " 'Mirkwood Basin Egress']"
      ]
     },
     "execution_count": 27,
     "metadata": {},
     "output_type": "execute_result"
    }
   ],
   "source": [
    "c"
   ]
  },
  {
   "cell_type": "code",
   "execution_count": 28,
   "metadata": {
    "collapsed": true
   },
   "outputs": [],
   "source": [
    "df['trail_name'][df['resort'] == 'Monarch'] = c"
   ]
  },
  {
   "cell_type": "code",
   "execution_count": 31,
   "metadata": {},
   "outputs": [
    {
     "data": {
      "text/plain": [
       "(56, 16)"
      ]
     },
     "execution_count": 31,
     "metadata": {},
     "output_type": "execute_result"
    }
   ],
   "source": [
    "df[df['resort'] == 'Monarch'].shape"
   ]
  },
  {
   "cell_type": "code",
   "execution_count": null,
   "metadata": {
    "collapsed": true
   },
   "outputs": [],
   "source": []
  }
 ],
 "metadata": {
  "kernelspec": {
   "display_name": "Python 3",
   "language": "python",
   "name": "python3"
  },
  "language_info": {
   "codemirror_mode": {
    "name": "ipython",
    "version": 3
   },
   "file_extension": ".py",
   "mimetype": "text/x-python",
   "name": "python",
   "nbconvert_exporter": "python",
   "pygments_lexer": "ipython3",
   "version": "3.6.2"
  }
 },
 "nbformat": 4,
 "nbformat_minor": 2
}
