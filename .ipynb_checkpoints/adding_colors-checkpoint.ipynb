{
 "cells": [
  {
   "cell_type": "code",
   "execution_count": 1,
   "metadata": {
    "collapsed": true
   },
   "outputs": [],
   "source": [
    "import warnings\n",
    "warnings.filterwarnings('ignore')"
   ]
  },
  {
   "cell_type": "code",
   "execution_count": 2,
   "metadata": {},
   "outputs": [],
   "source": [
    "run comb_tables.py"
   ]
  },
  {
   "cell_type": "code",
   "execution_count": 3,
   "metadata": {
    "collapsed": true
   },
   "outputs": [],
   "source": [
    "run webscrape_trails.py"
   ]
  },
  {
   "cell_type": "code",
   "execution_count": 4,
   "metadata": {
    "collapsed": true
   },
   "outputs": [],
   "source": [
    "def missing_trails(color_trails,resort):\n",
    "    trail_lst = []\n",
    "    for trail in color_trails:\n",
    "        if trail not in list(resort['trail_name']):\n",
    "             trail_lst.append(trail)\n",
    "    return trail_lst"
   ]
  },
  {
   "cell_type": "code",
   "execution_count": 5,
   "metadata": {},
   "outputs": [],
   "source": [
    "resorts = ['Loveland',\n",
    " 'Arapahoe Basin',\n",
    " 'Copper',\n",
    " 'Eldora',\n",
    " 'Alpine Meadows',\n",
    " 'Vail',\n",
    " 'Monarch',\n",
    " 'Crested Butte',\n",
    " 'Taos',\n",
    " 'Diamond Peak',\n",
    " 'Winter Park',\n",
    " 'Beaver Creek']\n",
    "levels = ['green','blue','black','bb']\n",
    "resort_dfs = [loveland,AB,copper,eldora,AM,vail,monarch,CB,taos,DP,WP,BC]"
   ]
  },
  {
   "cell_type": "code",
   "execution_count": 6,
   "metadata": {
    "collapsed": true
   },
   "outputs": [],
   "source": [
    "def get_trails_list(resort,level):\n",
    "    if d[resort][level] is None:\n",
    "        return []\n",
    "    else:\n",
    "        return [word.encode('ascii','ignore').strip().decode('utf-8') for word in d[resort][level]['Name']]"
   ]
  },
  {
   "cell_type": "code",
   "execution_count": 7,
   "metadata": {
    "collapsed": true
   },
   "outputs": [],
   "source": [
    "trails_by_color = {}\n",
    "for resort in resorts:\n",
    "    trails_by_color[resort] = {level: get_trails_list(resort,level) for level in levels}"
   ]
  },
  {
   "cell_type": "code",
   "execution_count": 8,
   "metadata": {
    "collapsed": true
   },
   "outputs": [],
   "source": [
    "def make_classes(resort_df,resort):\n",
    "    resort_df['class'] = 'color'\n",
    "    levels = ['green','blue','black','bb']\n",
    "    for level in levels:\n",
    "        resort_df['class'][resort_df['trail_name'].isin(get_trails_list(resort,level))] = level\n",
    "    return resort_df"
   ]
  },
  {
   "cell_type": "code",
   "execution_count": 10,
   "metadata": {},
   "outputs": [],
   "source": [
    "dfs = {}\n",
    "for resort_df,resort in zip(resort_dfs,resorts):\n",
    "    make_classes(resort_df,resort)"
   ]
  },
  {
   "cell_type": "code",
   "execution_count": 21,
   "metadata": {},
   "outputs": [],
   "source": [
    "missing_trails(trails_by_color['Alpine Meadows']['black'],AM);"
   ]
  },
  {
   "cell_type": "code",
   "execution_count": 13,
   "metadata": {
    "collapsed": true
   },
   "outputs": [],
   "source": [
    "AM_greens = ['Meadow Run', 'Subway Run', 'Teaching Terrain']\n",
    "AM_blues = ['Bobby’s Run', 'Maid Marian', 'Nick’s Run', 'Ray’s Rut', 'Reily’s Run', 'Sandy’s Corner', 'Scotty’s Beam', 'Werner’s Schuss']\n",
    "AM_blacks = ['Peter’s Peril', 'Hidden Knoll’s', 'Promise Land']\n",
    "AM_unknown = ['Terry’s Return']"
   ]
  },
  {
   "cell_type": "code",
   "execution_count": 24,
   "metadata": {},
   "outputs": [
    {
     "data": {
      "text/plain": [
       "58    Terry’s Return\n",
       "Name: trail_name, dtype: object"
      ]
     },
     "execution_count": 24,
     "metadata": {},
     "output_type": "execute_result"
    }
   ],
   "source": [
    "AM['class'][AM['trail_name'].isin(AM_greens)] = 'green'\n",
    "AM['class'][AM['trail_name'].isin(AM_blues)] = 'blue'\n",
    "AM['class'][AM['trail_name'].isin(AM_blacks)] = 'black'\n",
    "AM['trail_name'][AM['class'] == 'color']"
   ]
  },
  {
   "cell_type": "code",
   "execution_count": 22,
   "metadata": {
    "collapsed": true
   },
   "outputs": [],
   "source": [
    "ll_greens = ['Cat Walk', 'Deuces Wild', 'Home Run', 'Zig-Zag','Magic Carpet Slope']\n",
    "ll_blues = ['Apollo (Lower)','Apollo (Upper)', 'Blackjack (Lower)', 'Blackjack (Upper)', 'North Chutes', 'Switchback (Lower)',\n",
    "            'Switchback (Upper)', 'Twist (Lower)', 'Twist (Upper)']\n",
    "ll_blacks = ['Cats Meow', 'Fail Safe Trees I', 'Fail Safe Trees II', 'Sunburst Chutes']\n",
    "ll_bbs = ['#4 Headwall', 'Upper #4 Headwall', 'Patrol Bowl (Lower)', 'Patrol Bowl (Upper)']\n",
    "ll_unknown = ['Stardust']\n",
    "ll_unknown += ['Catwalk Trees', 'Field of Dreams', 'Porcupine Saddle', 'Satisfaction']\n",
    "ll_unknown += ['Marmot', 'Rock Chutes', 'Super Bowl', 'Super Nova', 'Tickler',  'Velvet Hammer', 'Wild Child']"
   ]
  },
  {
   "cell_type": "code",
   "execution_count": 23,
   "metadata": {},
   "outputs": [
    {
     "data": {
      "text/plain": [
       "6     Upper Richard's\n",
       "14            Tempest\n",
       "16         T-bar Road\n",
       "17                   \n",
       "53         Sani Flush\n",
       "60         Chet's Run\n",
       "61     Hook 'Em Horns\n",
       "64         Awesome II\n",
       "68           Rip Curl\n",
       "Name: trail_name, dtype: object"
      ]
     },
     "execution_count": 23,
     "metadata": {},
     "output_type": "execute_result"
    }
   ],
   "source": [
    "loveland['class'][loveland['trail_name'].isin(ll_greens)] = 'green'\n",
    "loveland['class'][loveland['trail_name'].isin(ll_blues)] = 'blue'\n",
    "loveland['class'][loveland['trail_name'].isin(ll_blacks)] = 'black'\n",
    "loveland['class'][loveland['trail_name'].isin(ll_bbs)] = 'bb'\n",
    "loveland['trail_name'][loveland['class'] == 'color']"
   ]
  },
  {
   "cell_type": "code",
   "execution_count": null,
   "metadata": {
    "collapsed": true
   },
   "outputs": [],
   "source": []
  }
 ],
 "metadata": {
  "kernelspec": {
   "display_name": "Python 3",
   "language": "python",
   "name": "python3"
  },
  "language_info": {
   "codemirror_mode": {
    "name": "ipython",
    "version": 3
   },
   "file_extension": ".py",
   "mimetype": "text/x-python",
   "name": "python",
   "nbconvert_exporter": "python",
   "pygments_lexer": "ipython3",
   "version": "3.6.2"
  }
 },
 "nbformat": 4,
 "nbformat_minor": 2
}
