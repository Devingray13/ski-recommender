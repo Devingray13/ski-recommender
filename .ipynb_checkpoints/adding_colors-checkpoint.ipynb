{
 "cells": [
  {
   "cell_type": "code",
   "execution_count": 117,
   "metadata": {
    "collapsed": true
   },
   "outputs": [],
   "source": [
    "import warnings\n",
    "warnings.filterwarnings('ignore')"
   ]
  },
  {
   "cell_type": "code",
   "execution_count": 118,
   "metadata": {},
   "outputs": [],
   "source": [
    "run comb_tables.py"
   ]
  },
  {
   "cell_type": "code",
   "execution_count": 119,
   "metadata": {
    "collapsed": true
   },
   "outputs": [],
   "source": [
    "run webscrape_trails.py"
   ]
  },
  {
   "cell_type": "code",
   "execution_count": 142,
   "metadata": {
    "collapsed": true
   },
   "outputs": [],
   "source": [
    "resorts = ['Loveland',\n",
    " 'Arapahoe Basin',\n",
    " 'Copper',\n",
    " 'Eldora',\n",
    " 'Alpine Meadows',\n",
    " 'Vail',\n",
    " 'Monarch',\n",
    " 'Crested Butte',\n",
    " 'Taos',\n",
    " 'Diamond Peak',\n",
    " 'Winter Park',\n",
    " 'Beaver Creek']\n",
    "levels = ['green','blue','black','bb']\n",
    "resort_dfs = [loveland,AB,copper,eldora,AM,vail,monarch,CB,taos,DP,WP,BC]"
   ]
  },
  {
   "cell_type": "code",
   "execution_count": 143,
   "metadata": {
    "collapsed": true
   },
   "outputs": [],
   "source": [
    "def missing_trails(color_trails,resort_df):\n",
    "    '''\n",
    "    Inputs:\n",
    "    color_trails = trails_by_color[resort][level] (list)\n",
    "    resort_df from resort_dfs (DataFrame)\n",
    "    Outputs:\n",
    "    list of trails by color from webscraping that weren't in the dataframe\n",
    "    '''\n",
    "    trail_lst = []\n",
    "    for trail in color_trails:\n",
    "        if trail not in list(resort_df['trail_name']):\n",
    "             trail_lst.append(trail)\n",
    "    return trail_lst"
   ]
  },
  {
   "cell_type": "code",
   "execution_count": 144,
   "metadata": {},
   "outputs": [],
   "source": [
    "def get_trails_list(resort,level):\n",
    "    '''\n",
    "    Inputs: \n",
    "    resort from resorts (str)\n",
    "    level from levels (str)\n",
    "    Outputs:\n",
    "    list of trail names in a useable string format (list)\n",
    "    '''\n",
    "    if dct[resort][level] is None:\n",
    "        return []\n",
    "    else:\n",
    "        return [word.encode('ascii','ignore').strip().decode('utf-8') for word in dct[resort][level]['Name']]\n",
    "    \n",
    "trails_by_color = {}\n",
    "for resort in resorts:\n",
    "    trails_by_color[resort] = {level: get_trails_list(resort,level) for level in levels}"
   ]
  },
  {
   "cell_type": "code",
   "execution_count": 145,
   "metadata": {},
   "outputs": [],
   "source": [
    "def make_classes(resort_df,resort):\n",
    "    '''\n",
    "    Inputs:\n",
    "    resort_df from resort_dfs (DataFrame)\n",
    "    resort from resorts (str)\n",
    "    Outputs:\n",
    "    resort_df w/ class column added (DataFrame)\n",
    "    '''\n",
    "    resort_df['class'] = 'color'\n",
    "    levels = ['green','blue','black','bb']\n",
    "    for level in levels:\n",
    "        resort_df['class'][resort_df['trail_name'].isin(get_trails_list(resort,level))] = level\n",
    "    return resort_df\n",
    "\n",
    "for resort_df,resort in zip(resort_dfs,resorts):\n",
    "    make_classes(resort_df,resort)"
   ]
  },
  {
   "cell_type": "code",
   "execution_count": 146,
   "metadata": {
    "collapsed": true
   },
   "outputs": [],
   "source": [
    "'''\n",
    "Dictionary of dictionaries {resort: {level: [trails]}}\n",
    "For trails that are in the resort_df but have slightly different names from the webscraping\n",
    "'''\n",
    "trails_to_add = {}"
   ]
  },
  {
   "cell_type": "code",
   "execution_count": 147,
   "metadata": {
    "collapsed": true
   },
   "outputs": [],
   "source": [
    "trails_to_add['Alpine Meadows'] = {'green': ['Meadow Run', 'Subway Run', 'Teaching Terrain'],\n",
    "                                   'blue': ['Bobby’s Run', 'Maid Marian', 'Nick’s Run', 'Ray’s Rut', 'Reily’s Run', 'Sandy’s Corner', 'Scotty’s Beam', 'Werner’s Schuss'],\n",
    "                                   'black': ['Peter’s Peril', 'Hidden Knoll’s', 'Promise Land'],\n",
    "                                   'bb': []}\n",
    "\n",
    "AM_unknown = ['Terry’s Return']"
   ]
  },
  {
   "cell_type": "code",
   "execution_count": 148,
   "metadata": {
    "collapsed": true
   },
   "outputs": [],
   "source": [
    "trails_to_add['Loveland'] = {'green': ['Cat Walk', 'Deuces Wild', 'Home Run', 'Zig-Zag','Magic Carpet Slope'],\n",
    "                             'blue': ['Apollo (Lower)','Apollo (Upper)', 'Blackjack (Lower)', 'Blackjack (Upper)', 'North Chutes', 'Switchback (Lower)',\n",
    "            'Switchback (Upper)', 'Twist (Lower)', 'Twist (Upper)'],\n",
    "                             'black': ['Cats Meow', 'Fail Safe Trees I', 'Fail Safe Trees II', 'Sunburst Chutes'],\n",
    "                             'bb': ['#4 Headwall', 'Upper #4 Headwall', 'Patrol Bowl (Lower)', 'Patrol Bowl (Upper)']}\n",
    "\n",
    "ll_unknown = ['Stardust']\n",
    "ll_unknown += ['Catwalk Trees', 'Field of Dreams', 'Porcupine Saddle', 'Satisfaction']\n",
    "ll_unknown += ['Marmot', 'Rock Chutes', 'Super Bowl', 'Super Nova', 'Tickler',  'Velvet Hammer', 'Wild Child']"
   ]
  },
  {
   "cell_type": "code",
   "execution_count": 149,
   "metadata": {},
   "outputs": [],
   "source": [
    "trails_to_add['Arapahoe Basin'] = {'green': ['Wrangler Lower', 'Wrangler Middle', 'Wrangler Upper', 'Molly Hogan 1', 'Molly Hogan 2', \"Molly's Magic Carpet\", 'Molly Hogan Upper', 'Carpet II'],\n",
    "                                   'blue': ['Cornice Run I', 'Cornice Run II', 'T.B. Glade'],\n",
    "                                   'black': ['Powder Keg Lower', 'Powder Keg Upper'],\n",
    "                                    'bb': ['13 Cornices Upper', '13 Cornices Lower', 'Rollercoaster']}"
   ]
  },
  {
   "cell_type": "code",
   "execution_count": 150,
   "metadata": {
    "collapsed": true
   },
   "outputs": [],
   "source": [
    "trails_to_add['Copper'] = {'green': ['Lower Carefree', 'Upper Carefree', \"Lower Easy Feelin'\", \"Upper Easy Feelin'\", \n",
    "                                    'Lower High Point', 'Middle High Point', 'Upper High Point', 'Upper Leap Frog',\n",
    "                                    'Lower Leap Frog', 'Lower Loverly', 'Middle Loverly', 'Upper Loverly', 'Lower Roundabout',\n",
    "                                    'Middle Roundabout', 'Upper Roundabout', 'See and Ski', 'Lower Soliloquy', 'Upper Soliloquy',\n",
    "                                    'West Tenmile'],\n",
    "                          'blue': ['Copperfields'],\n",
    "                          'black': [\"CDL's\", 'Allcante', \"Ute Overlook\", 'Lower Lillie G', 'Upper Lillie G'],\n",
    "                          'bb': []}"
   ]
  },
  {
   "cell_type": "code",
   "execution_count": 180,
   "metadata": {
    "collapsed": true
   },
   "outputs": [],
   "source": [
    "trails_to_add['Eldora'] = {'green': ['Upper Bunny Fair', 'Fox Tail'],\n",
    "                           'blue': ['Crewcut', 'Corona TRV', \"Four O' Clock Trail\", 'Middle Jolly Jug',\n",
    "                                    'Lower Jolly Jug', 'Upper Bunny Fair', 'Quickway', 'Sundance'],\n",
    "                           'black': ['Challenge Liftline', 'Corona Road', 'Klondike', 'Upper Diamond Back'],\n",
    "                           'bb': ['Upper Jolly Jug', 'Liftline']}"
   ]
  },
  {
   "cell_type": "code",
   "execution_count": 280,
   "metadata": {
    "collapsed": true
   },
   "outputs": [],
   "source": [
    "trails_to_add['Vail'] = {'green': [\"Cubs Way\", 'Eagles Nest Ridge', 'Flapjack', 'Lionsway Cutoff', 'Lower Lionsway',\n",
    "                                     'Upper Lionsway', 'Minni Ha Ha', 'Practice Pkwy', 'Timberline Catwalk.', 'Transmontane',\n",
    "                                     'Windish Way'],\n",
    "                           'blue': ['Avanti Lower', 'Avanti Upper', 'China Bowl Egress', 'Choker Cutoff', 'Kellys Toll Road',\n",
    "                                    'Riva Ridge Lower', 'Mid-Vail Express', 'Ranger Racoon', \"Ruder's Route\", 'Simba Lower',\n",
    "                                    'Simba Upper', 'Simba Racer', 'Sleepy Time', 'Berries', 'Pickeroon', 'The Preserve',\n",
    "                                    ''],\n",
    "                           'black': ['Dueces Wild', 'Wild Card', 'Genghis Kahn', 'Inner MongoliaBowl', 'Legdes Lower',\n",
    "                                     'Ledges Upper', 'Lookma', 'South Lookma', 'Lovers Leap', 'Safari', 'Montane Glade',\n",
    "                                     'North Rim', 'South Rim', 'OS', 'Old 9 Lift Line', 'Outer Mongolia Bowl', 'Resolution Upper',\n",
    "                                     'Resolution Lower', 'Shangri-La Glades', 'Shangri-la Glades E', 'Steep and Deep',\n",
    "                                     'Riva Ridge Upper', \"Widge's Ridge\", \"Widows Trees\"],\n",
    "                           'bb': ['Front Side Chutes', 'Mud Slide Chutes', 'Prima Lower', 'Prima Upper', 'Pump House Chutes',\n",
    "                                  '']}"
   ]
  },
  {
   "cell_type": "code",
   "execution_count": 312,
   "metadata": {
    "collapsed": true
   },
   "outputs": [],
   "source": [
    "trails_to_add['Monarch'] = {'green': ['K C Cutoff', 'Sky Walker I', 'Sky Walker II', 'D rifter', 'G lade'],\n",
    "                           'blue': ['Bee Line', \"D oc’s Run\", 'G reat D ivide', 'Q uick D raw', 'Snow Burn', 'Lower Hall’s Alley'],\n",
    "                           'black': [\"B’s Bash\", 'D ire Straits', \"G eno’s Meadow\", \"G unbarrel\", 'K anonen', 'O utback',\n",
    "                                     'Upper X mas Tree', 'Upper Hall’s Alley'],\n",
    "                           'bb': ['Mirkwood Basin', 'Mirkwood Basin Egress', ]}"
   ]
  },
  {
   "cell_type": "code",
   "execution_count": 384,
   "metadata": {
    "collapsed": true
   },
   "outputs": [],
   "source": [
    "trails_to_add['Crested Butte'] = {'green': ['Big Al’s', 'Bubba’s Shortcut Upper', 'Bubba’s Shortcut Lower', 'Keystone Lower',\n",
    "                                            'Twister Lower', 'Peachtree Connector', 'Smith Hill Lower', 'Teaching Terrain',\n",
    "                                            'To Base Area'],\n",
    "                           'blue': ['Gus Way', 'Homeowners', 'Treasury Lower', 'Gallowich', 'Panion’s Run', 'Ruby Chief Lower',\n",
    "                                    'Gallowich Upper', 'Keystone Upper', 'Treasury Upper'],\n",
    "                           'black': ['Silvanite', 'Twister Upper', 'Twister Connector'],\n",
    "                           'bb': ['Headwall']}"
   ]
  },
  {
   "cell_type": "code",
   "execution_count": 386,
   "metadata": {},
   "outputs": [
    {
     "data": {
      "text/html": [
       "<div>\n",
       "<style>\n",
       "    .dataframe thead tr:only-child th {\n",
       "        text-align: right;\n",
       "    }\n",
       "\n",
       "    .dataframe thead th {\n",
       "        text-align: left;\n",
       "    }\n",
       "\n",
       "    .dataframe tbody tr th {\n",
       "        vertical-align: top;\n",
       "    }\n",
       "</style>\n",
       "<table border=\"1\" class=\"dataframe\">\n",
       "  <thead>\n",
       "    <tr style=\"text-align: right;\">\n",
       "      <th></th>\n",
       "      <th>trail_name</th>\n",
       "      <th>ability_level</th>\n",
       "    </tr>\n",
       "  </thead>\n",
       "  <tbody>\n",
       "    <tr>\n",
       "      <th>6</th>\n",
       "      <td>Tulsa</td>\n",
       "      <td>Low Intermediate</td>\n",
       "    </tr>\n",
       "    <tr>\n",
       "      <th>10</th>\n",
       "      <td>Smith Hill Upper</td>\n",
       "      <td>Intermediate</td>\n",
       "    </tr>\n",
       "    <tr>\n",
       "      <th>16</th>\n",
       "      <td>Twister Connector</td>\n",
       "      <td>Advanced</td>\n",
       "    </tr>\n",
       "    <tr>\n",
       "      <th>18</th>\n",
       "      <td>Keystone Ridge</td>\n",
       "      <td>Expert</td>\n",
       "    </tr>\n",
       "    <tr>\n",
       "      <th>21</th>\n",
       "      <td>Ruby Chief Upper</td>\n",
       "      <td>Advanced</td>\n",
       "    </tr>\n",
       "    <tr>\n",
       "      <th>25</th>\n",
       "      <td>Bear</td>\n",
       "      <td>Low Intermediate</td>\n",
       "    </tr>\n",
       "    <tr>\n",
       "      <th>29</th>\n",
       "      <td>Gallowitch Bend</td>\n",
       "      <td>Low Intermediate</td>\n",
       "    </tr>\n",
       "    <tr>\n",
       "      <th>30</th>\n",
       "      <td>Mach 1</td>\n",
       "      <td>Expert</td>\n",
       "    </tr>\n",
       "    <tr>\n",
       "      <th>34</th>\n",
       "      <td>Rustler’s Gulch</td>\n",
       "      <td>Novice</td>\n",
       "    </tr>\n",
       "    <tr>\n",
       "      <th>35</th>\n",
       "      <td>Augusta</td>\n",
       "      <td>Novice</td>\n",
       "    </tr>\n",
       "    <tr>\n",
       "      <th>36</th>\n",
       "      <td>High Tide</td>\n",
       "      <td>Novice</td>\n",
       "    </tr>\n",
       "    <tr>\n",
       "      <th>37</th>\n",
       "      <td>Silver Queen Connector</td>\n",
       "      <td>Novice</td>\n",
       "    </tr>\n",
       "    <tr>\n",
       "      <th>47</th>\n",
       "      <td>Meander</td>\n",
       "      <td>Intermediate</td>\n",
       "    </tr>\n",
       "    <tr>\n",
       "      <th>49</th>\n",
       "      <td>Paradise Access</td>\n",
       "      <td>Low Intermediate</td>\n",
       "    </tr>\n",
       "    <tr>\n",
       "      <th>54</th>\n",
       "      <td>Peoria</td>\n",
       "      <td>Advanced</td>\n",
       "    </tr>\n",
       "    <tr>\n",
       "      <th>58</th>\n",
       "      <td>Aspen Park</td>\n",
       "      <td>Advanced</td>\n",
       "    </tr>\n",
       "    <tr>\n",
       "      <th>61</th>\n",
       "      <td>Horseshoe</td>\n",
       "      <td>Expert</td>\n",
       "    </tr>\n",
       "    <tr>\n",
       "      <th>68</th>\n",
       "      <td>Topsy</td>\n",
       "      <td>Novice</td>\n",
       "    </tr>\n",
       "    <tr>\n",
       "      <th>69</th>\n",
       "      <td>Splain's Gulch</td>\n",
       "      <td>Novice</td>\n",
       "    </tr>\n",
       "    <tr>\n",
       "      <th>70</th>\n",
       "      <td>Little Lizzie</td>\n",
       "      <td>Low Intermediate</td>\n",
       "    </tr>\n",
       "    <tr>\n",
       "      <th>71</th>\n",
       "      <td>To Base Area</td>\n",
       "      <td>Novice</td>\n",
       "    </tr>\n",
       "    <tr>\n",
       "      <th>74</th>\n",
       "      <td>Shep's Chute</td>\n",
       "      <td>Advanced</td>\n",
       "    </tr>\n",
       "    <tr>\n",
       "      <th>81</th>\n",
       "      <td>Teaching Terrain</td>\n",
       "      <td>Beginner</td>\n",
       "    </tr>\n",
       "    <tr>\n",
       "      <th>82</th>\n",
       "      <td>Teaching Terrain</td>\n",
       "      <td>Beginner</td>\n",
       "    </tr>\n",
       "  </tbody>\n",
       "</table>\n",
       "</div>"
      ],
      "text/plain": [
       "                trail_name     ability_level\n",
       "6                    Tulsa  Low Intermediate\n",
       "10        Smith Hill Upper      Intermediate\n",
       "16       Twister Connector          Advanced\n",
       "18          Keystone Ridge            Expert\n",
       "21        Ruby Chief Upper          Advanced\n",
       "25                    Bear  Low Intermediate\n",
       "29         Gallowitch Bend  Low Intermediate\n",
       "30                  Mach 1            Expert\n",
       "34         Rustler’s Gulch            Novice\n",
       "35                 Augusta            Novice\n",
       "36               High Tide            Novice\n",
       "37  Silver Queen Connector            Novice\n",
       "47                 Meander      Intermediate\n",
       "49         Paradise Access  Low Intermediate\n",
       "54                  Peoria          Advanced\n",
       "58              Aspen Park          Advanced\n",
       "61               Horseshoe            Expert\n",
       "68                   Topsy            Novice\n",
       "69          Splain's Gulch            Novice\n",
       "70           Little Lizzie  Low Intermediate\n",
       "71            To Base Area            Novice\n",
       "74            Shep's Chute          Advanced\n",
       "81        Teaching Terrain          Beginner\n",
       "82        Teaching Terrain          Beginner"
      ]
     },
     "execution_count": 386,
     "metadata": {},
     "output_type": "execute_result"
    }
   ],
   "source": [
    "CB[['trail_name','ability_level']][(CB['class'] == 'color')]# & (CB['trail_name'].str.contains(\"W\"))]"
   ]
  },
  {
   "cell_type": "code",
   "execution_count": 349,
   "metadata": {},
   "outputs": [
    {
     "data": {
      "text/plain": [
       "64    Panion’s Run\n",
       "Name: trail_name, dtype: object"
      ]
     },
     "execution_count": 349,
     "metadata": {},
     "output_type": "execute_result"
    }
   ],
   "source": [
    "CB['trail_name'][CB['trail_name'].str.contains('Pan')]"
   ]
  },
  {
   "cell_type": "code",
   "execution_count": 364,
   "metadata": {
    "scrolled": true
   },
   "outputs": [
    {
     "data": {
      "text/plain": [
       "['Banana',\n",
       " 'Big Chute',\n",
       " 'Cat road to Paradise Bowl',\n",
       " 'Coffey Grounds',\n",
       " \"Duey's\",\n",
       " 'Forest',\n",
       " 'Funnel',\n",
       " 'Hard Slab',\n",
       " \"Hawk's Nest\",\n",
       " 'Hot Rocks',\n",
       " 'Jack in the Box Glades',\n",
       " 'Last Steep',\n",
       " 'Liars Bench',\n",
       " 'Lower Third Bowl',\n",
       " 'Main Street',\n",
       " 'Morning Glory',\n",
       " 'Morning Woods',\n",
       " 'Old Pro',\n",
       " 'Paradise Cliffs',\n",
       " 'Peach Pit',\n",
       " 'Peak',\n",
       " 'Peel',\n",
       " 'Phoenix Bowl',\n",
       " 'Phoenix Steps',\n",
       " 'Pinball',\n",
       " 'Rambo',\n",
       " 'S',\n",
       " 'Sock-It-To-Me Ridge',\n",
       " 'Solar Glaze',\n",
       " 'Spellbound Bowl',\n",
       " 'Spellbound Glade',\n",
       " 'Staircase',\n",
       " 'Teo Tongue',\n",
       " 'The Glades',\n",
       " 'The Headwall',\n",
       " 'The North Face',\n",
       " 'Third Bowl',\n",
       " 'Town Park',\n",
       " 'Uecker Glades',\n",
       " 'Upper Forest',\n",
       " 'Upper Peel',\n",
       " \"Wolf's Lair\",\n",
       " 'X']"
      ]
     },
     "execution_count": 364,
     "metadata": {},
     "output_type": "execute_result"
    }
   ],
   "source": [
    "missing_trails(trails_by_color['Crested Butte']['bb'],CB)"
   ]
  },
  {
   "cell_type": "code",
   "execution_count": 385,
   "metadata": {},
   "outputs": [
    {
     "ename": "KeyError",
     "evalue": "'Taos'",
     "output_type": "error",
     "traceback": [
      "\u001b[0;31m---------------------------------------------------------------------------\u001b[0m",
      "\u001b[0;31mKeyError\u001b[0m                                  Traceback (most recent call last)",
      "\u001b[0;32m<ipython-input-385-263388c4bfc6>\u001b[0m in \u001b[0;36m<module>\u001b[0;34m()\u001b[0m\n\u001b[1;32m     13\u001b[0m \u001b[0;34m\u001b[0m\u001b[0m\n\u001b[1;32m     14\u001b[0m \u001b[0;32mfor\u001b[0m \u001b[0mresort_df\u001b[0m\u001b[0;34m,\u001b[0m\u001b[0mresort\u001b[0m \u001b[0;32min\u001b[0m \u001b[0mzip\u001b[0m\u001b[0;34m(\u001b[0m\u001b[0mresort_dfs\u001b[0m\u001b[0;34m,\u001b[0m\u001b[0mresorts\u001b[0m\u001b[0;34m)\u001b[0m\u001b[0;34m:\u001b[0m\u001b[0;34m\u001b[0m\u001b[0m\n\u001b[0;32m---> 15\u001b[0;31m     \u001b[0madd_trails_to_add\u001b[0m\u001b[0;34m(\u001b[0m\u001b[0mresort_df\u001b[0m\u001b[0;34m,\u001b[0m\u001b[0mresort\u001b[0m\u001b[0;34m)\u001b[0m\u001b[0;34m\u001b[0m\u001b[0m\n\u001b[0m",
      "\u001b[0;32m<ipython-input-385-263388c4bfc6>\u001b[0m in \u001b[0;36madd_trails_to_add\u001b[0;34m(resort_df, resort)\u001b[0m\n\u001b[1;32m      9\u001b[0m     \u001b[0mlevels\u001b[0m \u001b[0;34m=\u001b[0m \u001b[0;34m[\u001b[0m\u001b[0;34m'green'\u001b[0m\u001b[0;34m,\u001b[0m\u001b[0;34m'blue'\u001b[0m\u001b[0;34m,\u001b[0m\u001b[0;34m'black'\u001b[0m\u001b[0;34m,\u001b[0m\u001b[0;34m'bb'\u001b[0m\u001b[0;34m]\u001b[0m\u001b[0;34m\u001b[0m\u001b[0m\n\u001b[1;32m     10\u001b[0m     \u001b[0;32mfor\u001b[0m \u001b[0mlevel\u001b[0m \u001b[0;32min\u001b[0m \u001b[0mlevels\u001b[0m\u001b[0;34m:\u001b[0m\u001b[0;34m\u001b[0m\u001b[0m\n\u001b[0;32m---> 11\u001b[0;31m         \u001b[0mresort_df\u001b[0m\u001b[0;34m[\u001b[0m\u001b[0;34m'class'\u001b[0m\u001b[0;34m]\u001b[0m\u001b[0;34m[\u001b[0m\u001b[0mresort_df\u001b[0m\u001b[0;34m[\u001b[0m\u001b[0;34m'trail_name'\u001b[0m\u001b[0;34m]\u001b[0m\u001b[0;34m.\u001b[0m\u001b[0misin\u001b[0m\u001b[0;34m(\u001b[0m\u001b[0mtrails_to_add\u001b[0m\u001b[0;34m[\u001b[0m\u001b[0mresort\u001b[0m\u001b[0;34m]\u001b[0m\u001b[0;34m[\u001b[0m\u001b[0mlevel\u001b[0m\u001b[0;34m]\u001b[0m\u001b[0;34m)\u001b[0m\u001b[0;34m]\u001b[0m \u001b[0;34m=\u001b[0m \u001b[0mlevel\u001b[0m\u001b[0;34m\u001b[0m\u001b[0m\n\u001b[0m\u001b[1;32m     12\u001b[0m     \u001b[0;32mreturn\u001b[0m \u001b[0mresort_df\u001b[0m\u001b[0;34m\u001b[0m\u001b[0m\n\u001b[1;32m     13\u001b[0m \u001b[0;34m\u001b[0m\u001b[0m\n",
      "\u001b[0;31mKeyError\u001b[0m: 'Taos'"
     ]
    }
   ],
   "source": [
    "def add_trails_to_add(resort_df,resort):\n",
    "    '''\n",
    "    Inputs:\n",
    "    resort_df from resort_dfs (DataFrame)\n",
    "    resort from resorts (str)\n",
    "    Outputs:\n",
    "    resort_df w/ class column updated w/ trail names that didn't make the list (DataFrame)\n",
    "    '''\n",
    "    levels = ['green','blue','black','bb']\n",
    "    for level in levels:\n",
    "        resort_df['class'][resort_df['trail_name'].isin(trails_to_add[resort][level])] = level\n",
    "    return resort_df\n",
    "\n",
    "for resort_df,resort in zip(resort_dfs,resorts):\n",
    "    add_trails_to_add(resort_df,resort)"
   ]
  },
  {
   "cell_type": "code",
   "execution_count": null,
   "metadata": {
    "collapsed": true
   },
   "outputs": [],
   "source": []
  }
 ],
 "metadata": {
  "kernelspec": {
   "display_name": "Python 3",
   "language": "python",
   "name": "python3"
  },
  "language_info": {
   "codemirror_mode": {
    "name": "ipython",
    "version": 3
   },
   "file_extension": ".py",
   "mimetype": "text/x-python",
   "name": "python",
   "nbconvert_exporter": "python",
   "pygments_lexer": "ipython3",
   "version": "3.6.2"
  }
 },
 "nbformat": 4,
 "nbformat_minor": 2
}
