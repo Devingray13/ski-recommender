{
 "cells": [
  {
   "cell_type": "code",
   "execution_count": 149,
   "metadata": {
    "collapsed": true
   },
   "outputs": [],
   "source": [
    "import pickle\n",
    "import pandas as pd\n",
    "import numpy as np\n",
    "from sklearn.metrics.pairwise import cosine_similarity\n",
    "from sklearn.preprocessing import StandardScaler\n",
    "import warnings\n",
    "warnings.filterwarnings('ignore')"
   ]
  },
  {
   "cell_type": "code",
   "execution_count": 2,
   "metadata": {
    "collapsed": true
   },
   "outputs": [],
   "source": [
    "pkl_file = open('df.pkl', 'rb')\n",
    "df = pickle.load(pkl_file)\n",
    "pkl_file.close() "
   ]
  },
  {
   "cell_type": "code",
   "execution_count": 3,
   "metadata": {},
   "outputs": [
    {
     "data": {
      "text/plain": [
       "(1125, 16)"
      ]
     },
     "execution_count": 3,
     "metadata": {},
     "output_type": "execute_result"
    }
   ],
   "source": [
    "df.shape"
   ]
  },
  {
   "cell_type": "code",
   "execution_count": 4,
   "metadata": {},
   "outputs": [
    {
     "data": {
      "text/html": [
       "<div>\n",
       "<style>\n",
       "    .dataframe thead tr:only-child th {\n",
       "        text-align: right;\n",
       "    }\n",
       "\n",
       "    .dataframe thead th {\n",
       "        text-align: left;\n",
       "    }\n",
       "\n",
       "    .dataframe tbody tr th {\n",
       "        vertical-align: top;\n",
       "    }\n",
       "</style>\n",
       "<table border=\"1\" class=\"dataframe\">\n",
       "  <thead>\n",
       "    <tr style=\"text-align: right;\">\n",
       "      <th></th>\n",
       "      <th>trail_name</th>\n",
       "      <th>top_elev_(ft)</th>\n",
       "      <th>bottom_elev_(ft)</th>\n",
       "      <th>vert_rise_(ft)</th>\n",
       "      <th>slope_length_(ft)</th>\n",
       "      <th>avg_width_(ft)</th>\n",
       "      <th>slope_area_(acres)</th>\n",
       "      <th>avg_grade_(%)</th>\n",
       "      <th>max_grade_(%)</th>\n",
       "      <th>ability_level</th>\n",
       "      <th>resort</th>\n",
       "      <th>location</th>\n",
       "      <th>groomed</th>\n",
       "      <th>colors</th>\n",
       "      <th>ability_nums</th>\n",
       "      <th>color_nums</th>\n",
       "    </tr>\n",
       "  </thead>\n",
       "  <tbody>\n",
       "    <tr>\n",
       "      <th>0</th>\n",
       "      <td>Over the Rainbow</td>\n",
       "      <td>11924.0</td>\n",
       "      <td>10858.0</td>\n",
       "      <td>1066.0</td>\n",
       "      <td>2404.0</td>\n",
       "      <td>319</td>\n",
       "      <td>17.6</td>\n",
       "      <td>50.0</td>\n",
       "      <td>69.0</td>\n",
       "      <td>Expert</td>\n",
       "      <td>Loveland</td>\n",
       "      <td>CO</td>\n",
       "      <td>0</td>\n",
       "      <td>bb</td>\n",
       "      <td>6</td>\n",
       "      <td>4</td>\n",
       "    </tr>\n",
       "    <tr>\n",
       "      <th>1</th>\n",
       "      <td>Zoom</td>\n",
       "      <td>11405.0</td>\n",
       "      <td>11005.0</td>\n",
       "      <td>400.0</td>\n",
       "      <td>839.0</td>\n",
       "      <td>195</td>\n",
       "      <td>3.7</td>\n",
       "      <td>55.0</td>\n",
       "      <td>66.0</td>\n",
       "      <td>Expert</td>\n",
       "      <td>Loveland</td>\n",
       "      <td>CO</td>\n",
       "      <td>0</td>\n",
       "      <td>bb</td>\n",
       "      <td>6</td>\n",
       "      <td>4</td>\n",
       "    </tr>\n",
       "    <tr>\n",
       "      <th>2</th>\n",
       "      <td>Avalanche Bowl</td>\n",
       "      <td>11840.0</td>\n",
       "      <td>11405.0</td>\n",
       "      <td>435.0</td>\n",
       "      <td>1141.0</td>\n",
       "      <td>255</td>\n",
       "      <td>6.7</td>\n",
       "      <td>42.0</td>\n",
       "      <td>76.0</td>\n",
       "      <td>Expert</td>\n",
       "      <td>Loveland</td>\n",
       "      <td>CO</td>\n",
       "      <td>0</td>\n",
       "      <td>bb</td>\n",
       "      <td>6</td>\n",
       "      <td>4</td>\n",
       "    </tr>\n",
       "    <tr>\n",
       "      <th>3</th>\n",
       "      <td>Tiger's Tail</td>\n",
       "      <td>11856.0</td>\n",
       "      <td>11469.0</td>\n",
       "      <td>386.0</td>\n",
       "      <td>1183.0</td>\n",
       "      <td>136</td>\n",
       "      <td>3.7</td>\n",
       "      <td>35.0</td>\n",
       "      <td>61.0</td>\n",
       "      <td>Expert</td>\n",
       "      <td>Loveland</td>\n",
       "      <td>CO</td>\n",
       "      <td>0</td>\n",
       "      <td>black</td>\n",
       "      <td>6</td>\n",
       "      <td>3</td>\n",
       "    </tr>\n",
       "    <tr>\n",
       "      <th>4</th>\n",
       "      <td>Spillway</td>\n",
       "      <td>11849.0</td>\n",
       "      <td>11631.0</td>\n",
       "      <td>218.0</td>\n",
       "      <td>702.0</td>\n",
       "      <td>198</td>\n",
       "      <td>3.2</td>\n",
       "      <td>33.0</td>\n",
       "      <td>41.0</td>\n",
       "      <td>Intermediate</td>\n",
       "      <td>Loveland</td>\n",
       "      <td>CO</td>\n",
       "      <td>1</td>\n",
       "      <td>blue</td>\n",
       "      <td>4</td>\n",
       "      <td>2</td>\n",
       "    </tr>\n",
       "  </tbody>\n",
       "</table>\n",
       "</div>"
      ],
      "text/plain": [
       "         trail_name  top_elev_(ft)  bottom_elev_(ft)  vert_rise_(ft)  \\\n",
       "0  Over the Rainbow        11924.0           10858.0          1066.0   \n",
       "1              Zoom        11405.0           11005.0           400.0   \n",
       "2    Avalanche Bowl        11840.0           11405.0           435.0   \n",
       "3      Tiger's Tail        11856.0           11469.0           386.0   \n",
       "4          Spillway        11849.0           11631.0           218.0   \n",
       "\n",
       "   slope_length_(ft) avg_width_(ft)  slope_area_(acres)  avg_grade_(%)  \\\n",
       "0             2404.0            319                17.6           50.0   \n",
       "1              839.0            195                 3.7           55.0   \n",
       "2             1141.0            255                 6.7           42.0   \n",
       "3             1183.0            136                 3.7           35.0   \n",
       "4              702.0            198                 3.2           33.0   \n",
       "\n",
       "   max_grade_(%) ability_level    resort location  groomed colors  \\\n",
       "0           69.0        Expert  Loveland       CO        0     bb   \n",
       "1           66.0        Expert  Loveland       CO        0     bb   \n",
       "2           76.0        Expert  Loveland       CO        0     bb   \n",
       "3           61.0        Expert  Loveland       CO        0  black   \n",
       "4           41.0  Intermediate  Loveland       CO        1   blue   \n",
       "\n",
       "   ability_nums  color_nums  \n",
       "0             6           4  \n",
       "1             6           4  \n",
       "2             6           4  \n",
       "3             6           3  \n",
       "4             4           2  "
      ]
     },
     "execution_count": 4,
     "metadata": {},
     "output_type": "execute_result"
    }
   ],
   "source": [
    "df.head()"
   ]
  },
  {
   "cell_type": "code",
   "execution_count": 34,
   "metadata": {
    "collapsed": true
   },
   "outputs": [],
   "source": [
    "df = df.reset_index(drop=True)"
   ]
  },
  {
   "cell_type": "code",
   "execution_count": 35,
   "metadata": {
    "collapsed": true
   },
   "outputs": [],
   "source": [
    "features = ['top_elev_(ft)', \n",
    "            'bottom_elev_(ft)', \n",
    "            'vert_rise_(ft)', \n",
    "            'slope_length_(ft)', \n",
    "            'avg_width_(ft)', \n",
    "            'slope_area_(acres)', \n",
    "            'avg_grade_(%)', \n",
    "            'max_grade_(%)', \n",
    "            'groomed']\n",
    "\n",
    "X = df[features].values"
   ]
  },
  {
   "cell_type": "code",
   "execution_count": 36,
   "metadata": {
    "scrolled": true
   },
   "outputs": [
    {
     "data": {
      "text/plain": [
       "array([[11924.0, 10858.0, 1066.0, ..., 50.0, 69.0, 0],\n",
       "       [11405.0, 11005.0, 400.0, ..., 55.0, 66.0, 0],\n",
       "       [11840.0, 11405.0, 435.0, ..., 42.0, 76.0, 0],\n",
       "       ..., \n",
       "       [8110.0, 8100.0, 10.0, ..., 8.0, 11.0, 1],\n",
       "       [8113.0, 8100.0, 13.0, ..., 12.0, 12.0, 1],\n",
       "       [8147.0, 8100.0, 47.0, ..., 15.0, 12.0, 1]], dtype=object)"
      ]
     },
     "execution_count": 36,
     "metadata": {},
     "output_type": "execute_result"
    }
   ],
   "source": [
    "X"
   ]
  },
  {
   "cell_type": "code",
   "execution_count": 133,
   "metadata": {
    "collapsed": true
   },
   "outputs": [],
   "source": [
    "def cos_sim_recommendations_resort(trail_name, resort_name, X, n=5, resort=None):\n",
    "    index = df.index[(df['trail_name'] == trail_name) & (df['resort'] == resort_name)][0]\n",
    "    trail = X[index].reshape(1,-1)\n",
    "    cs = cosine_similarity(trail, X)\n",
    "    rec_index = np.argsort(cs)[0][::-1][1:]\n",
    "    ordered_df = df.loc[rec_index]\n",
    "    if resort:\n",
    "        ordered_df = ordered_df[ordered_df['resort'] == resort]\n",
    "    rec_df = ordered_df.head(n)\n",
    "    orig_row = df.loc[[index]].rename(lambda x: 'original')\n",
    "    total = pd.concat((orig_row,rec_df))\n",
    "    return total"
   ]
  },
  {
   "cell_type": "code",
   "execution_count": 138,
   "metadata": {},
   "outputs": [
    {
     "data": {
      "text/html": [
       "<div>\n",
       "<style>\n",
       "    .dataframe thead tr:only-child th {\n",
       "        text-align: right;\n",
       "    }\n",
       "\n",
       "    .dataframe thead th {\n",
       "        text-align: left;\n",
       "    }\n",
       "\n",
       "    .dataframe tbody tr th {\n",
       "        vertical-align: top;\n",
       "    }\n",
       "</style>\n",
       "<table border=\"1\" class=\"dataframe\">\n",
       "  <thead>\n",
       "    <tr style=\"text-align: right;\">\n",
       "      <th></th>\n",
       "      <th>trail_name</th>\n",
       "      <th>top_elev_(ft)</th>\n",
       "      <th>bottom_elev_(ft)</th>\n",
       "      <th>vert_rise_(ft)</th>\n",
       "      <th>slope_length_(ft)</th>\n",
       "      <th>avg_width_(ft)</th>\n",
       "      <th>slope_area_(acres)</th>\n",
       "      <th>avg_grade_(%)</th>\n",
       "      <th>max_grade_(%)</th>\n",
       "      <th>ability_level</th>\n",
       "      <th>resort</th>\n",
       "      <th>location</th>\n",
       "      <th>groomed</th>\n",
       "      <th>colors</th>\n",
       "      <th>ability_nums</th>\n",
       "      <th>color_nums</th>\n",
       "    </tr>\n",
       "  </thead>\n",
       "  <tbody>\n",
       "    <tr>\n",
       "      <th>original</th>\n",
       "      <td>Sorensen Park</td>\n",
       "      <td>9150.0</td>\n",
       "      <td>9090.0</td>\n",
       "      <td>60.0</td>\n",
       "      <td>1067.43</td>\n",
       "      <td>114</td>\n",
       "      <td>4.07</td>\n",
       "      <td>6.0</td>\n",
       "      <td>8.0</td>\n",
       "      <td>Beginner</td>\n",
       "      <td>Winter Park</td>\n",
       "      <td>CO</td>\n",
       "      <td>1</td>\n",
       "      <td>green</td>\n",
       "      <td>1</td>\n",
       "      <td>1</td>\n",
       "    </tr>\n",
       "    <tr>\n",
       "      <th>886</th>\n",
       "      <td>Mad Tea Party</td>\n",
       "      <td>10050.0</td>\n",
       "      <td>9890.0</td>\n",
       "      <td>160.0</td>\n",
       "      <td>1111.67</td>\n",
       "      <td>146</td>\n",
       "      <td>3.25</td>\n",
       "      <td>15.0</td>\n",
       "      <td>19.0</td>\n",
       "      <td>Novice</td>\n",
       "      <td>Winter Park</td>\n",
       "      <td>CO</td>\n",
       "      <td>0</td>\n",
       "      <td>green</td>\n",
       "      <td>2</td>\n",
       "      <td>1</td>\n",
       "    </tr>\n",
       "    <tr>\n",
       "      <th>932</th>\n",
       "      <td>Shoo Fly</td>\n",
       "      <td>9580.0</td>\n",
       "      <td>9450.0</td>\n",
       "      <td>130.0</td>\n",
       "      <td>1258.66</td>\n",
       "      <td>112</td>\n",
       "      <td>5.88</td>\n",
       "      <td>10.0</td>\n",
       "      <td>14.0</td>\n",
       "      <td>Beginner</td>\n",
       "      <td>Winter Park</td>\n",
       "      <td>CO</td>\n",
       "      <td>1</td>\n",
       "      <td>green</td>\n",
       "      <td>1</td>\n",
       "      <td>1</td>\n",
       "    </tr>\n",
       "    <tr>\n",
       "      <th>883</th>\n",
       "      <td>Upper Cheshire Cat</td>\n",
       "      <td>10450.0</td>\n",
       "      <td>10225.0</td>\n",
       "      <td>225.0</td>\n",
       "      <td>1111.54</td>\n",
       "      <td>151</td>\n",
       "      <td>2.39</td>\n",
       "      <td>21.0</td>\n",
       "      <td>39.0</td>\n",
       "      <td>Intermediate</td>\n",
       "      <td>Winter Park</td>\n",
       "      <td>CO</td>\n",
       "      <td>1</td>\n",
       "      <td>black</td>\n",
       "      <td>4</td>\n",
       "      <td>3</td>\n",
       "    </tr>\n",
       "    <tr>\n",
       "      <th>855</th>\n",
       "      <td>Bill Wilson's Way</td>\n",
       "      <td>9560.0</td>\n",
       "      <td>9450.0</td>\n",
       "      <td>110.0</td>\n",
       "      <td>1064.28</td>\n",
       "      <td>332</td>\n",
       "      <td>6.31</td>\n",
       "      <td>10.0</td>\n",
       "      <td>11.0</td>\n",
       "      <td>Beginner</td>\n",
       "      <td>Winter Park</td>\n",
       "      <td>CO</td>\n",
       "      <td>1</td>\n",
       "      <td>green</td>\n",
       "      <td>1</td>\n",
       "      <td>1</td>\n",
       "    </tr>\n",
       "    <tr>\n",
       "      <th>906</th>\n",
       "      <td>Upper High Lonesome</td>\n",
       "      <td>11200.0</td>\n",
       "      <td>10980.0</td>\n",
       "      <td>220.0</td>\n",
       "      <td>1092.23</td>\n",
       "      <td>112</td>\n",
       "      <td>2.63</td>\n",
       "      <td>21.0</td>\n",
       "      <td>25.0</td>\n",
       "      <td>Novice</td>\n",
       "      <td>Winter Park</td>\n",
       "      <td>CO</td>\n",
       "      <td>1</td>\n",
       "      <td>green</td>\n",
       "      <td>2</td>\n",
       "      <td>1</td>\n",
       "    </tr>\n",
       "  </tbody>\n",
       "</table>\n",
       "</div>"
      ],
      "text/plain": [
       "                   trail_name  top_elev_(ft)  bottom_elev_(ft)  \\\n",
       "original        Sorensen Park         9150.0            9090.0   \n",
       "886             Mad Tea Party        10050.0            9890.0   \n",
       "932                  Shoo Fly         9580.0            9450.0   \n",
       "883        Upper Cheshire Cat        10450.0           10225.0   \n",
       "855         Bill Wilson's Way         9560.0            9450.0   \n",
       "906       Upper High Lonesome        11200.0           10980.0   \n",
       "\n",
       "          vert_rise_(ft)  slope_length_(ft) avg_width_(ft)  \\\n",
       "original            60.0            1067.43            114   \n",
       "886                160.0            1111.67            146   \n",
       "932                130.0            1258.66            112   \n",
       "883                225.0            1111.54            151   \n",
       "855                110.0            1064.28            332   \n",
       "906                220.0            1092.23            112   \n",
       "\n",
       "          slope_area_(acres)  avg_grade_(%)  max_grade_(%) ability_level  \\\n",
       "original                4.07            6.0            8.0      Beginner   \n",
       "886                     3.25           15.0           19.0        Novice   \n",
       "932                     5.88           10.0           14.0      Beginner   \n",
       "883                     2.39           21.0           39.0  Intermediate   \n",
       "855                     6.31           10.0           11.0      Beginner   \n",
       "906                     2.63           21.0           25.0        Novice   \n",
       "\n",
       "               resort location  groomed colors  ability_nums  color_nums  \n",
       "original  Winter Park       CO        1  green             1           1  \n",
       "886       Winter Park       CO        0  green             2           1  \n",
       "932       Winter Park       CO        1  green             1           1  \n",
       "883       Winter Park       CO        1  black             4           3  \n",
       "855       Winter Park       CO        1  green             1           1  \n",
       "906       Winter Park       CO        1  green             2           1  "
      ]
     },
     "execution_count": 138,
     "metadata": {},
     "output_type": "execute_result"
    }
   ],
   "source": [
    "cos_sim_recommendations_resort('Sorensen Park','Winter Park',X,n=5,resort='Winter Park')"
   ]
  },
  {
   "cell_type": "code",
   "execution_count": 139,
   "metadata": {},
   "outputs": [],
   "source": [
    "df['trail_name'][df['resort'] == 'Winter Park'];"
   ]
  },
  {
   "cell_type": "code",
   "execution_count": 141,
   "metadata": {},
   "outputs": [
    {
     "data": {
      "text/plain": [
       "848"
      ]
     },
     "execution_count": 141,
     "metadata": {},
     "output_type": "execute_result"
    }
   ],
   "source": [
    "df.index[df['trail_name'] == 'Sorensen Park'][0]"
   ]
  },
  {
   "cell_type": "code",
   "execution_count": 144,
   "metadata": {},
   "outputs": [
    {
     "data": {
      "text/plain": [
       "0.99995741080881984"
      ]
     },
     "execution_count": 144,
     "metadata": {},
     "output_type": "execute_result"
    }
   ],
   "source": [
    "cosine_similarity(X[848].reshape(1,-1),X[886].reshape(1,-1))[0][0]"
   ]
  },
  {
   "cell_type": "code",
   "execution_count": 145,
   "metadata": {},
   "outputs": [
    {
     "data": {
      "text/plain": [
       "0.99992396093099822"
      ]
     },
     "execution_count": 145,
     "metadata": {},
     "output_type": "execute_result"
    }
   ],
   "source": [
    "cosine_similarity(X[848].reshape(1,-1),X[932].reshape(1,-1))[0][0]"
   ]
  },
  {
   "cell_type": "code",
   "execution_count": 146,
   "metadata": {},
   "outputs": [
    {
     "data": {
      "text/plain": [
       "0.99988798070044183"
      ]
     },
     "execution_count": 146,
     "metadata": {},
     "output_type": "execute_result"
    }
   ],
   "source": [
    "cosine_similarity(X[848].reshape(1,-1),X[883].reshape(1,-1))[0][0]"
   ]
  },
  {
   "cell_type": "code",
   "execution_count": 150,
   "metadata": {},
   "outputs": [],
   "source": [
    "ss = StandardScaler()\n",
    "X_trans = ss.fit_transform(X)"
   ]
  },
  {
   "cell_type": "code",
   "execution_count": 151,
   "metadata": {},
   "outputs": [
    {
     "data": {
      "text/plain": [
       "array([[ 1.12885212,  0.67904826,  1.5011197 , ...,  1.7960483 ,\n",
       "         1.3829293 , -0.75724935],\n",
       "       [ 0.72015105,  0.79497328, -0.24838454, ...,  2.18280168,\n",
       "         1.22823665, -0.75724935],\n",
       "       [ 1.06270397,  1.1104155 , -0.15644362, ...,  1.1772429 ,\n",
       "         1.74387879, -0.75724935],\n",
       "       ..., \n",
       "       [-1.87458885, -1.49592585, -1.27286899, ..., -1.45268006,\n",
       "        -1.6077951 ,  1.32056898],\n",
       "       [-1.87222642, -1.49592585, -1.26498834, ..., -1.14327736,\n",
       "        -1.55623089,  1.32056898],\n",
       "       [-1.84545217, -1.49592585, -1.17567432, ..., -0.91122533,\n",
       "        -1.55623089,  1.32056898]])"
      ]
     },
     "execution_count": 151,
     "metadata": {},
     "output_type": "execute_result"
    }
   ],
   "source": [
    "X_trans"
   ]
  },
  {
   "cell_type": "code",
   "execution_count": 156,
   "metadata": {},
   "outputs": [
    {
     "data": {
      "text/html": [
       "<div>\n",
       "<style>\n",
       "    .dataframe thead tr:only-child th {\n",
       "        text-align: right;\n",
       "    }\n",
       "\n",
       "    .dataframe thead th {\n",
       "        text-align: left;\n",
       "    }\n",
       "\n",
       "    .dataframe tbody tr th {\n",
       "        vertical-align: top;\n",
       "    }\n",
       "</style>\n",
       "<table border=\"1\" class=\"dataframe\">\n",
       "  <thead>\n",
       "    <tr style=\"text-align: right;\">\n",
       "      <th></th>\n",
       "      <th>trail_name</th>\n",
       "      <th>top_elev_(ft)</th>\n",
       "      <th>bottom_elev_(ft)</th>\n",
       "      <th>vert_rise_(ft)</th>\n",
       "      <th>slope_length_(ft)</th>\n",
       "      <th>avg_width_(ft)</th>\n",
       "      <th>slope_area_(acres)</th>\n",
       "      <th>avg_grade_(%)</th>\n",
       "      <th>max_grade_(%)</th>\n",
       "      <th>ability_level</th>\n",
       "      <th>resort</th>\n",
       "      <th>location</th>\n",
       "      <th>groomed</th>\n",
       "      <th>colors</th>\n",
       "      <th>ability_nums</th>\n",
       "      <th>color_nums</th>\n",
       "    </tr>\n",
       "  </thead>\n",
       "  <tbody>\n",
       "    <tr>\n",
       "      <th>original</th>\n",
       "      <td>Hook Up</td>\n",
       "      <td>10670.0</td>\n",
       "      <td>10530.0</td>\n",
       "      <td>140.0</td>\n",
       "      <td>721.44</td>\n",
       "      <td>106</td>\n",
       "      <td>2.1</td>\n",
       "      <td>20.0</td>\n",
       "      <td>20.0</td>\n",
       "      <td>Novice</td>\n",
       "      <td>Winter Park</td>\n",
       "      <td>CO</td>\n",
       "      <td>0</td>\n",
       "      <td>green</td>\n",
       "      <td>2</td>\n",
       "      <td>1</td>\n",
       "    </tr>\n",
       "    <tr>\n",
       "      <th>431</th>\n",
       "      <td>Cold Feet</td>\n",
       "      <td>10088.0</td>\n",
       "      <td>9992.0</td>\n",
       "      <td>95.8</td>\n",
       "      <td>798.70</td>\n",
       "      <td>41</td>\n",
       "      <td>0.8</td>\n",
       "      <td>12.0</td>\n",
       "      <td>21.0</td>\n",
       "      <td>Novice</td>\n",
       "      <td>Vail</td>\n",
       "      <td>CO</td>\n",
       "      <td>0</td>\n",
       "      <td>green</td>\n",
       "      <td>2</td>\n",
       "      <td>1</td>\n",
       "    </tr>\n",
       "    <tr>\n",
       "      <th>611</th>\n",
       "      <td>China Spur</td>\n",
       "      <td>10121.0</td>\n",
       "      <td>9977.0</td>\n",
       "      <td>144.5</td>\n",
       "      <td>1512.80</td>\n",
       "      <td>35</td>\n",
       "      <td>1.2</td>\n",
       "      <td>10.0</td>\n",
       "      <td>20.0</td>\n",
       "      <td>Low Intermediate</td>\n",
       "      <td>Vail</td>\n",
       "      <td>CO</td>\n",
       "      <td>0</td>\n",
       "      <td>blue</td>\n",
       "      <td>3</td>\n",
       "      <td>2</td>\n",
       "    </tr>\n",
       "    <tr>\n",
       "      <th>453</th>\n",
       "      <td>Windows Road</td>\n",
       "      <td>11163.0</td>\n",
       "      <td>10901.0</td>\n",
       "      <td>262.3</td>\n",
       "      <td>2547.80</td>\n",
       "      <td>113</td>\n",
       "      <td>6.6</td>\n",
       "      <td>10.0</td>\n",
       "      <td>20.0</td>\n",
       "      <td>Novice</td>\n",
       "      <td>Vail</td>\n",
       "      <td>CO</td>\n",
       "      <td>0</td>\n",
       "      <td>black</td>\n",
       "      <td>2</td>\n",
       "      <td>3</td>\n",
       "    </tr>\n",
       "    <tr>\n",
       "      <th>504</th>\n",
       "      <td>Minni Ha Ha</td>\n",
       "      <td>9834.0</td>\n",
       "      <td>9659.0</td>\n",
       "      <td>175.5</td>\n",
       "      <td>867.60</td>\n",
       "      <td>259</td>\n",
       "      <td>5.2</td>\n",
       "      <td>20.0</td>\n",
       "      <td>27.0</td>\n",
       "      <td>Low Intermediate</td>\n",
       "      <td>Vail</td>\n",
       "      <td>CO</td>\n",
       "      <td>0</td>\n",
       "      <td>green</td>\n",
       "      <td>3</td>\n",
       "      <td>1</td>\n",
       "    </tr>\n",
       "    <tr>\n",
       "      <th>555</th>\n",
       "      <td>Spruce Face</td>\n",
       "      <td>10103.0</td>\n",
       "      <td>9867.0</td>\n",
       "      <td>236.0</td>\n",
       "      <td>958.10</td>\n",
       "      <td>273</td>\n",
       "      <td>6.0</td>\n",
       "      <td>25.0</td>\n",
       "      <td>32.0</td>\n",
       "      <td>Low Intermediate</td>\n",
       "      <td>Vail</td>\n",
       "      <td>CO</td>\n",
       "      <td>0</td>\n",
       "      <td>blue</td>\n",
       "      <td>3</td>\n",
       "      <td>2</td>\n",
       "    </tr>\n",
       "  </tbody>\n",
       "</table>\n",
       "</div>"
      ],
      "text/plain": [
       "            trail_name  top_elev_(ft)  bottom_elev_(ft)  vert_rise_(ft)  \\\n",
       "original       Hook Up        10670.0           10530.0           140.0   \n",
       "431          Cold Feet        10088.0            9992.0            95.8   \n",
       "611         China Spur        10121.0            9977.0           144.5   \n",
       "453       Windows Road        11163.0           10901.0           262.3   \n",
       "504        Minni Ha Ha         9834.0            9659.0           175.5   \n",
       "555        Spruce Face        10103.0            9867.0           236.0   \n",
       "\n",
       "          slope_length_(ft) avg_width_(ft)  slope_area_(acres)  avg_grade_(%)  \\\n",
       "original             721.44            106                 2.1           20.0   \n",
       "431                  798.70             41                 0.8           12.0   \n",
       "611                 1512.80             35                 1.2           10.0   \n",
       "453                 2547.80            113                 6.6           10.0   \n",
       "504                  867.60            259                 5.2           20.0   \n",
       "555                  958.10            273                 6.0           25.0   \n",
       "\n",
       "          max_grade_(%)     ability_level       resort location  groomed  \\\n",
       "original           20.0            Novice  Winter Park       CO        0   \n",
       "431                21.0            Novice         Vail       CO        0   \n",
       "611                20.0  Low Intermediate         Vail       CO        0   \n",
       "453                20.0            Novice         Vail       CO        0   \n",
       "504                27.0  Low Intermediate         Vail       CO        0   \n",
       "555                32.0  Low Intermediate         Vail       CO        0   \n",
       "\n",
       "         colors  ability_nums  color_nums  \n",
       "original  green             2           1  \n",
       "431       green             2           1  \n",
       "611        blue             3           2  \n",
       "453       black             2           3  \n",
       "504       green             3           1  \n",
       "555        blue             3           2  "
      ]
     },
     "execution_count": 156,
     "metadata": {},
     "output_type": "execute_result"
    }
   ],
   "source": [
    "cos_sim_recommendations_resort('Hook Up','Winter Park',X_trans,n=5,resort='Vail')"
   ]
  },
  {
   "cell_type": "code",
   "execution_count": null,
   "metadata": {
    "collapsed": true
   },
   "outputs": [],
   "source": []
  }
 ],
 "metadata": {
  "kernelspec": {
   "display_name": "Python 3",
   "language": "python",
   "name": "python3"
  },
  "language_info": {
   "codemirror_mode": {
    "name": "ipython",
    "version": 3
   },
   "file_extension": ".py",
   "mimetype": "text/x-python",
   "name": "python",
   "nbconvert_exporter": "python",
   "pygments_lexer": "ipython3",
   "version": "3.6.2"
  }
 },
 "nbformat": 4,
 "nbformat_minor": 2
}
