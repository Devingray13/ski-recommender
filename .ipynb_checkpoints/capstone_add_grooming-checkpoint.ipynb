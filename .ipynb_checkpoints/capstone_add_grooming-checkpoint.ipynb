{
 "cells": [
  {
   "cell_type": "code",
   "execution_count": 1,
   "metadata": {
    "collapsed": true
   },
   "outputs": [],
   "source": [
    "import numpy as np\n",
    "import pandas as pd\n",
    "import matplotlib.pyplot as plt\n",
    "%matplotlib inline\n",
    "from sklearn.linear_model import LogisticRegression\n",
    "from sklearn.model_selection import train_test_split\n",
    "from sklearn.tree import DecisionTreeClassifier\n",
    "from sklearn.neighbors import KNeighborsClassifier\n",
    "from sklearn.ensemble import RandomForestClassifier, AdaBoostClassifier, GradientBoostingClassifier\n",
    "from sklearn.linear_model import SGDClassifier"
   ]
  },
  {
   "cell_type": "code",
   "execution_count": 4,
   "metadata": {},
   "outputs": [],
   "source": [
    "run comb_tables.py"
   ]
  },
  {
   "cell_type": "code",
   "execution_count": 3,
   "metadata": {},
   "outputs": [
    {
     "ename": "NameError",
     "evalue": "name 'whole_table' is not defined",
     "output_type": "error",
     "traceback": [
      "\u001b[0;31m---------------------------------------------------------------------------\u001b[0m",
      "\u001b[0;31mNameError\u001b[0m                                 Traceback (most recent call last)",
      "\u001b[0;32m<ipython-input-3-da79812f1f9a>\u001b[0m in \u001b[0;36m<module>\u001b[0;34m()\u001b[0m\n\u001b[0;32m----> 1\u001b[0;31m \u001b[0mwhole_table\u001b[0m\u001b[0;34m[\u001b[0m\u001b[0;34m'ability_level'\u001b[0m\u001b[0;34m]\u001b[0m\u001b[0;34m[\u001b[0m\u001b[0mwhole_table\u001b[0m\u001b[0;34m[\u001b[0m\u001b[0;34m'ability_level'\u001b[0m\u001b[0;34m]\u001b[0m \u001b[0;34m==\u001b[0m \u001b[0;34m'Advanced Intermediate'\u001b[0m\u001b[0;34m]\u001b[0m \u001b[0;34m=\u001b[0m \u001b[0;34m'Advanced'\u001b[0m\u001b[0;34m\u001b[0m\u001b[0m\n\u001b[0m\u001b[1;32m      2\u001b[0m \u001b[0mwhole_table\u001b[0m\u001b[0;34m[\u001b[0m\u001b[0;34m'ability_level'\u001b[0m\u001b[0;34m]\u001b[0m\u001b[0;34m[\u001b[0m\u001b[0mwhole_table\u001b[0m\u001b[0;34m[\u001b[0m\u001b[0;34m'ability_level'\u001b[0m\u001b[0;34m]\u001b[0m \u001b[0;34m==\u001b[0m \u001b[0;34m'Adv. Intermediate'\u001b[0m\u001b[0;34m]\u001b[0m \u001b[0;34m=\u001b[0m \u001b[0;34m'Advanced'\u001b[0m\u001b[0;34m\u001b[0m\u001b[0m\n\u001b[1;32m      3\u001b[0m \u001b[0mwhole_table\u001b[0m\u001b[0;34m[\u001b[0m\u001b[0;34m'ability_level'\u001b[0m\u001b[0;34m]\u001b[0m\u001b[0;34m[\u001b[0m\u001b[0mwhole_table\u001b[0m\u001b[0;34m[\u001b[0m\u001b[0;34m'ability_level'\u001b[0m\u001b[0;34m]\u001b[0m \u001b[0;34m==\u001b[0m \u001b[0;34m'Hike To'\u001b[0m\u001b[0;34m]\u001b[0m \u001b[0;34m=\u001b[0m \u001b[0;34m'Expert'\u001b[0m\u001b[0;34m\u001b[0m\u001b[0m\n\u001b[1;32m      4\u001b[0m \u001b[0mwhole_table\u001b[0m\u001b[0;34m[\u001b[0m\u001b[0;34m'ability_level'\u001b[0m\u001b[0;34m]\u001b[0m\u001b[0;34m[\u001b[0m\u001b[0mwhole_table\u001b[0m\u001b[0;34m[\u001b[0m\u001b[0;34m'ability_level'\u001b[0m\u001b[0;34m]\u001b[0m \u001b[0;34m==\u001b[0m \u001b[0;34m'Exp Bowl'\u001b[0m\u001b[0;34m]\u001b[0m \u001b[0;34m=\u001b[0m \u001b[0;34m'Expert'\u001b[0m\u001b[0;34m\u001b[0m\u001b[0m\n",
      "\u001b[0;31mNameError\u001b[0m: name 'whole_table' is not defined"
     ]
    }
   ],
   "source": [
    "whole_table['ability_level'][whole_table['ability_level'] == 'Advanced Intermediate'] = 'Advanced'\n",
    "whole_table['ability_level'][whole_table['ability_level'] == 'Adv. Intermediate'] = 'Advanced'\n",
    "whole_table['ability_level'][whole_table['ability_level'] == 'Hike To'] = 'Expert'\n",
    "whole_table['ability_level'][whole_table['ability_level'] == 'Exp Bowl'] = 'Expert'"
   ]
  },
  {
   "cell_type": "code",
   "execution_count": null,
   "metadata": {
    "collapsed": true
   },
   "outputs": [],
   "source": [
    "loveland = whole_table[whole_table['resort'] == 'Loveland']\n",
    "AB = whole_table[whole_table['resort'] == 'Arapahoe Basin']\n",
    "copper = whole_table[whole_table['resort'] == 'Copper'] \n",
    "eldora = whole_table[whole_table['resort'] == 'Eldora']\n",
    "AM = whole_table[whole_table['resort'] == 'Alpine Meadows']\n",
    "vail = whole_table[whole_table['resort'] == 'Vail']\n",
    "monarch = whole_table[whole_table['resort'] == 'Monarch'] \n",
    "CB = whole_table[whole_table['resort'] == 'Crested Butte']\n",
    "taos = whole_table[whole_table['resort'] == 'Taos']\n",
    "DP = whole_table[whole_table['resort'] == 'Diamond Peak']\n",
    "WP = whole_table[whole_table['resort'] == 'Winter Park']\n",
    "\n",
    "resorts = [loveland,AB,copper,eldora,AM,vail,monarch,CB,taos,DP,WP]"
   ]
  },
  {
   "cell_type": "code",
   "execution_count": null,
   "metadata": {},
   "outputs": [],
   "source": [
    "trail_names_to_fix = [copper,AM,vail,monarch,CB,taos,DP]\n",
    "\n",
    "def fix_trail_names(df):\n",
    "    df['trail_name'] = df['trail_name'].apply(lambda x: ' '.join(x.split()[1:]))\n",
    "    return df\n",
    "\n",
    "for trail in trail_names_to_fix:\n",
    "    fix_trail_names(trail)\n",
    "\n",
    "copper['trail_name'] = copper['trail_name'].apply(lambda x: ' '.join([i for i in x.split() if i[0].isnumeric() == False]))"
   ]
  },
  {
   "cell_type": "code",
   "execution_count": null,
   "metadata": {
    "collapsed": true
   },
   "outputs": [],
   "source": [
    "groomed_LL = ['Take Off', 'Cat Walk', 'Mambo', 'Home Run', 'Spillway', 'Tempest', 'Tango Road', 'Turtle Creek', \"Richard's Run\",\n",
    "           'Fire Bowl', 'North Turtle Creek', 'Drifter', 'Switchback (Lower)', 'Switchback (Upper)', 'Boomerang',\n",
    "           'Zig-Zag', 'Twist (Lower)', 'Twist (Upper)', 'Creek Trail', 'Lower Creek Trail', 'Perfect Bowl', 'Scrub',\n",
    "           'Apollo (Upper)', 'Telestar', 'Deuces Wild', 'Forest Meadow', 'Roulette', 'Keno', 'Royal Flush', 'Straight Flush',\n",
    "           'Take Off', 'All Smiles', 'Zip Trail', 'Zippity Split', \"Chet's Run\", 'Awesome', 'Rookie Road','Magic Carpet Slope']\n",
    "\n",
    "groomed_AB = ['Wrangler Lower', 'Wrangler Middle', 'Wrangler Upper', 'Chisholm', 'Chisholm Trail', 'Sundance',\n",
    "              'Molly Hogan Upper', 'High Noon', 'Lenawee Face', 'Humbug', 'Powerline', 'West Wall', 'Grizzly Road',\n",
    "              'Lenawee Parks', \"Dercum's Gulch\", 'Norway Face', 'Cornice Run I', 'Cornice Run II', 'West Gully', 'Knolls',\n",
    "              'Falcon', 'Larkspur', 'Independence', 'Columbine', 'Shining Light', 'Molly Hogan 1', 'Molly Hogan 2',\n",
    "              \"Molly's Magic Carpet\", 'Carpet II']\n",
    "\n",
    "groomed_c = ['Lower Easy Road Traverse', 'Upper Easy Road Traverse', 'Upper Leap Frog', 'Bittersweet',\n",
    "             'Bouncer', 'Fair Play', 'Foul Play', 'Main Vein', 'Rhapsody', 'Coppertone', 'Easy Road Too', 'Lower High Point',\n",
    "             'Middle High Point', 'Upper High Point', 'Woodwinds', 'Woodwinds Traverse', 'Otto Bahn', 'Rattler', 'Ptarmigan',\n",
    "             'Green Acres', 'Lower Roundabout', 'Upper Roundabout', 'Middle Roundabout', 'Clear  Cut', 'Lower Sluice', 'Union Park',\n",
    "             'Triple Zero', 'Upper Lillie G', \"Andy's Encore\", 'Collage', 'Oh No', 'Skid Road', 'Upper Skid Road', \"Rosi's Run\",\n",
    "             'I-Way', 'Minor Matter', 'Lower Soliloquy', 'Upper Soliloquy', 'American Flyer', 'The Moz', 'Windsong', 'Lower Carefree',\n",
    "             'Upper Carefree', \"Lower Easy Feelin'\", \"Upper Easy Feelin'\", 'Hidden Vein', 'Vein Glory', 'Lower Loverly', 'Scooter',\n",
    "             'Gem', 'Easy Rider', 'Rugrat', 'The Glide', 'Slingshot', 'Clear Cut', 'Copperopolis']\n",
    "\n",
    "groomed_e = ['']\n",
    "\n",
    "\n",
    "groomed_AM = ['East Creek', 'Weasel Run', 'Lakeview to Weasel', \"Nick’s Run\", 'Leisure Lane', 'Outer Limits', 'Shooting Star',\n",
    "              'Twilight Zone', 'Meadow Run', 'Charity', 'Dance Floor', 'Rock Garden', \"Sandy’s Corner\", \"Werner’s Schuss\", \n",
    "              \"Bobby’s Run\", 'Winter Road', 'Summer Road', 'Maid Marian', \"Ray’s Rut\", \"Reily’s Run\", 'Sherwood Run', \n",
    "              'Return Road', 'Subway Run', 'Alpine Bowl', \"Loop Road\", 'Sun Spot', 'Wolverine', 'D-8', 'Teaching Terrain',\n",
    "              \"Yellow Trail\", 'Ladies Slalom', \"Scott Ridge Run\", \"Mountain View\", 'Terry’s Return']\n",
    "\n",
    "groomed_v = ['Boomer', 'Flapjack', 'Gopher Hill', 'Northstar', \"Ruder's Route\", 'Sourdough', 'Tin Pants', 'Tin Pants Catwalk',\n",
    "             'Whippersnapper', 'Whiskey Jack', 'Whiskey Jack Catwalk', 'Avanti Lower', 'Avanti Upper', 'Bear Tree', 'Expresso',\n",
    "             'Hunky Dory', 'Mid-Vail Express', 'Overeasy', 'Ramshorn', 'Swingsville', 'The Meadows', 'Swingsville Ridge', 'Born Free',\n",
    "             'Columbine', \"Dealer's Choice\", 'Lost Boy', 'Lodgepole', 'Ouzo', 'Pickeroon', 'Pickeroon Lower', 'Practice Pkwy',\n",
    "             'Simba Lower', 'Simba Upper', 'The Preserve', 'Yonder', 'Chopstix', 'Poppyfields West', 'Big Rock Park', 'Could 9',\n",
    "             'The Star', 'Coyote Crossing', 'Showboat']\n",
    "\n",
    "groomed_m = ['G lade', 'Little Joe', 'Lower Tango', 'Rookie', 'Roundabout', 'Sidewinder', 'Sky Walker I', 'Sleepy Hollow',\n",
    "             'Sky Walker II', 'Snowflake', 'Tenderfoot', 'G reat D ivide', 'Freeway', 'Little Mo', 'Romp', 'Snow Burn',\n",
    "             '']\n",
    "\n",
    "groomed_CB = ['Keystone Lower', 'Roller Coaster', 'Peanut', 'Houston', 'Warming House Hill', 'Kubler', \"Big Al’s\", 'Smith Hill Lower',\n",
    "              'Smith Hill Upper', 'Twister Lower', 'Mineral Point', 'Poverty Gulch', 'North Star', 'Silver Queen Road', 'Keystone Upper',\n",
    "              'Upper Park', 'Augusta', 'High Tide', \"Rustler’s Gulch\", 'Cascade', 'North Pass', 'Gunsight Pass', \"Panion’s Run\",\n",
    "              'Buckley', \"Splain's Gulch\", 'Homeowners', 'Deer Pass', 'Prospector', 'Lower Gallowich', 'Gallowich Upper', 'Black Eagle',\n",
    "              'Daisy', 'Treasury Lower', 'Treasury Upper', 'Conundrum', \"Bubba’s Shortcut Upper\", \"Bubba’s Shortcut Lower\", 'Bushwacker',\n",
    "              'Gus Way', 'Ruby Chief Lower', 'Ruby Chief Upper', 'Paradise Bowl', 'Forest Queen', 'Yellow Brick Road', 'Teaching Terrain',\n",
    "              'International']\n",
    "\n",
    "groomed_t = ['Bambi Glade', 'Rueggli', 'High Five', 'High Five Pitch', 'Strawberry Hill', 'White Feather', 'White Feather (Middle Pitch)',\n",
    "             'Firlefanz', 'Lower Stauffenberg', 'Mucho Gusto', 'Porcupine', 'Powderhorn Bowl', 'Powderhorn Upper', 'Powderhorn Lower',\n",
    "             'Powderhorn Gully', 'Upper Powderhorn', 'Bonanza', \"Jess's (Lower)\", \"Jess's (Upper)\", 'Bambi', 'West Basin', 'Easy Trip',\n",
    "             'Honeysuckle', 'Japanese flag', 'Lower Patton', 'Lower Totemoff', 'Winkelreid', 'Baby Bear', 'Lone Star', \"Maxie's\",\n",
    "             'Shalako (Upper)', 'Shalako (Lower)', 'Upper Patton', 'Upper Totemoff']\n",
    "\n",
    "groomed_DP = ['Crystal Ridge', 'The Great Flume', 'Spillway', 'Sunnyside', \"Luggi's\", 'Freeway', 'Penguin', 'Ridge Run',\n",
    "              'Chute', 'Upper Show-off', 'Lower Show-off', \"Dusty's Delight\", 'Popular', 'Lodgepole', 'School Yard']\n",
    "\n",
    "groomed_WP = ['Allen Phipps', 'Big Valley', \"Bill Wilson's Way\", 'Bobcat', 'Easy Way', 'Gunbarrel', 'Upper High Lonesome', 'Lower High Lonesome', \n",
    "              'Hobo Alley', 'Jack Kendrick', 'Upper Lonesome Whistle', 'Low Lonesome Whistle', 'Upper Parkway', 'Turnpike-Parkway Bypass', \n",
    "              'Village Way - Parkway Bypass', 'Village Way - Upper Parkway', 'March Hare', 'March Hare East', 'Marmot Flats', 'Mock Turtle', \n",
    "              'Olympia Spur', 'Porcupine', 'Shoo Fly', 'Sorensen Park', 'Tie Siding', 'Turnpike', 'Vista Dome', 'Wagon Trail', 'Whistlestop', \n",
    "              'Lower White Rabbit', 'Bluebell', 'Buckaroo', \"Butch's Breezeway\", 'Corona Way', 'Cranmer', 'Upper Cranmer', 'Lower Cranmer', \n",
    "              'Forget-Me-Not', 'Upper Jabberwocky', 'Jabberwocky', 'Lower Jabberwocky', 'Larry Sale', 'Mary Jane Trail', 'Mary Jane Face', \n",
    "              'Paintbrush', 'Roundhouse Lower', 'Roundhouse', 'Stagecoach', 'Sundance', 'Tweedle Dee', 'White Rabbit', 'Upper White Rabbit', \n",
    "              'Upper Cheshire Cat', 'Lower Cheshire Cat', 'Lower Hughes', 'Upper Hughes', 'Hughes to Sale', 'Litter Pierre', 'Sleeper',\n",
    "              'Village Way - Practice Hill', 'Village Way - Mountain Road', 'Village Way - Cranmer Cutoff', 'Whistle Stop',\n",
    "              'Village Way - Primrose', 'Village Way - Green Acres']\n",
    "\n",
    "grooms = [groomed_LL,groomed_AB,groomed_c,groomed_e,groomed_AM,groomed_v,groomed_m,groomed_CB,groomed_t,groomed_DP,groomed_WP]"
   ]
  },
  {
   "cell_type": "code",
   "execution_count": null,
   "metadata": {},
   "outputs": [],
   "source": [
    "def add_groomed_col(df,groomed_lst):\n",
    "    df['groomed'] = 0\n",
    "    df['groomed'][df['trail_name'].isin(groomed_lst)] = 1\n",
    "    return df\n",
    "\n",
    "for resort, groom in zip(resorts,grooms):\n",
    "    add_groomed_col(resort,groom)"
   ]
  },
  {
   "cell_type": "code",
   "execution_count": null,
   "metadata": {
    "collapsed": true
   },
   "outputs": [],
   "source": [
    "loveland[(loveland['ability_level'] == 'Novice') & (loveland['groomed'] == 1)];"
   ]
  },
  {
   "cell_type": "code",
   "execution_count": null,
   "metadata": {
    "collapsed": true
   },
   "outputs": [],
   "source": [
    "AB[(AB['ability_level'] == 'Expert') & (AB['groomed'] == 0)];"
   ]
  },
  {
   "cell_type": "code",
   "execution_count": null,
   "metadata": {
    "collapsed": true
   },
   "outputs": [],
   "source": [
    "copper[(copper['ability_level'] == 'Expert') & (copper['groomed'] == 0)];"
   ]
  },
  {
   "cell_type": "code",
   "execution_count": null,
   "metadata": {
    "collapsed": true
   },
   "outputs": [],
   "source": [
    "AM['trail_name'][(AM['ability_level'] == 'Expert') & (AM['groomed'] == 0)];"
   ]
  },
  {
   "cell_type": "code",
   "execution_count": null,
   "metadata": {
    "collapsed": true
   },
   "outputs": [],
   "source": [
    "vail['trail_name'][(vail['ability_level'] == 'Novice') & (vail['groomed'] == 0)];"
   ]
  },
  {
   "cell_type": "code",
   "execution_count": null,
   "metadata": {
    "collapsed": true
   },
   "outputs": [],
   "source": [
    "monarch['trail_name'][(monarch['ability_level'] == 'Expert') & (monarch['groomed'] == 0)];"
   ]
  },
  {
   "cell_type": "markdown",
   "metadata": {},
   "source": [
    "***** Fix Monarch trail names"
   ]
  },
  {
   "cell_type": "code",
   "execution_count": null,
   "metadata": {
    "collapsed": true
   },
   "outputs": [],
   "source": [
    "CB['trail_name'][(CB['ability_level'] == 'Novice') & (CB['groomed'] == 0)];"
   ]
  },
  {
   "cell_type": "code",
   "execution_count": null,
   "metadata": {
    "collapsed": true
   },
   "outputs": [],
   "source": [
    "WP[(WP['ability_level'] == 'Intermediate') & (WP['groomed'] == 0)];"
   ]
  },
  {
   "cell_type": "code",
   "execution_count": null,
   "metadata": {
    "collapsed": true
   },
   "outputs": [],
   "source": [
    "taos[(taos['ability_level'] == 'Expert') & (taos['groomed'] == 0)];"
   ]
  },
  {
   "cell_type": "code",
   "execution_count": null,
   "metadata": {
    "collapsed": true
   },
   "outputs": [],
   "source": [
    "DP[(DP['ability_level'] == 'Advanced') & (DP['groomed'] == 0)];"
   ]
  },
  {
   "cell_type": "code",
   "execution_count": null,
   "metadata": {},
   "outputs": [],
   "source": [
    "DP[DP['trail_name'].str.contains(\"Batt\")]"
   ]
  },
  {
   "cell_type": "code",
   "execution_count": null,
   "metadata": {},
   "outputs": [],
   "source": [
    "eldora.shape"
   ]
  },
  {
   "cell_type": "code",
   "execution_count": null,
   "metadata": {
    "collapsed": true
   },
   "outputs": [],
   "source": []
  }
 ],
 "metadata": {
  "kernelspec": {
   "display_name": "Python 3",
   "language": "python",
   "name": "python3"
  },
  "language_info": {
   "codemirror_mode": {
    "name": "ipython",
    "version": 3
   },
   "file_extension": ".py",
   "mimetype": "text/x-python",
   "name": "python",
   "nbconvert_exporter": "python",
   "pygments_lexer": "ipython3",
   "version": "3.6.2"
  }
 },
 "nbformat": 4,
 "nbformat_minor": 2
}
