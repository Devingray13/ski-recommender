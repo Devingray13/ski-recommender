{
 "cells": [
  {
   "cell_type": "code",
   "execution_count": 1,
   "metadata": {
    "collapsed": true
   },
   "outputs": [],
   "source": [
    "import pickle\n",
    "import pandas as pd\n",
    "import numpy as np\n",
    "from sklearn.metrics.pairwise import cosine_similarity\n",
    "from sklearn.metrics.pairwise import euclidean_distances"
   ]
  },
  {
   "cell_type": "code",
   "execution_count": 2,
   "metadata": {
    "collapsed": true
   },
   "outputs": [],
   "source": [
    "pkl_file = open('df.pkl', 'rb')\n",
    "df = pickle.load(pkl_file)\n",
    "pkl_file.close() "
   ]
  },
  {
   "cell_type": "code",
   "execution_count": 3,
   "metadata": {},
   "outputs": [
    {
     "data": {
      "text/plain": [
       "(1125, 16)"
      ]
     },
     "execution_count": 3,
     "metadata": {},
     "output_type": "execute_result"
    }
   ],
   "source": [
    "df.shape"
   ]
  },
  {
   "cell_type": "code",
   "execution_count": 4,
   "metadata": {},
   "outputs": [
    {
     "data": {
      "text/html": [
       "<div>\n",
       "<style>\n",
       "    .dataframe thead tr:only-child th {\n",
       "        text-align: right;\n",
       "    }\n",
       "\n",
       "    .dataframe thead th {\n",
       "        text-align: left;\n",
       "    }\n",
       "\n",
       "    .dataframe tbody tr th {\n",
       "        vertical-align: top;\n",
       "    }\n",
       "</style>\n",
       "<table border=\"1\" class=\"dataframe\">\n",
       "  <thead>\n",
       "    <tr style=\"text-align: right;\">\n",
       "      <th></th>\n",
       "      <th>trail_name</th>\n",
       "      <th>top_elev_(ft)</th>\n",
       "      <th>bottom_elev_(ft)</th>\n",
       "      <th>vert_rise_(ft)</th>\n",
       "      <th>slope_length_(ft)</th>\n",
       "      <th>avg_width_(ft)</th>\n",
       "      <th>slope_area_(acres)</th>\n",
       "      <th>avg_grade_(%)</th>\n",
       "      <th>max_grade_(%)</th>\n",
       "      <th>ability_level</th>\n",
       "      <th>resort</th>\n",
       "      <th>location</th>\n",
       "      <th>groomed</th>\n",
       "      <th>colors</th>\n",
       "      <th>ability_nums</th>\n",
       "      <th>color_nums</th>\n",
       "    </tr>\n",
       "  </thead>\n",
       "  <tbody>\n",
       "    <tr>\n",
       "      <th>0</th>\n",
       "      <td>Over the Rainbow</td>\n",
       "      <td>11924.0</td>\n",
       "      <td>10858.0</td>\n",
       "      <td>1066.0</td>\n",
       "      <td>2404.0</td>\n",
       "      <td>319</td>\n",
       "      <td>17.6</td>\n",
       "      <td>50.0</td>\n",
       "      <td>69.0</td>\n",
       "      <td>Expert</td>\n",
       "      <td>Loveland</td>\n",
       "      <td>CO</td>\n",
       "      <td>0</td>\n",
       "      <td>bb</td>\n",
       "      <td>6</td>\n",
       "      <td>4</td>\n",
       "    </tr>\n",
       "    <tr>\n",
       "      <th>1</th>\n",
       "      <td>Zoom</td>\n",
       "      <td>11405.0</td>\n",
       "      <td>11005.0</td>\n",
       "      <td>400.0</td>\n",
       "      <td>839.0</td>\n",
       "      <td>195</td>\n",
       "      <td>3.7</td>\n",
       "      <td>55.0</td>\n",
       "      <td>66.0</td>\n",
       "      <td>Expert</td>\n",
       "      <td>Loveland</td>\n",
       "      <td>CO</td>\n",
       "      <td>0</td>\n",
       "      <td>bb</td>\n",
       "      <td>6</td>\n",
       "      <td>4</td>\n",
       "    </tr>\n",
       "    <tr>\n",
       "      <th>2</th>\n",
       "      <td>Avalanche Bowl</td>\n",
       "      <td>11840.0</td>\n",
       "      <td>11405.0</td>\n",
       "      <td>435.0</td>\n",
       "      <td>1141.0</td>\n",
       "      <td>255</td>\n",
       "      <td>6.7</td>\n",
       "      <td>42.0</td>\n",
       "      <td>76.0</td>\n",
       "      <td>Expert</td>\n",
       "      <td>Loveland</td>\n",
       "      <td>CO</td>\n",
       "      <td>0</td>\n",
       "      <td>bb</td>\n",
       "      <td>6</td>\n",
       "      <td>4</td>\n",
       "    </tr>\n",
       "    <tr>\n",
       "      <th>3</th>\n",
       "      <td>Tiger's Tail</td>\n",
       "      <td>11856.0</td>\n",
       "      <td>11469.0</td>\n",
       "      <td>386.0</td>\n",
       "      <td>1183.0</td>\n",
       "      <td>136</td>\n",
       "      <td>3.7</td>\n",
       "      <td>35.0</td>\n",
       "      <td>61.0</td>\n",
       "      <td>Expert</td>\n",
       "      <td>Loveland</td>\n",
       "      <td>CO</td>\n",
       "      <td>0</td>\n",
       "      <td>black</td>\n",
       "      <td>6</td>\n",
       "      <td>3</td>\n",
       "    </tr>\n",
       "    <tr>\n",
       "      <th>4</th>\n",
       "      <td>Spillway</td>\n",
       "      <td>11849.0</td>\n",
       "      <td>11631.0</td>\n",
       "      <td>218.0</td>\n",
       "      <td>702.0</td>\n",
       "      <td>198</td>\n",
       "      <td>3.2</td>\n",
       "      <td>33.0</td>\n",
       "      <td>41.0</td>\n",
       "      <td>Intermediate</td>\n",
       "      <td>Loveland</td>\n",
       "      <td>CO</td>\n",
       "      <td>1</td>\n",
       "      <td>blue</td>\n",
       "      <td>4</td>\n",
       "      <td>2</td>\n",
       "    </tr>\n",
       "  </tbody>\n",
       "</table>\n",
       "</div>"
      ],
      "text/plain": [
       "         trail_name  top_elev_(ft)  bottom_elev_(ft)  vert_rise_(ft)  \\\n",
       "0  Over the Rainbow        11924.0           10858.0          1066.0   \n",
       "1              Zoom        11405.0           11005.0           400.0   \n",
       "2    Avalanche Bowl        11840.0           11405.0           435.0   \n",
       "3      Tiger's Tail        11856.0           11469.0           386.0   \n",
       "4          Spillway        11849.0           11631.0           218.0   \n",
       "\n",
       "   slope_length_(ft) avg_width_(ft)  slope_area_(acres)  avg_grade_(%)  \\\n",
       "0             2404.0            319                17.6           50.0   \n",
       "1              839.0            195                 3.7           55.0   \n",
       "2             1141.0            255                 6.7           42.0   \n",
       "3             1183.0            136                 3.7           35.0   \n",
       "4              702.0            198                 3.2           33.0   \n",
       "\n",
       "   max_grade_(%) ability_level    resort location  groomed colors  \\\n",
       "0           69.0        Expert  Loveland       CO        0     bb   \n",
       "1           66.0        Expert  Loveland       CO        0     bb   \n",
       "2           76.0        Expert  Loveland       CO        0     bb   \n",
       "3           61.0        Expert  Loveland       CO        0  black   \n",
       "4           41.0  Intermediate  Loveland       CO        1   blue   \n",
       "\n",
       "   ability_nums  color_nums  \n",
       "0             6           4  \n",
       "1             6           4  \n",
       "2             6           4  \n",
       "3             6           3  \n",
       "4             4           2  "
      ]
     },
     "execution_count": 4,
     "metadata": {},
     "output_type": "execute_result"
    }
   ],
   "source": [
    "df.head()"
   ]
  },
  {
   "cell_type": "code",
   "execution_count": 5,
   "metadata": {
    "collapsed": true
   },
   "outputs": [],
   "source": [
    "df = df.reset_index(drop=True)"
   ]
  },
  {
   "cell_type": "code",
   "execution_count": 6,
   "metadata": {
    "collapsed": true
   },
   "outputs": [],
   "source": [
    "features = ['top_elev_(ft)', \n",
    "            'bottom_elev_(ft)', \n",
    "            'vert_rise_(ft)', \n",
    "            'slope_length_(ft)', \n",
    "            'avg_width_(ft)', \n",
    "            'slope_area_(acres)', \n",
    "            'avg_grade_(%)', \n",
    "            'max_grade_(%)', \n",
    "            'groomed']\n",
    "\n",
    "X = df[features].values"
   ]
  },
  {
   "cell_type": "code",
   "execution_count": 7,
   "metadata": {
    "scrolled": true
   },
   "outputs": [
    {
     "data": {
      "text/plain": [
       "array([[11924.0, 10858.0, 1066.0, ..., 50.0, 69.0, 0],\n",
       "       [11405.0, 11005.0, 400.0, ..., 55.0, 66.0, 0],\n",
       "       [11840.0, 11405.0, 435.0, ..., 42.0, 76.0, 0],\n",
       "       ..., \n",
       "       [8110.0, 8100.0, 10.0, ..., 8.0, 11.0, 1],\n",
       "       [8113.0, 8100.0, 13.0, ..., 12.0, 12.0, 1],\n",
       "       [8147.0, 8100.0, 47.0, ..., 15.0, 12.0, 1]], dtype=object)"
      ]
     },
     "execution_count": 7,
     "metadata": {},
     "output_type": "execute_result"
    }
   ],
   "source": [
    "X"
   ]
  },
  {
   "cell_type": "code",
   "execution_count": 8,
   "metadata": {
    "collapsed": true
   },
   "outputs": [],
   "source": [
    "def eucl_dist_recommendations_resort(trail_name, resort_name, X, n=5, resort=None):\n",
    "    index = df.index[(df['trail_name'] == trail_name) & (df['resort'] == resort_name)][0]\n",
    "    trail = X[index].reshape(1,-1)\n",
    "    ed = euclidean_distances(trail, X)\n",
    "    rec_index = np.argsort(ed)[0][::-1][1:]\n",
    "    ordered_df = df.loc[rec_index]\n",
    "    if resort:\n",
    "        ordered_df = ordered_df[ordered_df['resort'] == resort]\n",
    "    rec_df = ordered_df.head(n)\n",
    "    orig_row = df.loc[[index]].rename(lambda x: 'original')\n",
    "    total = pd.concat((orig_row,rec_df))\n",
    "    return total"
   ]
  },
  {
   "cell_type": "code",
   "execution_count": 10,
   "metadata": {},
   "outputs": [
    {
     "data": {
      "text/html": [
       "<div>\n",
       "<style>\n",
       "    .dataframe thead tr:only-child th {\n",
       "        text-align: right;\n",
       "    }\n",
       "\n",
       "    .dataframe thead th {\n",
       "        text-align: left;\n",
       "    }\n",
       "\n",
       "    .dataframe tbody tr th {\n",
       "        vertical-align: top;\n",
       "    }\n",
       "</style>\n",
       "<table border=\"1\" class=\"dataframe\">\n",
       "  <thead>\n",
       "    <tr style=\"text-align: right;\">\n",
       "      <th></th>\n",
       "      <th>trail_name</th>\n",
       "      <th>top_elev_(ft)</th>\n",
       "      <th>bottom_elev_(ft)</th>\n",
       "      <th>vert_rise_(ft)</th>\n",
       "      <th>slope_length_(ft)</th>\n",
       "      <th>avg_width_(ft)</th>\n",
       "      <th>slope_area_(acres)</th>\n",
       "      <th>avg_grade_(%)</th>\n",
       "      <th>max_grade_(%)</th>\n",
       "      <th>ability_level</th>\n",
       "      <th>resort</th>\n",
       "      <th>location</th>\n",
       "      <th>groomed</th>\n",
       "      <th>colors</th>\n",
       "      <th>ability_nums</th>\n",
       "      <th>color_nums</th>\n",
       "    </tr>\n",
       "  </thead>\n",
       "  <tbody>\n",
       "    <tr>\n",
       "      <th>original</th>\n",
       "      <td>Sorensen Park</td>\n",
       "      <td>9150.0</td>\n",
       "      <td>9090.0</td>\n",
       "      <td>60.0</td>\n",
       "      <td>1067.43</td>\n",
       "      <td>114</td>\n",
       "      <td>4.07</td>\n",
       "      <td>6.0</td>\n",
       "      <td>8.0</td>\n",
       "      <td>Beginner</td>\n",
       "      <td>Winter Park</td>\n",
       "      <td>CO</td>\n",
       "      <td>1</td>\n",
       "      <td>green</td>\n",
       "      <td>1</td>\n",
       "      <td>1</td>\n",
       "    </tr>\n",
       "    <tr>\n",
       "      <th>548</th>\n",
       "      <td>Gitalong Road</td>\n",
       "      <td>10152.0</td>\n",
       "      <td>8364.0</td>\n",
       "      <td>1788.6</td>\n",
       "      <td>22062.60</td>\n",
       "      <td>61</td>\n",
       "      <td>30.80</td>\n",
       "      <td>8.0</td>\n",
       "      <td>18.0</td>\n",
       "      <td>Novice</td>\n",
       "      <td>Vail</td>\n",
       "      <td>CO</td>\n",
       "      <td>0</td>\n",
       "      <td>green</td>\n",
       "      <td>2</td>\n",
       "      <td>1</td>\n",
       "    </tr>\n",
       "    <tr>\n",
       "      <th>598</th>\n",
       "      <td>Cloud 9</td>\n",
       "      <td>11480.0</td>\n",
       "      <td>9572.0</td>\n",
       "      <td>1908.4</td>\n",
       "      <td>18396.00</td>\n",
       "      <td>57</td>\n",
       "      <td>24.10</td>\n",
       "      <td>10.0</td>\n",
       "      <td>30.0</td>\n",
       "      <td>Low Intermediate</td>\n",
       "      <td>Vail</td>\n",
       "      <td>CO</td>\n",
       "      <td>0</td>\n",
       "      <td>blue</td>\n",
       "      <td>3</td>\n",
       "      <td>2</td>\n",
       "    </tr>\n",
       "    <tr>\n",
       "      <th>276</th>\n",
       "      <td>Lower Easy Road Traverse</td>\n",
       "      <td>11196.0</td>\n",
       "      <td>9874.0</td>\n",
       "      <td>1322.0</td>\n",
       "      <td>17989.00</td>\n",
       "      <td>27</td>\n",
       "      <td>11.20</td>\n",
       "      <td>7.0</td>\n",
       "      <td>25.0</td>\n",
       "      <td>Novice</td>\n",
       "      <td>Copper</td>\n",
       "      <td>CO</td>\n",
       "      <td>1</td>\n",
       "      <td>green</td>\n",
       "      <td>2</td>\n",
       "      <td>1</td>\n",
       "    </tr>\n",
       "    <tr>\n",
       "      <th>582</th>\n",
       "      <td>Sleepy Time</td>\n",
       "      <td>11085.0</td>\n",
       "      <td>9520.0</td>\n",
       "      <td>1565.0</td>\n",
       "      <td>16526.30</td>\n",
       "      <td>30</td>\n",
       "      <td>11.40</td>\n",
       "      <td>9.0</td>\n",
       "      <td>20.0</td>\n",
       "      <td>Low Intermediate</td>\n",
       "      <td>Vail</td>\n",
       "      <td>CO</td>\n",
       "      <td>0</td>\n",
       "      <td>blue</td>\n",
       "      <td>3</td>\n",
       "      <td>2</td>\n",
       "    </tr>\n",
       "    <tr>\n",
       "      <th>1067</th>\n",
       "      <td>Primrose</td>\n",
       "      <td>10369.0</td>\n",
       "      <td>9112.0</td>\n",
       "      <td>1256.0</td>\n",
       "      <td>15829.00</td>\n",
       "      <td>48</td>\n",
       "      <td>17.40</td>\n",
       "      <td>8.0</td>\n",
       "      <td>20.0</td>\n",
       "      <td>Novice</td>\n",
       "      <td>Beaver Creek</td>\n",
       "      <td>CO</td>\n",
       "      <td>1</td>\n",
       "      <td>green</td>\n",
       "      <td>2</td>\n",
       "      <td>1</td>\n",
       "    </tr>\n",
       "  </tbody>\n",
       "</table>\n",
       "</div>"
      ],
      "text/plain": [
       "                        trail_name  top_elev_(ft)  bottom_elev_(ft)  \\\n",
       "original             Sorensen Park         9150.0            9090.0   \n",
       "548                  Gitalong Road        10152.0            8364.0   \n",
       "598                        Cloud 9        11480.0            9572.0   \n",
       "276       Lower Easy Road Traverse        11196.0            9874.0   \n",
       "582                    Sleepy Time        11085.0            9520.0   \n",
       "1067                      Primrose        10369.0            9112.0   \n",
       "\n",
       "          vert_rise_(ft)  slope_length_(ft) avg_width_(ft)  \\\n",
       "original            60.0            1067.43            114   \n",
       "548               1788.6           22062.60             61   \n",
       "598               1908.4           18396.00             57   \n",
       "276               1322.0           17989.00             27   \n",
       "582               1565.0           16526.30             30   \n",
       "1067              1256.0           15829.00             48   \n",
       "\n",
       "          slope_area_(acres)  avg_grade_(%)  max_grade_(%)     ability_level  \\\n",
       "original                4.07            6.0            8.0          Beginner   \n",
       "548                    30.80            8.0           18.0            Novice   \n",
       "598                    24.10           10.0           30.0  Low Intermediate   \n",
       "276                    11.20            7.0           25.0            Novice   \n",
       "582                    11.40            9.0           20.0  Low Intermediate   \n",
       "1067                   17.40            8.0           20.0            Novice   \n",
       "\n",
       "                resort location  groomed colors  ability_nums  color_nums  \n",
       "original   Winter Park       CO        1  green             1           1  \n",
       "548               Vail       CO        0  green             2           1  \n",
       "598               Vail       CO        0   blue             3           2  \n",
       "276             Copper       CO        1  green             2           1  \n",
       "582               Vail       CO        0   blue             3           2  \n",
       "1067      Beaver Creek       CO        1  green             2           1  "
      ]
     },
     "execution_count": 10,
     "metadata": {},
     "output_type": "execute_result"
    }
   ],
   "source": [
    "eucl_dist_recommendations_resort('Sorensen Park','Winter Park',X,n=5,resort=None)"
   ]
  },
  {
   "cell_type": "code",
   "execution_count": 139,
   "metadata": {
    "collapsed": true
   },
   "outputs": [],
   "source": [
    "df['trail_name'][df['resort'] == 'Winter Park'];"
   ]
  },
  {
   "cell_type": "code",
   "execution_count": 141,
   "metadata": {},
   "outputs": [
    {
     "data": {
      "text/plain": [
       "848"
      ]
     },
     "execution_count": 141,
     "metadata": {},
     "output_type": "execute_result"
    }
   ],
   "source": [
    "df.index[df['trail_name'] == 'Sorensen Park'][0]"
   ]
  },
  {
   "cell_type": "code",
   "execution_count": 14,
   "metadata": {},
   "outputs": [
    {
     "data": {
      "text/plain": [
       "21102.604810349836"
      ]
     },
     "execution_count": 14,
     "metadata": {},
     "output_type": "execute_result"
    }
   ],
   "source": [
    "euclidean_distances(X[848].reshape(1,-1),X[548].reshape(1,-1))[0][0]"
   ]
  },
  {
   "cell_type": "code",
   "execution_count": 15,
   "metadata": {},
   "outputs": [
    {
     "data": {
      "text/plain": [
       "17588.669534839752"
      ]
     },
     "execution_count": 15,
     "metadata": {},
     "output_type": "execute_result"
    }
   ],
   "source": [
    "euclidean_distances(X[848].reshape(1,-1),X[598].reshape(1,-1))[0][0]"
   ]
  },
  {
   "cell_type": "code",
   "execution_count": 16,
   "metadata": {},
   "outputs": [
    {
     "data": {
      "text/plain": [
       "17109.671449265181"
      ]
     },
     "execution_count": 16,
     "metadata": {},
     "output_type": "execute_result"
    }
   ],
   "source": [
    "euclidean_distances(X[848].reshape(1,-1),X[276].reshape(1,-1))[0][0]"
   ]
  },
  {
   "cell_type": "code",
   "execution_count": null,
   "metadata": {
    "collapsed": true
   },
   "outputs": [],
   "source": []
  }
 ],
 "metadata": {
  "kernelspec": {
   "display_name": "Python 3",
   "language": "python",
   "name": "python3"
  },
  "language_info": {
   "codemirror_mode": {
    "name": "ipython",
    "version": 3
   },
   "file_extension": ".py",
   "mimetype": "text/x-python",
   "name": "python",
   "nbconvert_exporter": "python",
   "pygments_lexer": "ipython3",
   "version": "3.6.2"
  }
 },
 "nbformat": 4,
 "nbformat_minor": 2
}
