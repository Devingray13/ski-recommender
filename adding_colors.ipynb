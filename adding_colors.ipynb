{
 "cells": [
  {
   "cell_type": "code",
   "execution_count": 2,
   "metadata": {
    "collapsed": true
   },
   "outputs": [],
   "source": [
    "import warnings\n",
    "warnings.filterwarnings('ignore')"
   ]
  },
  {
   "cell_type": "code",
   "execution_count": 3,
   "metadata": {
    "collapsed": true
   },
   "outputs": [],
   "source": [
    "run comb_tables.py"
   ]
  },
  {
   "cell_type": "code",
   "execution_count": 4,
   "metadata": {
    "collapsed": true
   },
   "outputs": [],
   "source": [
    "run webscrape_trails.py"
   ]
  },
  {
   "cell_type": "code",
   "execution_count": 5,
   "metadata": {
    "collapsed": true
   },
   "outputs": [],
   "source": [
    "resorts = ['Loveland',\n",
    " 'Arapahoe Basin',\n",
    " 'Copper',\n",
    " 'Eldora',\n",
    " 'Alpine Meadows',\n",
    " 'Vail',\n",
    " 'Monarch',\n",
    " 'Crested Butte',\n",
    " 'Taos',\n",
    " 'Diamond Peak',\n",
    " 'Winter Park',\n",
    " 'Beaver Creek']\n",
    "levels = ['green','blue','black','bb']\n",
    "resort_dfs = [loveland,AB,copper,eldora,AM,vail,monarch,CB,taos,DP,WP,BC]"
   ]
  },
  {
   "cell_type": "code",
   "execution_count": 6,
   "metadata": {
    "collapsed": true
   },
   "outputs": [],
   "source": [
    "def missing_trails(color_trails,resort_df):\n",
    "    '''\n",
    "    Inputs:\n",
    "    color_trails = trails_by_color[resort][level] (list)\n",
    "    resort_df from resort_dfs (DataFrame)\n",
    "    Outputs:\n",
    "    list of trails by color from webscraping that weren't in the dataframe\n",
    "    '''\n",
    "    trail_lst = []\n",
    "    for trail in color_trails:\n",
    "        if trail not in list(resort_df['trail_name']):\n",
    "             trail_lst.append(trail)\n",
    "    return trail_lst"
   ]
  },
  {
   "cell_type": "code",
   "execution_count": 7,
   "metadata": {
    "collapsed": true
   },
   "outputs": [],
   "source": [
    "def get_trails_list(resort,level):\n",
    "    '''\n",
    "    Inputs: \n",
    "    resort from resorts (str)\n",
    "    level from levels (str)\n",
    "    Outputs:\n",
    "    list of trail names in a useable string format (list)\n",
    "    '''\n",
    "    if dct[resort][level] is None:\n",
    "        return []\n",
    "    else:\n",
    "        return [word.encode('ascii','ignore').strip().decode('utf-8') for word in dct[resort][level]['Name']]\n",
    "    \n",
    "trails_by_color = {}\n",
    "for resort in resorts:\n",
    "    trails_by_color[resort] = {level: get_trails_list(resort,level) for level in levels}"
   ]
  },
  {
   "cell_type": "code",
   "execution_count": 8,
   "metadata": {
    "collapsed": true
   },
   "outputs": [],
   "source": [
    "def make_classes(resort_df,resort):\n",
    "    '''\n",
    "    Inputs:\n",
    "    resort_df from resort_dfs (DataFrame)\n",
    "    resort from resorts (str)\n",
    "    Outputs:\n",
    "    resort_df w/ class column added (DataFrame)\n",
    "    '''\n",
    "    resort_df['class'] = 'color'\n",
    "    levels = ['green','blue','black','bb']\n",
    "    for level in levels:\n",
    "        resort_df['class'][resort_df['trail_name'].isin(get_trails_list(resort,level))] = level\n",
    "    return resort_df\n",
    "\n",
    "for resort_df,resort in zip(resort_dfs,resorts):\n",
    "    make_classes(resort_df,resort)"
   ]
  },
  {
   "cell_type": "code",
   "execution_count": 9,
   "metadata": {
    "collapsed": true
   },
   "outputs": [],
   "source": [
    "'''\n",
    "Dictionary of dictionaries {resort: {level: [trails]}}\n",
    "For trails that are in the resort_df but have slightly different names from the webscraping\n",
    "'''\n",
    "trails_to_add = {}"
   ]
  },
  {
   "cell_type": "code",
   "execution_count": 10,
   "metadata": {
    "collapsed": true
   },
   "outputs": [],
   "source": [
    "trails_to_add['Alpine Meadows'] = {'green': ['Meadow Run', 'Subway Run', 'Teaching Terrain'],\n",
    "                                   'blue': ['Bobby’s Run', 'Maid Marian', 'Nick’s Run', 'Ray’s Rut', 'Reily’s Run', 'Sandy’s Corner', 'Scotty’s Beam', 'Werner’s Schuss'],\n",
    "                                   'black': ['Peter’s Peril', 'Hidden Knoll’s', 'Promise Land'],\n",
    "                                   'bb': []}\n",
    "\n",
    "AM_unknown = ['Terry’s Return']"
   ]
  },
  {
   "cell_type": "code",
   "execution_count": 11,
   "metadata": {
    "collapsed": true
   },
   "outputs": [],
   "source": [
    "trails_to_add['Loveland'] = {'green': ['Cat Walk', 'Deuces Wild', 'Home Run', 'Zig-Zag','Magic Carpet Slope'],\n",
    "                             'blue': ['Apollo (Lower)','Apollo (Upper)', 'Blackjack (Lower)', 'Blackjack (Upper)', 'North Chutes', 'Switchback (Lower)',\n",
    "            'Switchback (Upper)', 'Twist (Lower)', 'Twist (Upper)'],\n",
    "                             'black': ['Cats Meow', 'Fail Safe Trees I', 'Fail Safe Trees II', 'Sunburst Chutes'],\n",
    "                             'bb': ['#4 Headwall', 'Upper #4 Headwall', 'Patrol Bowl (Lower)', 'Patrol Bowl (Upper)']}\n",
    "\n",
    "ll_unknown = ['Stardust']\n",
    "ll_unknown += ['Catwalk Trees', 'Field of Dreams', 'Porcupine Saddle', 'Satisfaction']\n",
    "ll_unknown += ['Marmot', 'Rock Chutes', 'Super Bowl', 'Super Nova', 'Tickler',  'Velvet Hammer', 'Wild Child']"
   ]
  },
  {
   "cell_type": "code",
   "execution_count": 12,
   "metadata": {
    "collapsed": true
   },
   "outputs": [],
   "source": [
    "trails_to_add['Arapahoe Basin'] = {'green': ['Wrangler Lower', 'Wrangler Middle', 'Wrangler Upper', 'Molly Hogan 1', 'Molly Hogan 2', \"Molly's Magic Carpet\", 'Molly Hogan Upper', 'Carpet II'],\n",
    "                                   'blue': ['Cornice Run I', 'Cornice Run II', 'T.B. Glade'],\n",
    "                                   'black': ['Powder Keg Lower', 'Powder Keg Upper'],\n",
    "                                    'bb': ['13 Cornices Upper', '13 Cornices Lower', 'Rollercoaster']}"
   ]
  },
  {
   "cell_type": "code",
   "execution_count": 13,
   "metadata": {
    "collapsed": true
   },
   "outputs": [],
   "source": [
    "trails_to_add['Copper'] = {'green': ['Lower Carefree', 'Upper Carefree', \"Lower Easy Feelin'\", \"Upper Easy Feelin'\", \n",
    "                                    'Lower High Point', 'Middle High Point', 'Upper High Point', 'Upper Leap Frog',\n",
    "                                    'Lower Leap Frog', 'Lower Loverly', 'Middle Loverly', 'Upper Loverly', 'Lower Roundabout',\n",
    "                                    'Middle Roundabout', 'Upper Roundabout', 'See and Ski', 'Lower Soliloquy', 'Upper Soliloquy',\n",
    "                                    'West Tenmile'],\n",
    "                          'blue': ['Copperfields'],\n",
    "                          'black': [\"CDL's\", 'Allcante', \"Ute Overlook\", 'Lower Lillie G', 'Upper Lillie G'],\n",
    "                          'bb': []}"
   ]
  },
  {
   "cell_type": "code",
   "execution_count": 14,
   "metadata": {
    "collapsed": true
   },
   "outputs": [],
   "source": [
    "trails_to_add['Eldora'] = {'green': ['Upper Bunny Fair', 'Fox Tail'],\n",
    "                           'blue': ['Crewcut', 'Corona TRV', \"Four O' Clock Trail\", 'Middle Jolly Jug',\n",
    "                                    'Lower Jolly Jug', 'Upper Bunny Fair', 'Quickway', 'Sundance'],\n",
    "                           'black': ['Challenge Liftline', 'Corona Road', 'Klondike', 'Upper Diamond Back'],\n",
    "                           'bb': ['Upper Jolly Jug', 'Liftline']}"
   ]
  },
  {
   "cell_type": "code",
   "execution_count": 15,
   "metadata": {
    "collapsed": true
   },
   "outputs": [],
   "source": [
    "trails_to_add['Vail'] = {'green': [\"Cubs Way\", 'Eagles Nest Ridge', 'Flapjack', 'Lionsway Cutoff', 'Lower Lionsway',\n",
    "                                     'Upper Lionsway', 'Minni Ha Ha', 'Practice Pkwy', 'Timberline Catwalk.', 'Transmontane',\n",
    "                                     'Windish Way'],\n",
    "                           'blue': ['Avanti Lower', 'Avanti Upper', 'China Bowl Egress', 'Choker Cutoff', 'Kellys Toll Road',\n",
    "                                    'Riva Ridge Lower', 'Mid-Vail Express', 'Ranger Racoon', \"Ruder's Route\", 'Simba Lower',\n",
    "                                    'Simba Upper', 'Simba Racer', 'Sleepy Time', 'Berries', 'Pickeroon', 'The Preserve',\n",
    "                                    ''],\n",
    "                           'black': ['Dueces Wild', 'Wild Card', 'Genghis Kahn', 'Inner MongoliaBowl', 'Legdes Lower',\n",
    "                                     'Ledges Upper', 'Lookma', 'South Lookma', 'Lovers Leap', 'Safari', 'Montane Glade',\n",
    "                                     'North Rim', 'South Rim', 'OS', 'Old 9 Lift Line', 'Outer Mongolia Bowl', 'Resolution Upper',\n",
    "                                     'Resolution Lower', 'Shangri-La Glades', 'Shangri-la Glades E', 'Steep and Deep',\n",
    "                                     'Riva Ridge Upper', \"Widge's Ridge\", \"Widows Trees\"],\n",
    "                           'bb': ['Front Side Chutes', 'Mud Slide Chutes', 'Prima Lower', 'Prima Upper', 'Pump House Chutes',\n",
    "                                  '']}"
   ]
  },
  {
   "cell_type": "code",
   "execution_count": 16,
   "metadata": {
    "collapsed": true
   },
   "outputs": [],
   "source": [
    "trails_to_add['Monarch'] = {'green': ['K C Cutoff', 'Sky Walker I', 'Sky Walker II', 'D rifter', 'G lade'],\n",
    "                           'blue': ['Bee Line', \"D oc’s Run\", 'G reat D ivide', 'Q uick D raw', 'Snow Burn', 'Lower Hall’s Alley'],\n",
    "                           'black': [\"B’s Bash\", 'D ire Straits', \"G eno’s Meadow\", \"G unbarrel\", 'K anonen', 'O utback',\n",
    "                                     'Upper X mas Tree', 'Upper Hall’s Alley'],\n",
    "                           'bb': ['Mirkwood Basin', 'Mirkwood Basin Egress', ]}"
   ]
  },
  {
   "cell_type": "code",
   "execution_count": 17,
   "metadata": {
    "collapsed": true
   },
   "outputs": [],
   "source": [
    "trails_to_add['Crested Butte'] = {'green': ['Big Al’s', 'Bubba’s Shortcut Upper', 'Bubba’s Shortcut Lower', 'Keystone Lower',\n",
    "                                            'Twister Lower', 'Peachtree Connector', 'Smith Hill Lower', 'Teaching Terrain',\n",
    "                                            'To Base Area'],\n",
    "                           'blue': ['Gus Way', 'Homeowners', 'Treasury Lower', 'Gallowich', 'Panion’s Run', 'Ruby Chief Lower',\n",
    "                                    'Gallowich Upper', 'Keystone Upper', 'Treasury Upper'],\n",
    "                           'black': ['Silvanite', 'Twister Upper', 'Twister Connector'],\n",
    "                           'bb': ['Headwall']}"
   ]
  },
  {
   "cell_type": "code",
   "execution_count": 24,
   "metadata": {
    "collapsed": true
   },
   "outputs": [],
   "source": [
    "trails_to_add['Taos'] = {'green': ['Japanese flag', \"Jess's (Lower)\", \"Jess's (Upper)\", \"Winkelreid\"],\n",
    "                           'blue': [\"Maxie's\", 'Powderhorn Lower', 'Powderhorn Upper', 'Shalako (Lower)', 'Shalako (Upper)',\n",
    "                                   'Topa Papa'],\n",
    "                           'black': [],\n",
    "                           'bb': ['Lorelai Egress']}"
   ]
  },
  {
   "cell_type": "code",
   "execution_count": 35,
   "metadata": {
    "collapsed": true
   },
   "outputs": [],
   "source": [
    "trails_to_add['Diamond Peak'] = {'green': [],\n",
    "                           'blue': [],\n",
    "                           'black': ['FIS', 'O God', 'GS'],\n",
    "                           'bb': []}"
   ]
  },
  {
   "cell_type": "code",
   "execution_count": 127,
   "metadata": {
    "collapsed": true
   },
   "outputs": [],
   "source": [
    "trails_to_add['Winter Park'] = {'green': ['Allen Phipps', \"Bill Wilson's Way\", 'Upper High Lonesome', 'Lower High Lonesome',\n",
    "                                          'Hook Up', 'Moose Wallow', 'March Hare', 'Wagon Trail', 'Whistle Stop', 'Sorensen Park'],\n",
    "                           'blue': ['Belmar Bowl', 'Upper Cranmer', 'Lower Cranmer', 'Dilly Dally Alley', 'Forget-Me-Not', \n",
    "                                    'Upper Jabberwocky', 'Low Lonesome Whistle', 'Mary Jane Trail', \"Parry's Peak\", 'Primrose Glades',\n",
    "                                    'Upper Rendezvous', 'Lower Rendezvous', 'Roundhouse Lower', 'Shoot Out', 'Columbine Upper',\n",
    "                                    'Upper White Rabbit', 'Belmar Bowl', 'Chuckwagon', 'Lower Cheshire Cat'],\n",
    "                           'black': ['Aces and Eights', \"Bradley's Bash\", 'Engeldive Cutoff', 'Upper Hughes', 'Iron Horse Trail Upper',\n",
    "                                     'Iron Horse Trail Middle Upper', 'Iron Horse Trail Middle Lower', 'Iron Horse Trail Lower',\n",
    "                                     'Johnston Junction', 'Litter Pierre', 'Pioneer Express Trail (Lower)', \"Mulligan's Mile\", \n",
    "                                     \"Over N' Underwood\", \"Retta's Run\", 'Riflesight Notch', 'Sharp Nose', 'Sleepy Hollow',\n",
    "                                     'Sleeper Glades', 'Super Gauge Trail (Rock Garden)', 'Mary Jane Face', 'Pioneer Express Trail (Upper)', \n",
    "                                     'Norwegian', 'Columbine Lower', 'Upper Cheshire Cat'],\n",
    "                           'bb': []}"
   ]
  },
  {
   "cell_type": "code",
   "execution_count": 186,
   "metadata": {
    "collapsed": true
   },
   "outputs": [],
   "source": [
    "trails_to_add['Beaver Creek'] = {'green': ['Beginner Terrain', 'BC Mtn Expressway', 'Easy Come _Easy Go', 'Elkhorn', 'Haymeadow',\n",
    "                                           'Holden', 'Leav the Beav', 'Meadows', 'Rubarb', 'Ridge Point'],\n",
    "                           'blue': ['Creekside', 'Stacker_lower', 'McCoy', 'Paintbrush', 'West Fall Road'],\n",
    "                           'black': ['Boarders Loop', 'Goshawk', 'Harrier', 'Centennial', 'Wapiti', 'S. Star'],\n",
    "                           'bb': []}"
   ]
  },
  {
   "cell_type": "code",
   "execution_count": 185,
   "metadata": {},
   "outputs": [
    {
     "data": {
      "text/html": [
       "<div>\n",
       "<style>\n",
       "    .dataframe thead tr:only-child th {\n",
       "        text-align: right;\n",
       "    }\n",
       "\n",
       "    .dataframe thead th {\n",
       "        text-align: left;\n",
       "    }\n",
       "\n",
       "    .dataframe tbody tr th {\n",
       "        vertical-align: top;\n",
       "    }\n",
       "</style>\n",
       "<table border=\"1\" class=\"dataframe\">\n",
       "  <thead>\n",
       "    <tr style=\"text-align: right;\">\n",
       "      <th></th>\n",
       "      <th>trail_name</th>\n",
       "      <th>ability_level</th>\n",
       "    </tr>\n",
       "  </thead>\n",
       "  <tbody>\n",
       "    <tr>\n",
       "      <th>1</th>\n",
       "      <td>Chair 2</td>\n",
       "      <td>Novice</td>\n",
       "    </tr>\n",
       "    <tr>\n",
       "      <th>9</th>\n",
       "      <td>Stone Creek Chutes</td>\n",
       "      <td>Expert</td>\n",
       "    </tr>\n",
       "    <tr>\n",
       "      <th>34</th>\n",
       "      <td>Half- Barrell Half Pipe</td>\n",
       "      <td>Low Intermediate</td>\n",
       "    </tr>\n",
       "    <tr>\n",
       "      <th>35</th>\n",
       "      <td>Half Hitch</td>\n",
       "      <td>Advanced</td>\n",
       "    </tr>\n",
       "    <tr>\n",
       "      <th>37</th>\n",
       "      <td>Highlands Skiway</td>\n",
       "      <td>Novice</td>\n",
       "    </tr>\n",
       "    <tr>\n",
       "      <th>41</th>\n",
       "      <td>Nastar Ski Racing</td>\n",
       "      <td>Low Intermediate</td>\n",
       "    </tr>\n",
       "    <tr>\n",
       "      <th>45</th>\n",
       "      <td>Park101_Flattops</td>\n",
       "      <td>Novice</td>\n",
       "    </tr>\n",
       "    <tr>\n",
       "      <th>50</th>\n",
       "      <td>Utility Corridor</td>\n",
       "      <td>Low Intermediate</td>\n",
       "    </tr>\n",
       "    <tr>\n",
       "      <th>52</th>\n",
       "      <td>Camprobber Road</td>\n",
       "      <td>Novice</td>\n",
       "    </tr>\n",
       "    <tr>\n",
       "      <th>62</th>\n",
       "      <td>Paintbrush</td>\n",
       "      <td>Advanced</td>\n",
       "    </tr>\n",
       "    <tr>\n",
       "      <th>63</th>\n",
       "      <td>Primrose</td>\n",
       "      <td>Novice</td>\n",
       "    </tr>\n",
       "    <tr>\n",
       "      <th>69</th>\n",
       "      <td>Pitchfork</td>\n",
       "      <td>Intermediate</td>\n",
       "    </tr>\n",
       "    <tr>\n",
       "      <th>79</th>\n",
       "      <td>Pines Skiway</td>\n",
       "      <td>Novice</td>\n",
       "    </tr>\n",
       "    <tr>\n",
       "      <th>84</th>\n",
       "      <td>Anderson's Alley</td>\n",
       "      <td>Low Intermediate</td>\n",
       "    </tr>\n",
       "    <tr>\n",
       "      <th>86</th>\n",
       "      <td>Cabin Fever</td>\n",
       "      <td>Intermediate</td>\n",
       "    </tr>\n",
       "    <tr>\n",
       "      <th>92</th>\n",
       "      <td>Homefire</td>\n",
       "      <td>Low Intermediate</td>\n",
       "    </tr>\n",
       "    <tr>\n",
       "      <th>99</th>\n",
       "      <td>Tall Timber</td>\n",
       "      <td>Low Intermediate</td>\n",
       "    </tr>\n",
       "    <tr>\n",
       "      <th>112</th>\n",
       "      <td>Ridge Rider</td>\n",
       "      <td>Low Intermediate</td>\n",
       "    </tr>\n",
       "    <tr>\n",
       "      <th>116</th>\n",
       "      <td>Wapti</td>\n",
       "      <td>Advanced</td>\n",
       "    </tr>\n",
       "  </tbody>\n",
       "</table>\n",
       "</div>"
      ],
      "text/plain": [
       "                  trail_name     ability_level\n",
       "1                    Chair 2            Novice\n",
       "9         Stone Creek Chutes            Expert\n",
       "34   Half- Barrell Half Pipe  Low Intermediate\n",
       "35                Half Hitch          Advanced\n",
       "37          Highlands Skiway            Novice\n",
       "41         Nastar Ski Racing  Low Intermediate\n",
       "45          Park101_Flattops            Novice\n",
       "50          Utility Corridor  Low Intermediate\n",
       "52           Camprobber Road            Novice\n",
       "62                Paintbrush          Advanced\n",
       "63                  Primrose            Novice\n",
       "69                 Pitchfork      Intermediate\n",
       "79              Pines Skiway            Novice\n",
       "84          Anderson's Alley  Low Intermediate\n",
       "86               Cabin Fever      Intermediate\n",
       "92                  Homefire  Low Intermediate\n",
       "99               Tall Timber  Low Intermediate\n",
       "112              Ridge Rider  Low Intermediate\n",
       "116                    Wapti          Advanced"
      ]
     },
     "execution_count": 185,
     "metadata": {},
     "output_type": "execute_result"
    }
   ],
   "source": [
    "BC[['trail_name','ability_level']][(BC['class'] == 'color')]# & (BC['trail_name'].str.contains(\"H\"))]"
   ]
  },
  {
   "cell_type": "code",
   "execution_count": 153,
   "metadata": {},
   "outputs": [
    {
     "data": {
      "text/plain": [
       "20     Barrel Stave\n",
       "64          S. Star\n",
       "70    Stacker_lower\n",
       "Name: trail_name, dtype: object"
      ]
     },
     "execution_count": 153,
     "metadata": {},
     "output_type": "execute_result"
    }
   ],
   "source": [
    "BC['trail_name'][BC['trail_name'].str.contains('Sta')]"
   ]
  },
  {
   "cell_type": "code",
   "execution_count": 180,
   "metadata": {
    "scrolled": true
   },
   "outputs": [
    {
     "data": {
      "text/plain": [
       "['4 Get About It',\n",
       " 'Black Bear Glade',\n",
       " 'Corkscrew',\n",
       " 'Heads Up',\n",
       " 'Lower Stone Creek',\n",
       " 'Upper Goshawk',\n",
       " 'Upper Stone Creek']"
      ]
     },
     "execution_count": 180,
     "metadata": {},
     "output_type": "execute_result"
    }
   ],
   "source": [
    "missing_trails(trails_by_color['Beaver Creek']['bb'],BC)"
   ]
  },
  {
   "cell_type": "code",
   "execution_count": 161,
   "metadata": {},
   "outputs": [],
   "source": [
    "def add_trails_to_add(resort_df,resort):\n",
    "    '''\n",
    "    Inputs:\n",
    "    resort_df from resort_dfs (DataFrame)\n",
    "    resort from resorts (str)\n",
    "    Outputs:\n",
    "    resort_df w/ class column updated w/ trail names that didn't make the list (DataFrame)\n",
    "    '''\n",
    "    levels = ['green','blue','black','bb']\n",
    "    for level in levels:\n",
    "        resort_df['class'][resort_df['trail_name'].isin(trails_to_add[resort][level])] = level\n",
    "    return resort_df\n",
    "\n",
    "for resort_df,resort in zip(resort_dfs,resorts):\n",
    "    add_trails_to_add(resort_df,resort)"
   ]
  },
  {
   "cell_type": "code",
   "execution_count": null,
   "metadata": {
    "collapsed": true
   },
   "outputs": [],
   "source": []
  }
 ],
 "metadata": {
  "kernelspec": {
   "display_name": "Python 3",
   "language": "python",
   "name": "python3"
  },
  "language_info": {
   "codemirror_mode": {
    "name": "ipython",
    "version": 3
   },
   "file_extension": ".py",
   "mimetype": "text/x-python",
   "name": "python",
   "nbconvert_exporter": "python",
   "pygments_lexer": "ipython3",
   "version": "3.6.2"
  }
 },
 "nbformat": 4,
 "nbformat_minor": 2
}
